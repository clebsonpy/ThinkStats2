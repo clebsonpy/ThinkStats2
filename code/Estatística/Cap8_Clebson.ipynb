{
 "cells": [
  {
   "cell_type": "markdown",
   "metadata": {},
   "source": [
    "# Estimação(Cap8) - Pense Estatística, $2^o$ Edição.\n",
    "\n",
    "## Universidade Federal de Alagoas - UFAL\n",
    "## Centro de Tecnologia - CTEC\n",
    "## Programa de Pós-Graduação Recursos Hídricos e Saneamento - PPGRHS\n",
    "### Disciplina de Estatística\n",
    "\n",
    "Clebson Farias"
   ]
  },
  {
   "cell_type": "markdown",
   "metadata": {},
   "source": [
    "![](estimação.png)\n",
    "\n",
    "- **Estimação pontual**: Único valor numérico a um certo parâmetro populacional, a partir de estatísticas amostrais;\n",
    "- **Estimação por intervalos**:  Utiliza as informações contidas na amostra.\n",
    "\n",
    "### Propriedades dos estimadores\n",
    "- **Média** das estimativas seja igual ao valor populacional do parâmetro;\n",
    "- Estimadores consistentes;\n",
    "- Estimadores eficientes, a variância do estimador é menor do que qualquer outro estimador;\n",
    "- Estimador suficiente, usa toda a informação contida na amostra;\n",
    "\n",
    "### Estimadores\n",
    "Há uma variedade de métodos de estimação de parâmetros:\n",
    "\n",
    "- **Método dos momentos (MOM):** \n",
    "    - Método de estimação mais simples;\n",
    "    - Qualidade inferior e menos eficientes do que os estimadores de MVS, particularmente para distribuições de três ou mais parâmetros;\n",
    "    - Para pequenas amostras são comparáveis ou até mesmo superiores aos de outros estimadores.\n",
    "- **Método dos momentos-L (MML):**\n",
    "    - Estimadores de parâmetros comparáveis, em qualidade, àqueles produzidas pelo método da MVS;\n",
    "    - Para pequenas amostras são com alguma freqüência, mais acurados do que os de MVS.\n",
    "- **Método da máxima verossimilhança (MVS):**\n",
    "    - Considerado o método de estimação mais eficiente;\n",
    "    - É apenas assintótica, para pequenas amostras os  estimadores são de qualidade comparável ou inferior a outros métodos;\n",
    "    - Consistentes, suficientes e assintóticamente sem viés;"
   ]
  },
  {
   "cell_type": "code",
   "execution_count": 1,
   "metadata": {},
   "outputs": [],
   "source": [
    "from __future__ import print_function, division\n",
    "\n",
    "%matplotlib inline\n",
    "\n",
    "import numpy as np\n",
    "import pandas as pd\n",
    "\n",
    "import thinkstats2\n",
    "import thinkplot\n",
    "import estimation"
   ]
  },
  {
   "cell_type": "code",
   "execution_count": 2,
   "metadata": {},
   "outputs": [
    {
     "data": {
      "text/html": [
       "<div>\n",
       "<style scoped>\n",
       "    .dataframe tbody tr th:only-of-type {\n",
       "        vertical-align: middle;\n",
       "    }\n",
       "\n",
       "    .dataframe tbody tr th {\n",
       "        vertical-align: top;\n",
       "    }\n",
       "\n",
       "    .dataframe thead th {\n",
       "        text-align: right;\n",
       "    }\n",
       "</style>\n",
       "<table border=\"1\" class=\"dataframe\">\n",
       "  <thead>\n",
       "    <tr style=\"text-align: right;\">\n",
       "      <th></th>\n",
       "      <th>1455008</th>\n",
       "      <th>66231000</th>\n",
       "      <th>MANSO</th>\n",
       "    </tr>\n",
       "    <tr>\n",
       "      <th>Date</th>\n",
       "      <th></th>\n",
       "      <th></th>\n",
       "      <th></th>\n",
       "    </tr>\n",
       "  </thead>\n",
       "  <tbody>\n",
       "    <tr>\n",
       "      <th>1981-07-12</th>\n",
       "      <td>0.0</td>\n",
       "      <td>90.928</td>\n",
       "      <td>NaN</td>\n",
       "    </tr>\n",
       "    <tr>\n",
       "      <th>1981-07-13</th>\n",
       "      <td>0.0</td>\n",
       "      <td>94.663</td>\n",
       "      <td>NaN</td>\n",
       "    </tr>\n",
       "    <tr>\n",
       "      <th>1981-07-14</th>\n",
       "      <td>0.0</td>\n",
       "      <td>93.413</td>\n",
       "      <td>NaN</td>\n",
       "    </tr>\n",
       "    <tr>\n",
       "      <th>1981-07-15</th>\n",
       "      <td>0.0</td>\n",
       "      <td>92.168</td>\n",
       "      <td>NaN</td>\n",
       "    </tr>\n",
       "    <tr>\n",
       "      <th>1981-07-16</th>\n",
       "      <td>0.0</td>\n",
       "      <td>92.168</td>\n",
       "      <td>NaN</td>\n",
       "    </tr>\n",
       "  </tbody>\n",
       "</table>\n",
       "</div>"
      ],
      "text/plain": [
       "            1455008  66231000  MANSO\n",
       "Date                                \n",
       "1981-07-12      0.0    90.928    NaN\n",
       "1981-07-13      0.0    94.663    NaN\n",
       "1981-07-14      0.0    93.413    NaN\n",
       "1981-07-15      0.0    92.168    NaN\n",
       "1981-07-16      0.0    92.168    NaN"
      ]
     },
     "execution_count": 2,
     "metadata": {},
     "output_type": "execute_result"
    }
   ],
   "source": [
    "#Dados Manso\n",
    "dados = pd.read_csv(\"manso.csv\", index_col=0, parse_dates=True)\n",
    "dados.head()"
   ]
  },
  {
   "cell_type": "markdown",
   "metadata": {},
   "source": [
    "## O jogo da estimação"
   ]
  },
  {
   "cell_type": "code",
   "execution_count": 3,
   "metadata": {},
   "outputs": [
    {
     "data": {
      "text/plain": [
       "Date\n",
       "1982-01-01    243.0\n",
       "1982-01-02    329.0\n",
       "1982-01-03    290.0\n",
       "1982-01-04    300.0\n",
       "1982-01-05    386.0\n",
       "Name: MANSO, dtype: float64"
      ]
     },
     "execution_count": 3,
     "metadata": {},
     "output_type": "execute_result"
    }
   ],
   "source": [
    "#Deleta todas as linhas com valor NaN\n",
    "dados_naturais = dados.MANSO.dropna(axis=0, how='all')\n",
    "dados_naturais.head()"
   ]
  },
  {
   "cell_type": "markdown",
   "metadata": {},
   "source": [
    "![](boxplot.png)"
   ]
  },
  {
   "cell_type": "code",
   "execution_count": 4,
   "metadata": {},
   "outputs": [],
   "source": [
    "def remove_outlier(df):\n",
    "    Q1 = df.quantile(0.25)\n",
    "    Q3 = df.quantile(0.75)\n",
    "    IQR = Q3 - Q1\n",
    "    trueList = ~((df < (Q1 - 1.5 * IQR)) |(df > (Q3 + 1.5 * IQR)))\n",
    "    return df[trueList]\n",
    "\n",
    "dados_less_outliers = remove_outlier(dados_naturais)"
   ]
  },
  {
   "cell_type": "code",
   "execution_count": 5,
   "metadata": {},
   "outputs": [
    {
     "name": "stdout",
     "output_type": "stream",
     "text": [
      "Ínicio do ano hidrológico:  (8, 'AUG')\n"
     ]
    }
   ],
   "source": [
    "import calendar as cal\n",
    "\n",
    "def month_start_year_hydrologic(dados):\n",
    "    mean_month = [dados.loc[dados.index.month == i].mean() for i in range(1, 13)]\n",
    "    month_start_year_hydrologic = 1 + mean_month.index(min(mean_month))\n",
    "    month_start_year_hydrologic_abr = cal.month_abbr[month_start_year_hydrologic].upper()\n",
    "    month_num = month_start_year_hydrologic\n",
    "    month_abr = month_start_year_hydrologic_abr\n",
    "    \n",
    "    return month_num, month_abr\n",
    "\n",
    "month_start_year_hydrologic = month_start_year_hydrologic(dados_less_outliers)\n",
    "print('Ínicio do ano hidrológico: ', month_start_year_hydrologic)"
   ]
  },
  {
   "cell_type": "code",
   "execution_count": 6,
   "metadata": {},
   "outputs": [
    {
     "data": {
      "image/png": "[encoded data removed]",
      "text/plain": [
       "<Figure size 432x288 with 1 Axes>"
      ]
     },
     "metadata": {
      "needs_background": "light"
     },
     "output_type": "display_data"
    },
    {
     "data": {
      "image/png": "[encoded data removed]",
      "text/plain": [
       "<Figure size 576x432 with 1 Axes>"
      ]
     },
     "metadata": {
      "needs_background": "light"
     },
     "output_type": "display_data"
    },
    {
     "data": {
      "text/plain": [
       "<Figure size 576x432 with 0 Axes>"
      ]
     },
     "metadata": {},
     "output_type": "display_data"
    }
   ],
   "source": [
    "def annual(dados, month_start_year_hydrologic):\n",
    "    data_by_year_hydrologic = dados.groupby(pd.Grouper(freq='AS-%s' % month_start_year_hydrologic[1]))\n",
    "    max_vazao = data_by_year_hydrologic.max().values\n",
    "    idx_vazao = data_by_year_hydrologic.idxmax().values\n",
    "\n",
    "    peaks = pd.DataFrame(max_vazao, index=idx_vazao, columns=['Flow'])\n",
    "    return peaks\n",
    "\n",
    "\n",
    "max_annual = annual(dados_naturais, month_start_year_hydrologic).values\n",
    "max_less_outliers = annual(dados_less_outliers, month_start_year_hydrologic).values\n",
    "thinkplot.BoxPlot(x=max_annual, vert=False, showfliers=False)\n",
    "thinkplot.Show(title='Max Anual sem outliers')\n",
    "thinkplot.BoxPlot(x=max_annual, vert=False)\n",
    "thinkplot.Show(title='Max Anual')"
   ]
  },
  {
   "cell_type": "markdown",
   "metadata": {},
   "source": [
    "- $\\bar{x}$ é uma escolha para estimar $\\mu$;\n",
    "- Este processo é chamado de estimação;"
   ]
  },
  {
   "cell_type": "code",
   "execution_count": 7,
   "metadata": {},
   "outputs": [
    {
     "name": "stdout",
     "output_type": "stream",
     "text": [
      "Média máx anual:  1150.3333333333333\n",
      "Média máx anual sem outliers:  429.1111111111111\n"
     ]
    }
   ],
   "source": [
    "max_annual_mean = annual(dados_naturais, month_start_year_hydrologic).mean().values[0]\n",
    "print('Média máx anual: ', max_annual_mean)\n",
    "\n",
    "max_less_outliers_mean = annual(dados_less_outliers, month_start_year_hydrologic).mean().values[0]\n",
    "print('Média máx anual sem outliers: ', max_less_outliers_mean)"
   ]
  },
  {
   "cell_type": "markdown",
   "metadata": {},
   "source": [
    "- $\\bar{x}$ é uma boa alternativa para estimar $\\mu$ quando a amostra não apresenta outliers;\n",
    "- Alternativas quando a amostra apresenta outliers:\n",
    " - Uma é descartar os outliers;\n",
    " - Outra é usar a mediana;"
   ]
  },
  {
   "cell_type": "markdown",
   "metadata": {},
   "source": [
    "- O melhor estimador depende da circunstância;\n",
    " - Se existe outliers;\n",
    " - Depende do objetivo;\n",
    "   - Diminuir erros;\n",
    "   - Chance de obter a resposta certa;\n",
    "- Se não houver outliers, $\\bar{x}$ minimiza o erro médio quadrático ($MSE$):\n",
    "\n",
    "$MSE = \\frac{1}{m} \\sum (\\bar{x} − \\mu)^{2}$\n",
    "\n",
    "Onde:\n",
    "- $m$ é o número de iteração;\n",
    "- $\\bar{x}$ é a média da amostra;\n",
    "- $\\mu$ é a média estimada da amostra;"
   ]
  },
  {
   "cell_type": "code",
   "execution_count": 8,
   "metadata": {},
   "outputs": [
    {
     "name": "stdout",
     "output_type": "stream",
     "text": [
      "Experiment 1\n",
      "rmse xbar 4.597354949970337\n",
      "rmse median 5.551309238591687\n"
     ]
    }
   ],
   "source": [
    "# A função Estimate1 usa a distribuição normal;\n",
    "sigma = max_less_outliers.std()\n",
    "mean = max_less_outliers.mean()\n",
    "\n",
    "estimation.Estimate1(mu = mean, sigma = sigma, n = 25, m = 1000)"
   ]
  },
  {
   "cell_type": "code",
   "execution_count": 9,
   "metadata": {},
   "outputs": [
    {
     "name": "stdout",
     "output_type": "stream",
     "text": [
      "Experiment 1\n",
      "rmse xbar 48.664707749682115\n",
      "rmse median 62.08491673441877\n"
     ]
    }
   ],
   "source": [
    "sigma = max_annual.std()\n",
    "mean = max_annual.mean()\n",
    "\n",
    "estimation.Estimate1(mu = mean, sigma = sigma, n = 25, m = 1000)"
   ]
  },
  {
   "cell_type": "markdown",
   "metadata": {},
   "source": [
    "- Performance para 2 estimadores;\n",
    "- Isso confirma que $\\bar{x}$ minimiza o $MSE$;\n",
    "- Dependendo do objetivo, minimizar o $MSE$ não é a melhor estratégia:\n",
    "- Em alguns casos podemos usar o método de máxima verossimilhança ($MLE$) para aumentar a chance de obter a resposta certa; "
   ]
  },
  {
   "cell_type": "markdown",
   "metadata": {},
   "source": [
    "## Achar a variância"
   ]
  },
  {
   "cell_type": "markdown",
   "metadata": {},
   "source": [
    "- $S^{2}$ é uma escolhar para estimar $\\sigma^{2}$;\n",
    "\n",
    "$S^{2} = \\frac{1}{n} \\sum (x_{i} - \\bar{x})^{2}$\n",
    "\n",
    "- $S^{2}$ é adequado para amostra grande;\n",
    "- $S^{2}$ para amostra pequena, tende a ser baixo;\n",
    "    - Conhecido como estimador tendencioso;\n",
    "- Um estimador não é tendencioso quando o ser erro total, depois de muitas iterações, for 0;\n",
    "- Existe outra estatística não tendenciosa para estimar $\\sigma^{2}$;\n",
    "\n",
    "$S_{n-1}^{2} = \\frac{1}{n-1} \\sum (x_{i} - \\bar{x})^{2}$"
   ]
  },
  {
   "cell_type": "code",
   "execution_count": 19,
   "metadata": {},
   "outputs": [
    {
     "name": "stdout",
     "output_type": "stream",
     "text": [
      "Experiment 2\n",
      "mean error biased -5.375006661544056\n",
      "mean error unbiased -0.5753278411905287\n"
     ]
    }
   ],
   "source": [
    "# A função Estimate2 usa a distribuição normal;\n",
    "sigma = max_less_outliers.std()\n",
    "mean = max_less_outliers.mean()\n",
    "\n",
    "estimation.Estimate2(mu = mean, sigma = sigma, n = 100, m = 1000)"
   ]
  },
  {
   "cell_type": "code",
   "execution_count": 11,
   "metadata": {},
   "outputs": [
    {
     "name": "stdout",
     "output_type": "stream",
     "text": [
      "Experiment 2\n",
      "mean error biased -709.9187873413018\n",
      "mean error unbiased -106.03244512589407\n"
     ]
    }
   ],
   "source": [
    "# A função Estimate2 usa a distribuição normal;\n",
    "sigma =  max_annual.std()\n",
    "mean =  max_annual.mean()\n",
    "\n",
    "estimation.Estimate2(mu = mean, sigma = sigma, n = 100, m = 1000)"
   ]
  },
  {
   "cell_type": "markdown",
   "metadata": {},
   "source": [
    "- MeanError calcula a diferença médiaa entre o valor real e o valor estimado;\n",
    "- Ser tendencioso é uma propriedade do estimador;"
   ]
  },
  {
   "cell_type": "markdown",
   "metadata": {},
   "source": [
    "## Distribuições de amostragem"
   ]
  },
  {
   "cell_type": "markdown",
   "metadata": {},
   "source": [
    "- Variação na estimativa causada pela seleção aleatória é chamada erro de amostragem."
   ]
  },
  {
   "cell_type": "code",
   "execution_count": 18,
   "metadata": {},
   "outputs": [
    {
     "name": "stdout",
     "output_type": "stream",
     "text": [
      "standard error 5.741793992906953\n",
      "confidence interval (420.11036406763964, 438.18110535191533)\n",
      "Writing estimation1.pdf\n",
      "Writing estimation1.png\n"
     ]
    },
    {
     "data": {
      "text/plain": [
       "<Figure size 576x432 with 0 Axes>"
      ]
     },
     "metadata": {},
     "output_type": "display_data"
    }
   ],
   "source": [
    "sigma = max_less_outliers.std()\n",
    "mu = max_less_outliers.mean()\n",
    "n=15\n",
    "m=1000\n",
    "\n",
    "estimation.SimulateSample(mu, sigma, n, m)"
   ]
  },
  {
   "cell_type": "markdown",
   "metadata": {},
   "source": [
    "![](estimation.png)"
   ]
  },
  {
   "cell_type": "code",
   "execution_count": 21,
   "metadata": {},
   "outputs": [
    {
     "name": "stdout",
     "output_type": "stream",
     "text": [
      "standard error 64.77591476056575\n",
      "confidence interval (1043.3934053895564, 1254.301094155146)\n",
      "Writing estimation1.pdf\n",
      "Writing estimation1.png\n"
     ]
    },
    {
     "data": {
      "text/plain": [
       "<Figure size 576x432 with 0 Axes>"
      ]
     },
     "metadata": {},
     "output_type": "display_data"
    }
   ],
   "source": [
    "sigma =  max_annual.std()\n",
    "mu = max_annual.mean()\n",
    "n=15\n",
    "m=1000\n",
    "\n",
    "estimation.SimulateSample(mu, sigma, n, m)"
   ]
  },
  {
   "cell_type": "markdown",
   "metadata": {},
   "source": [
    "![](estimation1.png)"
   ]
  },
  {
   "cell_type": "markdown",
   "metadata": {},
   "source": [
    "- Distribuição Normal;\n",
    "- Distribuição amostral do estimador;\n",
    "- Duas maneiras mais comuns de resumir uma distribuição amostral;\n",
    "    - Erro padrão (SE): é a medida média que esperamos que o estimador seja;\n",
    "    - Intervalo de confiança (CI): é o intervalo que inclue uma parte da distribuição;\n",
    "- Erro padrão é frequentemente confundido com desvio padrão;\n",
    "- Intervalo de confiança e erro padrão são usados para quantificar erro de amostragem;\n",
    "- A distribuição amostral não leva em conta outros tipos de erros;"
   ]
  },
  {
   "cell_type": "markdown",
   "metadata": {},
   "source": [
    "## Viés de amostragem"
   ]
  },
  {
   "cell_type": "markdown",
   "metadata": {},
   "source": [
    "- É um proplema causado através das propriedades do processo de seleção:\n",
    "    - Dependendo do processo de seleção escolhido, podemos viesar a amostra;"
   ]
  },
  {
   "cell_type": "markdown",
   "metadata": {},
   "source": [
    "## Distribuições exponenciais"
   ]
  },
  {
   "cell_type": "markdown",
   "metadata": {},
   "source": [
    "- A média da distribuição exponencial é: $\\frac{1}{\\lambda}$\n",
    "- $L$ é um estimador de $\\lambda$\n",
    "\n",
    "$L = \\frac{1}{\\bar{x}}$\n",
    "\n",
    "- Se $\\bar{x}$ é robusto na presença de outliers, espera-se que $L$ tenha o mesmo problema;\n",
    "- Uma outra alternativa é a mediana, onde a médiana é: $\\frac{ln(2)}{m}$;\n",
    "\n",
    "$L_{m} = \\frac{ln(2)}{m}$\n",
    "\n",
    "Onde:\n",
    "- $m$ é a mediana da amostra"
   ]
  },
  {
   "cell_type": "code",
   "execution_count": 22,
   "metadata": {},
   "outputs": [
    {
     "name": "stdout",
     "output_type": "stream",
     "text": [
      "Experiment 3\n",
      "rmse L 242.03845701989894\n",
      "rmse Lm 329.70569301111374\n",
      "mean error L 45.231774238036735\n",
      "mean error Lm 54.21308470375839\n"
     ]
    }
   ],
   "source": [
    "mu = max_annual.mean()\n",
    "n = 30\n",
    "m = 1000\n",
    "\n",
    "estimation.Estimate3(mu, n, m)"
   ]
  },
  {
   "cell_type": "code",
   "execution_count": 23,
   "metadata": {},
   "outputs": [
    {
     "name": "stdout",
     "output_type": "stream",
     "text": [
      "Experiment 3\n",
      "rmse L 89.33428373425433\n",
      "rmse Lm 134.02454716788682\n",
      "mean error L 16.089723499424743\n",
      "mean error Lm 24.552561920323015\n"
     ]
    }
   ],
   "source": [
    "mu = max_less_outliers.mean()\n",
    "n = 30\n",
    "m = 1000\n",
    "\n",
    "estimation.Estimate3(mu, n, m)"
   ]
  }
 ],
 "metadata": {
  "kernelspec": {
   "display_name": "Python 3",
   "language": "python",
   "name": "python3"
  },
  "language_info": {
   "codemirror_mode": {
    "name": "ipython",
    "version": 3
   },
   "file_extension": ".py",
   "mimetype": "text/x-python",
   "name": "python",
   "nbconvert_exporter": "python",
   "pygments_lexer": "ipython3",
   "version": "3.6.7"
  }
 },
 "nbformat": 4,
 "nbformat_minor": 2
}
