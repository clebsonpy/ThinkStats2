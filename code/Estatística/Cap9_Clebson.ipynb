{
 "cells": [
  {
   "cell_type": "markdown",
   "metadata": {},
   "source": [
    "# Teste de Hipóteses - Pense Estatística, 2º Edição.\n",
    "\n",
    "## Universidade Federal de Alagoas - UFAL\n",
    "## Centro de Tecnologia - CTEC\n",
    "## Programa de Pós-Graduação Recursos Hídricos e Saneamento - PPGRHS\n",
    "### Disciplina de Estatística\n",
    "\n",
    "Clebson Farias"
   ]
  },
  {
   "cell_type": "code",
   "execution_count": 1,
   "metadata": {},
   "outputs": [],
   "source": [
    "from __future__ import print_function, division\n",
    "\n",
    "%matplotlib inline\n",
    "\n",
    "import numpy as np\n",
    "import pandas as pd\n",
    "import scipy.stats as stats\n",
    "import matplotlib.pyplot as plt\n",
    "import random\n",
    "\n",
    "import thinkstats2\n",
    "import thinkplot"
   ]
  },
  {
   "cell_type": "code",
   "execution_count": 76,
   "metadata": {},
   "outputs": [
    {
     "data": {
      "text/plain": [
       "1982-01-01    243.0\n",
       "1982-01-02    329.0\n",
       "1982-01-03    290.0\n",
       "1982-01-04    300.0\n",
       "1982-01-05    386.0\n",
       "Name: MANSO, dtype: float64"
      ]
     },
     "execution_count": 76,
     "metadata": {},
     "output_type": "execute_result"
    }
   ],
   "source": [
    "#Dados Manso\n",
    "dados = pd.read_csv(\"manso.csv\", index_col=0, parse_dates=True)\n",
    "dados_naturais = dados.MANSO.dropna(axis=0, how='all')\n",
    "dados_naturais.head()"
   ]
  },
  {
   "cell_type": "code",
   "execution_count": 84,
   "metadata": {},
   "outputs": [
    {
     "data": {
      "text/plain": [
       "1982-08-31     945.5\n",
       "1983-08-31     980.3\n",
       "1984-08-31    1696.6\n",
       "1985-08-31    1573.1\n",
       "1986-08-31    1032.7\n",
       "Freq: A-AUG, Name: 1455008, dtype: float64"
      ]
     },
     "execution_count": 84,
     "metadata": {},
     "output_type": "execute_result"
    }
   ],
   "source": [
    "dados_chuva = dados['1455008'].dropna(axis=0, how='all').groupby(pd.Grouper(freq='A-AUG')).sum()[1:-4]\n",
    "dados_chuva.head()"
   ]
  },
  {
   "cell_type": "code",
   "execution_count": 85,
   "metadata": {},
   "outputs": [
    {
     "data": {
      "text/html": [
       "<div>\n",
       "<style scoped>\n",
       "    .dataframe tbody tr th:only-of-type {\n",
       "        vertical-align: middle;\n",
       "    }\n",
       "\n",
       "    .dataframe tbody tr th {\n",
       "        vertical-align: top;\n",
       "    }\n",
       "\n",
       "    .dataframe thead th {\n",
       "        text-align: right;\n",
       "    }\n",
       "</style>\n",
       "<table border=\"1\" class=\"dataframe\">\n",
       "  <thead>\n",
       "    <tr style=\"text-align: right;\">\n",
       "      <th></th>\n",
       "      <th>Peaks</th>\n",
       "    </tr>\n",
       "  </thead>\n",
       "  <tbody>\n",
       "    <tr>\n",
       "      <th>1982-02-03</th>\n",
       "      <td>1126.0</td>\n",
       "    </tr>\n",
       "    <tr>\n",
       "      <th>1983-01-19</th>\n",
       "      <td>1193.0</td>\n",
       "    </tr>\n",
       "    <tr>\n",
       "      <th>1983-12-02</th>\n",
       "      <td>1118.0</td>\n",
       "    </tr>\n",
       "    <tr>\n",
       "      <th>1985-01-08</th>\n",
       "      <td>1157.0</td>\n",
       "    </tr>\n",
       "    <tr>\n",
       "      <th>1986-02-21</th>\n",
       "      <td>1088.0</td>\n",
       "    </tr>\n",
       "  </tbody>\n",
       "</table>\n",
       "</div>"
      ],
      "text/plain": [
       "             Peaks\n",
       "1982-02-03  1126.0\n",
       "1983-01-19  1193.0\n",
       "1983-12-02  1118.0\n",
       "1985-01-08  1157.0\n",
       "1986-02-21  1088.0"
      ]
     },
     "execution_count": 85,
     "metadata": {},
     "output_type": "execute_result"
    }
   ],
   "source": [
    "inicio_ano = 'AUG'\n",
    "def annual(dados, month_start_year_hydrologic):\n",
    "    data_by_year_hydrologic = dados.groupby(pd.Grouper(freq='AS-%s' % month_start_year_hydrologic))\n",
    "    max_vazao = data_by_year_hydrologic.max().values\n",
    "    idx_vazao = data_by_year_hydrologic.idxmax().values\n",
    "    \n",
    "    peaks = pd.DataFrame(max_vazao, index=idx_vazao, columns=['Peaks'])\n",
    "    return peaks\n",
    "\n",
    "def mean_annual(dados, month_start_year_hydrologic):\n",
    "    data_by_year_hydrologic = dados.groupby(pd.Grouper(freq='AS-%s' % month_start_year_hydrologic))\n",
    "    mean = data_by_year_hydrologic.max().values\n",
    "    \n",
    "    return pd.Series(mean, name = 'Mean')\n",
    "data_peaks = annual(dados_naturais, inicio_ano)[:-1]\n",
    "data_mean = mean_annual(dados_naturais, inicio_ano)[:-1]\n",
    "data_peaks.head()"
   ]
  },
  {
   "cell_type": "code",
   "execution_count": 36,
   "metadata": {},
   "outputs": [],
   "source": [
    "def remove_outlier(df):\n",
    "    Q1 = df.quantile(0.25)\n",
    "    Q3 = df.quantile(0.75)\n",
    "    IQR = Q3 - Q1\n",
    "    trueList = ~((df < (Q1 - 1.5 * IQR)) |(df > (Q3 + 1.5 * IQR)))\n",
    "    return df[trueList]\n",
    "\n",
    "dados_rmv = remove_outlier(peaks).dropna(axis=0, how='all')"
   ]
  },
  {
   "cell_type": "code",
   "execution_count": 37,
   "metadata": {},
   "outputs": [
    {
     "name": "stdout",
     "output_type": "stream",
     "text": [
      "Forma: -5.65;\n",
      "Localização: 502.211;\n",
      "Escala: 1.193\n"
     ]
    }
   ],
   "source": [
    "fit = stats.genextreme.fit(peaks.values)\n",
    "print('Forma: {};\\n\\\n",
    "Localização: {};\\n\\\n",
    "Escala: {}'.format(round(fit[0], 3), round(fit[1], 3), round(fit[2], 3)))"
   ]
  },
  {
   "cell_type": "code",
   "execution_count": 38,
   "metadata": {},
   "outputs": [
    {
     "data": {
      "text/plain": [
       "[<matplotlib.lines.Line2D at 0x7f63f95f0b38>]"
      ]
     },
     "execution_count": 38,
     "metadata": {},
     "output_type": "execute_result"
    },
    {
     "data": {
      "image/png": "[encoded data removed]",
      "text/plain": [
       "<Figure size 432x288 with 1 Axes>"
      ]
     },
     "metadata": {
      "needs_background": "light"
     },
     "output_type": "display_data"
    }
   ],
   "source": [
    "rvs = stats.genextreme(fit[0], fit[1], fit[2])\n",
    "xs2 = np.linspace(400, 1500, 100)\n",
    "ys2 = rvs.cdf(xs2)\n",
    "plt.plot(xs2, ys2)"
   ]
  },
  {
   "cell_type": "code",
   "execution_count": 40,
   "metadata": {},
   "outputs": [
    {
     "data": {
      "text/plain": [
       "(0.2808379750934478, 0.0, 1123.2693609802732)"
      ]
     },
     "execution_count": 40,
     "metadata": {},
     "output_type": "execute_result"
    }
   ],
   "source": [
    "shape, loc, scale = stats.lognorm.fit(data_mean, floc=0)\n",
    "shape, loc, scale"
   ]
  },
  {
   "cell_type": "code",
   "execution_count": 60,
   "metadata": {},
   "outputs": [
    {
     "data": {
      "text/plain": [
       "[<matplotlib.lines.Line2D at 0x7f63f94e4630>]"
      ]
     },
     "execution_count": 60,
     "metadata": {},
     "output_type": "execute_result"
    },
    {
     "data": {
      "image/png": "[encoded data removed]",
      "text/plain": [
       "<Figure size 432x288 with 1 Axes>"
      ]
     },
     "metadata": {
      "needs_background": "light"
     },
     "output_type": "display_data"
    }
   ],
   "source": [
    "rv = stats.lognorm(0.28, 0, 1123.269)\n",
    "xs = np.linspace(20, 2500, 34)\n",
    "ys = rv.cdf(xs)\n",
    "plt.plot(xs, ys)"
   ]
  },
  {
   "cell_type": "code",
   "execution_count": 42,
   "metadata": {},
   "outputs": [
    {
     "name": "stdout",
     "output_type": "stream",
     "text": [
      "Média:  1167.324 \n",
      "Desvio Padrãos:  330.911\n"
     ]
    }
   ],
   "source": [
    "mean = peaks.mean().values[0]\n",
    "std = peaks.std().values[0]\n",
    "print('Média: ', round(mean, 3), '\\nDesvio Padrãos: ', round(std, 3))"
   ]
  },
  {
   "cell_type": "markdown",
   "metadata": {},
   "source": [
    "## Teste de hipóteses classicas"
   ]
  },
  {
   "cell_type": "markdown",
   "metadata": {},
   "source": [
    "A questão fundamental que queremos abordar é se os efeitos que observamos numa amostra são prováveis de aparecer na população maior.\n",
    "\n",
    "- **Teoria da decisão:**\n",
    "    - Teste de hipótese nula de Fisher;\n",
    "    - Lema de Neyman-Pearson;\n",
    "    - Inferência Bayesiana.\n",
    "- Uma hipótese estatística é **uma afirmação sobre os parâmetros** de uma ou mais população;\n",
    "- Como representamos a população por meio de distribuições, podemos fazer afirmações sobre os seus parâmetros.\n",
    "- A hipótese envolve um ou mais parâmetros da distribuição;\n",
    "\n",
    "Passos:\n",
    "1. Quantificar o efeito aparante sobre a escolha do teste estatístico;\n",
    "2. Definir as hipótese a ser testada:\n",
    "    - **Hipótese nula**, é a hipótese que desejamos testar ($H_{0}$);\n",
    "    - **Hipótese Alternativa**, é a hipótese contrária da hipótese nula ($H_{1}$);\n",
    "3. Calcular o valor-p, qual a probalidade da hipótese nula ser verdadeira;\n",
    "4. Interpretar o resultado. Se o valor-p é baixo, o efeito é considerado estatisticamente significante.\n",
    "\n",
    "## Teste de hipótese\n",
    "5% é o valor limite para ser estatística significante. Se o p-value é inferior a 5%, o efeito é considerado significande; caso contrário não.\n",
    "- A escolha do limite do valor-p depende:\n",
    "    - Do teste de estatística;\n",
    "    - Do modelo de hipótese nula;        \n",
    "- O valor-p não deve ser considerado como métrica de precisão.\n",
    "- Valores de P entre 1% e 10% devem ser considerados limites.\n",
    "    - Valor-p < 1%, o efeito não foi por acaso;\n",
    "    - Valor-p > 10%, o efeito é plausivel;\n",
    "    - 1% < Valor-p < 10%, consideramos como limite; "
   ]
  },
  {
   "cell_type": "code",
   "execution_count": 43,
   "metadata": {},
   "outputs": [
    {
     "data": {
      "text/plain": [
       "0.539"
      ]
     },
     "execution_count": 43,
     "metadata": {},
     "output_type": "execute_result"
    }
   ],
   "source": [
    "class CoinTest(thinkstats2.HypothesisTest):\n",
    "\n",
    "    def TestStatistic(self, data):\n",
    "        heads, tails = data\n",
    "        test_stat = abs(heads - tails)\n",
    "        return test_stat\n",
    "\n",
    "    def RunModel(self):\n",
    "        heads, tails = self.data\n",
    "        n = heads + tails\n",
    "        sample = [random.choice('HT') for _ in range(n)]\n",
    "        hist = thinkstats2.Hist(sample)\n",
    "        data = hist['H'], hist['T']\n",
    "        return data\n",
    "\n",
    "ct = CoinTest((120, 110))\n",
    "pvalue = ct.PValue()\n",
    "pvalue"
   ]
  },
  {
   "cell_type": "markdown",
   "metadata": {},
   "source": [
    "## Testando diferença entre as médias"
   ]
  },
  {
   "cell_type": "code",
   "execution_count": 61,
   "metadata": {},
   "outputs": [],
   "source": [
    "class DiffMeansPermute(thinkstats2.HypothesisTest):\n",
    "\n",
    "    def TestStatistic(self, data):\n",
    "        group1, group2 = data\n",
    "        test_stat = abs(group1.mean() - group2.mean())\n",
    "        return test_stat\n",
    "\n",
    "    def MakeModel(self):\n",
    "        group1, group2 = self.data\n",
    "        self.n, self.m = len(group1), len(group2)\n",
    "        self.pool = np.hstack((group1, group2))\n",
    "\n",
    "    def RunModel(self):\n",
    "        np.random.shuffle(self.pool)\n",
    "        data = self.pool[:self.n], self.pool[self.n:]\n",
    "        return data"
   ]
  },
  {
   "cell_type": "code",
   "execution_count": 62,
   "metadata": {},
   "outputs": [
    {
     "data": {
      "text/plain": [
       "0.516"
      ]
     },
     "execution_count": 62,
     "metadata": {},
     "output_type": "execute_result"
    }
   ],
   "source": [
    "data = data_mean.values, xs\n",
    "ht = DiffMeansPermute(data)\n",
    "pvalue = ht.PValue()\n",
    "pvalue"
   ]
  },
  {
   "cell_type": "code",
   "execution_count": 64,
   "metadata": {},
   "outputs": [
    {
     "data": {
      "image/png": "[encoded data removed]",
      "text/plain": [
       "<Figure size 432x288 with 1 Axes>"
      ]
     },
     "metadata": {
      "needs_background": "light"
     },
     "output_type": "display_data"
    }
   ],
   "source": [
    "ht.PlotCdf()\n",
    "thinkplot.Config(xlabel='test statistic', ylabel='CDF')"
   ]
  },
  {
   "cell_type": "code",
   "execution_count": 63,
   "metadata": {},
   "outputs": [
    {
     "data": {
      "text/plain": [
       "0.504"
      ]
     },
     "execution_count": 63,
     "metadata": {},
     "output_type": "execute_result"
    }
   ],
   "source": [
    "data2 = data_peaks.values, xs2\n",
    "ht2 = DiffMeansPermute(data)\n",
    "pvalue2 = ht.PValue()\n",
    "pvalue2"
   ]
  },
  {
   "cell_type": "markdown",
   "metadata": {},
   "source": [
    "## Outras estatísticas de teste\n",
    "- Escolher o melhor estatística de teste depende do questionamento."
   ]
  },
  {
   "cell_type": "code",
   "execution_count": null,
   "metadata": {},
   "outputs": [],
   "source": [
    "class DiffMeansPermute(thinkstats2.HypothesisTest):\n",
    "\n",
    "    def TestStatistic(self, data):\n",
    "        group1, group2 = data\n",
    "        test_stat = abs(group1.std() - group2.std())\n",
    "        return test_stat\n",
    "\n",
    "    def MakeModel(self):\n",
    "        group1, group2 = self.data\n",
    "        self.n, self.m = len(group1), len(group2)\n",
    "        self.pool = np.hstack((group1, group2))\n",
    "\n",
    "    def RunModel(self):\n",
    "        np.random.shuffle(self.pool)\n",
    "        data = self.pool[:self.n], self.pool[self.n:]\n",
    "        return data"
   ]
  },
  {
   "cell_type": "code",
   "execution_count": 66,
   "metadata": {},
   "outputs": [
    {
     "data": {
      "text/plain": [
       "0.5"
      ]
     },
     "execution_count": 66,
     "metadata": {},
     "output_type": "execute_result"
    }
   ],
   "source": [
    "ht_std = DiffMeansPermute(data)\n",
    "pvalue_std = ht_std.PValue()\n",
    "pvalue_std"
   ]
  },
  {
   "cell_type": "markdown",
   "metadata": {},
   "source": [
    "## Testando uma correlação"
   ]
  },
  {
   "cell_type": "code",
   "execution_count": 69,
   "metadata": {},
   "outputs": [],
   "source": [
    "class CorrelationPermute(thinkstats2.HypothesisTest):\n",
    "\n",
    "    def TestStatistic(self, data):\n",
    "        xs, ys = data\n",
    "        test_stat = abs(thinkstats2.Corr(xs, ys))\n",
    "        return test_stat\n",
    "\n",
    "    def RunModel(self):\n",
    "        xs, ys = self.data\n",
    "        xs = np.random.permutation(xs)\n",
    "        return xs, ys"
   ]
  },
  {
   "cell_type": "code",
   "execution_count": 87,
   "metadata": {},
   "outputs": [
    {
     "data": {
      "text/plain": [
       "0.018"
      ]
     },
     "execution_count": 87,
     "metadata": {},
     "output_type": "execute_result"
    }
   ],
   "source": [
    "data = dados_chuva.values, data_mean.values\n",
    "ht = CorrelationPermute(data)\n",
    "pvalue = ht.PValue()\n",
    "pvalue"
   ]
  },
  {
   "cell_type": "code",
   "execution_count": 88,
   "metadata": {},
   "outputs": [],
   "source": [
    "class CorrelationPermute2(thinkstats2.HypothesisTest):\n",
    "\n",
    "    def TestStatistic(self, data):\n",
    "        xs, ys = data\n",
    "        test_stat = abs(thinkstats2.SpearmanCorr(xs, ys))\n",
    "        return test_stat\n",
    "\n",
    "    def RunModel(self):\n",
    "        xs, ys = self.data\n",
    "        xs = np.random.permutation(xs)\n",
    "        return xs, ys"
   ]
  },
  {
   "cell_type": "code",
   "execution_count": 97,
   "metadata": {},
   "outputs": [
    {
     "data": {
      "text/plain": [
       "0.006"
      ]
     },
     "execution_count": 97,
     "metadata": {},
     "output_type": "execute_result"
    }
   ],
   "source": [
    "data = dados_chuva.values, data_mean.values\n",
    "ht = CorrelationPermute2(data)\n",
    "pvalue = ht.PValue()\n",
    "pvalue"
   ]
  },
  {
   "cell_type": "markdown",
   "metadata": {},
   "source": [
    "## Chi-Quadrado"
   ]
  },
  {
   "cell_type": "code",
   "execution_count": 120,
   "metadata": {},
   "outputs": [],
   "source": [
    "class DiceTest(thinkstats2.HypothesisTest):\n",
    "\n",
    "    def TestStatistic(self, data):\n",
    "        self.observed, self.expected = data\n",
    "        test_stat = sum(abs(self.observed - self.expected))\n",
    "        return test_stat\n",
    "\n",
    "    def RunModel(self):\n",
    "        n = len(self.expected)\n",
    "        values = self.observed\n",
    "        rolls = np.random.choice(values, n, replace=True)\n",
    "\n",
    "        return rolls, self.expected"
   ]
  },
  {
   "cell_type": "code",
   "execution_count": 121,
   "metadata": {},
   "outputs": [
    {
     "data": {
      "text/plain": [
       "0.028"
      ]
     },
     "execution_count": 121,
     "metadata": {},
     "output_type": "execute_result"
    }
   ],
   "source": [
    "data = data_mean.values, xs\n",
    "ht = DiceTest(data)\n",
    "pvalue = ht.PValue()\n",
    "pvalue"
   ]
  },
  {
   "cell_type": "code",
   "execution_count": 91,
   "metadata": {},
   "outputs": [],
   "source": [
    "class DiceChiTest(thinkstats2.HypothesisTest):\n",
    "\n",
    "    def TestStatistic(self, data):\n",
    "        observed, expected = data\n",
    "        test_stat = sum((observed - expected)**2 / expected)\n",
    "        return test_stat\n",
    "    \n",
    "    def RunModel(self):\n",
    "        xs, ys = self.data\n",
    "        xs = np.random.permutation(xs)\n",
    "        return xs, ys"
   ]
  },
  {
   "cell_type": "code",
   "execution_count": 96,
   "metadata": {},
   "outputs": [
    {
     "data": {
      "text/plain": [
       "0.551"
      ]
     },
     "execution_count": 96,
     "metadata": {},
     "output_type": "execute_result"
    }
   ],
   "source": [
    "data = data_mean.values, xs\n",
    "ht = DiceChiTest(data)\n",
    "pvalue = ht.PValue()\n",
    "pvalue"
   ]
  },
  {
   "cell_type": "markdown",
   "metadata": {},
   "source": [
    "## 9"
   ]
  },
  {
   "cell_type": "code",
   "execution_count": 142,
   "metadata": {},
   "outputs": [],
   "source": [
    "class PregLengthTest(thinkstats2.HypothesisTest):\n",
    "    \n",
    "    def TestStatistic(self, data):\n",
    "        observado, esperado = data\n",
    "        stat = self.ChiSquared(observado) + self.ChiSquared(esperado)\n",
    "        return stat\n",
    "\n",
    "    def ChiSquared(self, lengths):\n",
    "        hist = thinkstats2.Hist(lengths)\n",
    "        observed = np.array(hist.Freqs(self.values))\n",
    "        expected = self.expected_probs * len(lengths)\n",
    "        stat = sum((observed - expected)**2 / expected)\n",
    "        return stat\n",
    "    \n",
    "    def MakeModel(self):\n",
    "        observado, esperado = self.data\n",
    "        self.n = len(observado)\n",
    "        self.pool = np.hstack((observado, esperado))\n",
    "\n",
    "        pmf = thinkstats2.Pmf(self.pool)\n",
    "        self.values = observado\n",
    "        self.expected_probs = np.array(pmf.Probs(self.values))\n",
    "\n",
    "    def RunModel(self):\n",
    "        np.random.shuffle(self.pool)\n",
    "        data = self.pool[:self.n], self.pool[self.n:]\n",
    "        return data"
   ]
  },
  {
   "cell_type": "code",
   "execution_count": 143,
   "metadata": {},
   "outputs": [
    {
     "data": {
      "text/plain": [
       "0.491"
      ]
     },
     "execution_count": 143,
     "metadata": {},
     "output_type": "execute_result"
    }
   ],
   "source": [
    "data = data_mean.values, xs\n",
    "ht = PregLengthTest(data)\n",
    "pvalue = ht.PValue()\n",
    "pvalue"
   ]
  },
  {
   "cell_type": "code",
   "execution_count": null,
   "metadata": {},
   "outputs": [],
   "source": []
  }
 ],
 "metadata": {
  "kernelspec": {
   "display_name": "Python 3",
   "language": "python",
   "name": "python3"
  },
  "language_info": {
   "codemirror_mode": {
    "name": "ipython",
    "version": 3
   },
   "file_extension": ".py",
   "mimetype": "text/x-python",
   "name": "python",
   "nbconvert_exporter": "python",
   "pygments_lexer": "ipython3",
   "version": "3.6.7"
  }
 },
 "nbformat": 4,
 "nbformat_minor": 2
}
