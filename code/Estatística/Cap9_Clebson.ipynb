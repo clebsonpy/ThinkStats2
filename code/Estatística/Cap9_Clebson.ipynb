{
 "cells": [
  {
   "cell_type": "markdown",
   "metadata": {},
   "source": [
    "# Teste de Hipóteses - Pense Estatística, 2º Edição.\n",
    "\n",
    "## Universidade Federal de Alagoas - UFAL\n",
    "## Centro de Tecnologia - CTEC\n",
    "## Programa de Pós-Graduação Recursos Hídricos e Saneamento - PPGRHS\n",
    "### Disciplina de Estatística\n",
    "\n",
    "Clebson Farias"
   ]
  },
  {
   "cell_type": "code",
   "execution_count": 1,
   "metadata": {},
   "outputs": [],
   "source": [
    "from __future__ import print_function, division\n",
    "\n",
    "%matplotlib inline\n",
    "\n",
    "import numpy as np\n",
    "import pandas as pd\n",
    "\n",
    "import thinkstats2\n",
    "import thinkplot"
   ]
  },
  {
   "cell_type": "markdown",
   "metadata": {},
   "source": [
    "## Teste de hipóteses classicas"
   ]
  },
  {
   "cell_type": "markdown",
   "metadata": {},
   "source": [
    "A questão fundamental que queremos abordar é se os efeitos que observamos numa amostra são prováveis de aparecer na população maior.\n",
    "\n",
    "- **Teoria da decisão:**\n",
    "    - Teste de hipótese nula de Fisher;\n",
    "    - Lema de Neyman-Pearson;\n",
    "    - Inferência Bayesiana.\n",
    "- Uma hipótese estatística é **uma afirmação sobre os parâmetros** de uma ou mais população;\n",
    "- Como representamos a população por meio de distribuições, podemos fazer afirmações sobre os seus parâmetros.\n",
    "- A hipótese envolve um ou mais parâmetros da distribuição;\n",
    "\n",
    "Passos:\n",
    "1. Quantificar o efeito aparante sobre a escolha do teste estatístico;\n",
    "2. Definir as hipótese a ser testada:\n",
    "    - **Hipótese nula**, é a hipótese que desejamos testar ($H_{0}$);\n",
    "    - **Hipótese Alternativa**, é a hipótese contrária da hipótese nula ($H_{1}$);\n",
    "3. Calcular o valor-p, qual a probalidade da hipótese nula ser verdadeira;\n",
    "4. Interpretar o resultado. Se o valor-p é baixo, o efeito é considerado estatisticamente significante.\n",
    "\n",
    "5% é o valor limite para ser estatística significante. Se o p-value é inferior a 5%, o efeito é considerado significande; caso contrário não.\n",
    "- A escolha do limite do valor-p depende:\n",
    "    - Do teste de estatística;\n",
    "    - Do modelo de hipótese nula;        \n",
    "- O valor-p não deve ser considerado como métrica de precisão.\n",
    "- Valores de P entre 1% e 10% devem ser considerados limites.\n",
    "    - Valor-p < 1%, o efeito não foi por acaso;\n",
    "    - Valor-p > 10%, o efeito é plausivel;\n",
    "    - 1% < Valor-p < 10%, consideramos como limite; "
   ]
  },
  {
   "cell_type": "code",
   "execution_count": null,
   "metadata": {},
   "outputs": [],
   "source": []
  }
 ],
 "metadata": {
  "kernelspec": {
   "display_name": "Python 3",
   "language": "python",
   "name": "python3"
  },
  "language_info": {
   "codemirror_mode": {
    "name": "ipython",
    "version": 3
   },
   "file_extension": ".py",
   "mimetype": "text/x-python",
   "name": "python",
   "nbconvert_exporter": "python",
   "pygments_lexer": "ipython3",
   "version": "3.6.7"
  }
 },
 "nbformat": 4,
 "nbformat_minor": 2
}
