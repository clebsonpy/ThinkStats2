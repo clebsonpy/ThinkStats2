{
 "cells": [
  {
   "cell_type": "markdown",
   "metadata": {},
   "source": [
    "# PENSE EM HIDROLOGIA ESTATÍSTICA\n",
    "### Universidade Federal de Alagoas - UFAL\n",
    "### Centro de Tecnologia - CTEC\n",
    "### Programa de Pós-Graduação em Recursos Hídricos e Saneamento - PPGRHS\n",
    "### Disciplina de Estatística\n",
    "\n",
    "#### WALLISSON MOREIRA DE CARVALHO\n",
    "##### BASEADO NOS LIVROS: THINK STATS 2ª ed. e Hidrologia Estatística"
   ]
  },
  {
   "cell_type": "markdown",
   "metadata": {},
   "source": [
    "### CAPÍTULO 0 - INFORMAÇÕES INICIAIS"
   ]
  },
  {
   "cell_type": "raw",
   "metadata": {},
   "source": [
    "Para a discussão de cada capítulo adiante serão utilizados os mesmos dados, tratando de um estudo de caso.\n",
    "◘ Caso em questão: \n",
    "    • Serão utilizadas as séries de vazões naturais (discutidas adiante) da UHE Três Marias, obtida através do Operador Nacional do Sistema Elétrico (ONS) e de vazões observadas a jusante do reservatório (código 41020002), obtida através do Hidroweb, com área de drenagem de 50816.4 km².\n",
    "    • Para efeito dos cálculos estatísticos, serão utilizados o maior período de dados em comum das duas séries de vazões após o ano em que foi inaugurada a UHE Três Marias (1962).\n",
    "    \n",
    "◘ Todo desenvolvimento será utilizando o python e suas bibliotecas derivadas."
   ]
  },
  {
   "cell_type": "markdown",
   "metadata": {},
   "source": [
    "##### IMPORTANDO AS BIBLIOTECAS"
   ]
  },
  {
   "cell_type": "code",
   "execution_count": 43,
   "metadata": {},
   "outputs": [],
   "source": [
    "import converte_dados #CÓDIGO PROPRIO DESENVOLVIDO PARA CONVERSÃO DOS DADOS HIDROWEB e ONS\n",
    "import pandas as pd\n",
    "import calendar\n",
    "import warnings\n",
    "warnings.filterwarnings(\"ignore\")\n",
    "import thinkplot\n",
    "import thinkstats2\n",
    "from thinkstats2 import Pmf\n",
    "from penseplot import gantt_plot\n",
    "import matplotlib.pyplot as plt\n",
    "import seaborn as sns\n",
    "sns.set()\n",
    "import numpy as np\n",
    "from math import ceil, log\n",
    "from scipy import stats\n",
    "from scipy.stats import genextreme as gev"
   ]
  },
  {
   "cell_type": "markdown",
   "metadata": {},
   "source": [
    "##### IMPORTANDO OS DADOS"
   ]
  },
  {
   "cell_type": "code",
   "execution_count": 2,
   "metadata": {
    "scrolled": true
   },
   "outputs": [],
   "source": [
    "dir_dados = 'D:\\\\OneDrive\\\\UFAL\\\\Mestrado\\\\Disciplinas\\\\Estatistica\\\\Jupyter\\\\Dados' #DIRETÓRIO DOS DADOS\n",
    "vazao_observada = converte_dados.hidroweb(dir_dados)\n",
    "vazao_observada = vazao_observada.rename(columns={vazao_observada.columns[0]:'Observada'})\n",
    "#CÓDIGO DOS DADOS REFERENTES À UHE TRÊS MARIAS É 156\n",
    "vazao_natural = converte_dados.ons(dir_dados+'\\\\ONS_Diarias_1931_2016.xls','156')\n",
    "vazao_natural = vazao_natural.rename(columns={vazao_natural.columns[0]:'Natural'})\n",
    "vazoes=pd.concat([vazao_observada,vazao_natural],axis=1)"
   ]
  },
  {
   "cell_type": "markdown",
   "metadata": {},
   "source": [
    "### CAPÍTULO 1 - ANÁLISE EXPLORATÓRIA DE DADOS"
   ]
  },
  {
   "cell_type": "raw",
   "metadata": {},
   "source": [
    "◘ Evidência anedótica - Baseada em dados não publicados e, usualmente, pessoais.\n",
    "    • Esse tipo de abordagem é geralmente falho, uma vez que trazem um número pequeno de observações, apresentam viés de seleção dos dados e são muitas vezes inexatos.\n",
    "    \n",
    "◘ Abordagem Estatística - São utilizados métodos para lidar com as incertezas e fornecer caminhos que auxiliem à tomada de decisões práticas.\n",
    "    • Os métodos estatísticos incluem a avaliação e quantificação das incertezas, realização de inferências baseadas em dados disponíveis, análises de frequência, e assim por diante.   \n",
    "    • No contexto da engenharia de recursos hídricos, os métodos estatísticos são inevitáveis, uma vez que as variáveis hidrológicas e hidroclimatológicas podem conter diversas fontes e tipos de incertezas associadas, principalmente, a sua variabilidade espacial e temporal.\n",
    "    • A maioria dos métodos estatísticos, se não todos, dependem, de algumas predefinições paramétricas de acordo com a natureza dos dados. Assim, torna-se essencial o uso de diferentes ferramentas estatísticas para extrair as informações dos dados."
   ]
  },
  {
   "cell_type": "raw",
   "metadata": {},
   "source": [
    "◘ Ferramentas Estatísticas, incluem:\n",
    "    1. Coleta de dados: Deve ser projetada para atender o objetivo de gerar inferências estatísticamente válidas;\n",
    "    2. Estatística descritiva: Gerar estatísticas que resumam os dados de forma concisa, e avaliar diferentes formas de visualização dos dados;\n",
    "    3. Análise exploratória dos dados: Busca por pradrões, diferenças e outras características que respondam às questões em que estamos interessados, ao mesmo tempo em que são identificadas as inconsistências e limitações;\n",
    "    4. Estimação: Responder questões sobre uma determinada população a partir dos dados coletados de uma amostra;\n",
    "    5. Testes de hipótese: Identificar os efeitos aparentes, como a diferença/similiridade entre dois grupos. Avaliação de um determinado efeito a partir de uma chance.\n",
    "\n",
    "◘ Estudos Estatísticos Transversais e Longitudinais:\n",
    "  •Os estudos transversais devem ser representativos, o que significa que cada membro da população-alvo deve ter uma chance igual de participar. "
   ]
  },
  {
   "cell_type": "raw",
   "metadata": {},
   "source": [
    "◘ \"A análise exploratória dos dados nunca poderá ser a histórica completa, no entanto nada mais serve como a pedra fundamental.\" Jhon Tukey\n",
    "    • A analise exploratória dos dados é todo o processo de organização, plotagem e resumos numéricos de um conjunto de dados. \n",
    "    • Explorar os dados é um passo crucial para sua análise completa.\n",
    "    • Exibir o conjunto de dados de maneira apropriada, pemite as primeiras conclusões sobre eles."
   ]
  },
  {
   "cell_type": "markdown",
   "metadata": {},
   "source": [
    "#### DataFrame"
   ]
  },
  {
   "cell_type": "raw",
   "metadata": {},
   "source": [
    "◘ Os dados foram importados utilizando a biblioteca Pandas, no formato DataFrame, onde cada coluna corresponde à uma série histórica de vazões e cada linha corresponde à um dado de vazão referente à data associada no Index do DataFrame. Como mostrado a seguir"
   ]
  },
  {
   "cell_type": "code",
   "execution_count": 3,
   "metadata": {},
   "outputs": [
    {
     "data": {
      "text/html": [
       "<div>\n",
       "<style scoped>\n",
       "    .dataframe tbody tr th:only-of-type {\n",
       "        vertical-align: middle;\n",
       "    }\n",
       "\n",
       "    .dataframe tbody tr th {\n",
       "        vertical-align: top;\n",
       "    }\n",
       "\n",
       "    .dataframe thead th {\n",
       "        text-align: right;\n",
       "    }\n",
       "</style>\n",
       "<table border=\"1\" class=\"dataframe\">\n",
       "  <thead>\n",
       "    <tr style=\"text-align: right;\">\n",
       "      <th></th>\n",
       "      <th>Observada</th>\n",
       "      <th>Natural</th>\n",
       "    </tr>\n",
       "  </thead>\n",
       "  <tbody>\n",
       "    <tr>\n",
       "      <th>1931-01-01</th>\n",
       "      <td>NaN</td>\n",
       "      <td>1293.0</td>\n",
       "    </tr>\n",
       "    <tr>\n",
       "      <th>1931-01-02</th>\n",
       "      <td>NaN</td>\n",
       "      <td>1265.0</td>\n",
       "    </tr>\n",
       "    <tr>\n",
       "      <th>1931-01-03</th>\n",
       "      <td>NaN</td>\n",
       "      <td>1139.0</td>\n",
       "    </tr>\n",
       "    <tr>\n",
       "      <th>1931-01-04</th>\n",
       "      <td>NaN</td>\n",
       "      <td>1056.0</td>\n",
       "    </tr>\n",
       "    <tr>\n",
       "      <th>1931-01-05</th>\n",
       "      <td>NaN</td>\n",
       "      <td>989.0</td>\n",
       "    </tr>\n",
       "  </tbody>\n",
       "</table>\n",
       "</div>"
      ],
      "text/plain": [
       "            Observada  Natural\n",
       "1931-01-01        NaN   1293.0\n",
       "1931-01-02        NaN   1265.0\n",
       "1931-01-03        NaN   1139.0\n",
       "1931-01-04        NaN   1056.0\n",
       "1931-01-05        NaN    989.0"
      ]
     },
     "execution_count": 3,
     "metadata": {},
     "output_type": "execute_result"
    }
   ],
   "source": [
    "#O atributo head retorna os primeiros n dados\n",
    "vazoes.head(n=5)"
   ]
  },
  {
   "cell_type": "code",
   "execution_count": 4,
   "metadata": {},
   "outputs": [
    {
     "name": "stdout",
     "output_type": "stream",
     "text": [
      "<class 'pandas.core.frame.DataFrame'>\n",
      "DatetimeIndex: 31412 entries, 1931-01-01 to 2016-12-31\n",
      "Data columns (total 2 columns):\n",
      "Observada    16893 non-null float64\n",
      "Natural      31412 non-null float64\n",
      "dtypes: float64(2)\n",
      "memory usage: 736.2 KB\n"
     ]
    }
   ],
   "source": [
    "#   O atibuto info retorna informações referentes ao dataframe, como o período total de dados, e a quantidade de dados \n",
    "# não nulos de cada coluna.\n",
    "vazoes.info()"
   ]
  },
  {
   "cell_type": "markdown",
   "metadata": {},
   "source": [
    "#### Gráfico de Gantt"
   ]
  },
  {
   "cell_type": "raw",
   "metadata": {},
   "source": [
    "◘ Outra forma de visualizar os dados pode ser através do Gráfico de Gantt.\n",
    "    • É uma ferramenta visual para controlar o cronograma de um projeto ou de uma programação de produção, ajudando a avaliar os prazos de entrega e os recursos críticos.\n",
    "    • No contexto da hidrologia, o Gráfico de Gantt pode ser utilizado para mostrar a disponibilidade de dados de uma série temporal, uma vez que o período marcado com uma determinada cor pode represendar quando há dados disponíveis e o período que não está marcado pode representar quando não há dados disponíveis."
   ]
  },
  {
   "cell_type": "code",
   "execution_count": 8,
   "metadata": {},
   "outputs": [
    {
     "data": {
      "application/vnd.plotly.v1+json": {
       "config": {
        "linkText": "Export to plot.ly",
        "plotlyServerURL": "https://plot.ly",
        "showLink": false
       },
       "data": [
        {
         "marker": {
          "color": "white"
         },
         "name": "",
         "showlegend": false,
         "type": "scatter",
         "uid": "b3ea5205-7f9a-4363-8aa4-c6d96b8d361d",
         "x": [
          "1957-1-01",
          "1957-12-31"
         ],
         "y": [
          1,
          1
         ]
        },
        {
         "marker": {
          "color": "white"
         },
         "name": "",
         "showlegend": false,
         "type": "scatter",
         "uid": "635d04e4-de02-4944-b7b6-e9858ec12b16",
         "x": [
          "1958-5-01",
          "1959-12-31"
         ],
         "y": [
          1,
          1
         ]
        },
        {
         "marker": {
          "color": "white"
         },
         "name": "",
         "showlegend": false,
         "type": "scatter",
         "uid": "910fc797-19fe-40bc-95f3-aea5788b18df",
         "x": [
          "1962-10-01",
          "1965-3-31"
         ],
         "y": [
          1,
          1
         ]
        },
        {
         "marker": {
          "color": "white"
         },
         "name": "",
         "showlegend": false,
         "type": "scatter",
         "uid": "31846214-cbab-4336-84c9-274d9c1e6c19",
         "x": [
          "1965-8-01",
          "1999-2-28"
         ],
         "y": [
          1,
          1
         ]
        },
        {
         "marker": {
          "color": "white"
         },
         "name": "",
         "showlegend": false,
         "type": "scatter",
         "uid": "f312247b-e6ae-42f5-8ca6-93478d7d870c",
         "x": [
          "1999-5-01",
          "2004-12-31"
         ],
         "y": [
          1,
          1
         ]
        },
        {
         "marker": {
          "color": "white"
         },
         "name": "",
         "showlegend": false,
         "type": "scatter",
         "uid": "735e4b46-8043-480f-a7c0-a4c9d37b6ace",
         "x": [
          "2005-2-01",
          "2006-10-31"
         ],
         "y": [
          1,
          1
         ]
        },
        {
         "marker": {
          "color": "white"
         },
         "name": "",
         "showlegend": false,
         "type": "scatter",
         "uid": "36f4d903-5b2c-4211-8e08-95c51a988a98",
         "x": [
          "1931-1-01",
          "2016-12-01"
         ],
         "y": [
          0,
          0
         ]
        },
        {
         "hoverinfo": "none",
         "marker": {
          "color": "rgb(0, 191, 255)",
          "size": 1
         },
         "name": "Periodo com Dados",
         "showlegend": true,
         "type": "scatter",
         "uid": "abe3ca3f-d87c-4a6d-aefb-b60ecee6e074",
         "x": [
          "1931-1-01",
          "1931-1-01"
         ],
         "y": [
          0,
          0
         ]
        }
       ],
       "layout": {
        "height": 400,
        "hovermode": "closest",
        "shapes": [
         {
          "fillcolor": "rgb(0, 191, 255)",
          "line": {
           "width": 0
          },
          "opacity": 1,
          "type": "rect",
          "x0": "1957-1-01",
          "x1": "1957-12-31",
          "xref": "x",
          "y0": 0.8,
          "y1": 1.2,
          "yref": "y"
         },
         {
          "fillcolor": "rgb(0, 191, 255)",
          "line": {
           "width": 0
          },
          "opacity": 1,
          "type": "rect",
          "x0": "1958-5-01",
          "x1": "1959-12-31",
          "xref": "x",
          "y0": 0.8,
          "y1": 1.2,
          "yref": "y"
         },
         {
          "fillcolor": "rgb(0, 191, 255)",
          "line": {
           "width": 0
          },
          "opacity": 1,
          "type": "rect",
          "x0": "1962-10-01",
          "x1": "1965-3-31",
          "xref": "x",
          "y0": 0.8,
          "y1": 1.2,
          "yref": "y"
         },
         {
          "fillcolor": "rgb(0, 191, 255)",
          "line": {
           "width": 0
          },
          "opacity": 1,
          "type": "rect",
          "x0": "1965-8-01",
          "x1": "1999-2-28",
          "xref": "x",
          "y0": 0.8,
          "y1": 1.2,
          "yref": "y"
         },
         {
          "fillcolor": "rgb(0, 191, 255)",
          "line": {
           "width": 0
          },
          "opacity": 1,
          "type": "rect",
          "x0": "1999-5-01",
          "x1": "2004-12-31",
          "xref": "x",
          "y0": 0.8,
          "y1": 1.2,
          "yref": "y"
         },
         {
          "fillcolor": "rgb(0, 191, 255)",
          "line": {
           "width": 0
          },
          "opacity": 1,
          "type": "rect",
          "x0": "2005-2-01",
          "x1": "2006-10-31",
          "xref": "x",
          "y0": 0.8,
          "y1": 1.2,
          "yref": "y"
         },
         {
          "fillcolor": "rgb(0, 191, 255)",
          "line": {
           "width": 0
          },
          "opacity": 1,
          "type": "rect",
          "x0": "1931-1-01",
          "x1": "2016-12-01",
          "xref": "x",
          "y0": -0.2,
          "y1": 0.2,
          "yref": "y"
         }
        ],
        "showlegend": true,
        "title": {
         "text": "Gantt Chart"
        },
        "width": 800,
        "xaxis": {
         "autorange": true,
         "range": [
          "1925-06-24 08:27:50.2194",
          "2022-06-09 15:32:09.7806"
         ],
         "rangeselector": {
          "buttons": [
           {
            "count": 7,
            "label": "1w",
            "step": "day",
            "stepmode": "backward"
           },
           {
            "count": 1,
            "label": "1m",
            "step": "month",
            "stepmode": "backward"
           },
           {
            "count": 6,
            "label": "6m",
            "step": "month",
            "stepmode": "backward"
           },
           {
            "count": 1,
            "label": "YTD",
            "step": "year",
            "stepmode": "todate"
           },
           {
            "count": 1,
            "label": "1y",
            "step": "year",
            "stepmode": "backward"
           },
           {
            "step": "all"
           }
          ]
         },
         "showgrid": true,
         "type": "date",
         "zeroline": false
        },
        "yaxis": {
         "autorange": false,
         "range": [
          -1,
          3
         ],
         "showgrid": true,
         "ticktext": [
          "Natural",
          "Observada"
         ],
         "tickvals": [
          0,
          1
         ],
         "type": "linear",
         "zeroline": false
        }
       }
      },
      "image/png": "[encoded data removed]",
      "text/html": [
       "<div>\n",
       "        \n",
       "        \n",
       "            <div id=\"648029d1-b415-4dc4-b13f-c008c0145ac9\" class=\"plotly-graph-div\" style=\"height:400px; width:800px;\"></div>\n",
       "            <script type=\"text/javascript\">\n",
       "                require([\"plotly\"], function(Plotly) {\n",
       "                    window.PLOTLYENV=window.PLOTLYENV || {};\n",
       "                    window.PLOTLYENV.BASE_URL='https://plot.ly';\n",
       "                    \n",
       "                if (document.getElementById(\"648029d1-b415-4dc4-b13f-c008c0145ac9\")) {\n",
       "                    Plotly.newPlot(\n",
       "                        '648029d1-b415-4dc4-b13f-c008c0145ac9',\n",
       "                        [{\"marker\": {\"color\": \"white\"}, \"name\": \"\", \"showlegend\": false, \"type\": \"scatter\", \"uid\": \"b3ea5205-7f9a-4363-8aa4-c6d96b8d361d\", \"x\": [\"1957-1-01\", \"1957-12-31\"], \"y\": [1, 1]}, {\"marker\": {\"color\": \"white\"}, \"name\": \"\", \"showlegend\": false, \"type\": \"scatter\", \"uid\": \"635d04e4-de02-4944-b7b6-e9858ec12b16\", \"x\": [\"1958-5-01\", \"1959-12-31\"], \"y\": [1, 1]}, {\"marker\": {\"color\": \"white\"}, \"name\": \"\", \"showlegend\": false, \"type\": \"scatter\", \"uid\": \"910fc797-19fe-40bc-95f3-aea5788b18df\", \"x\": [\"1962-10-01\", \"1965-3-31\"], \"y\": [1, 1]}, {\"marker\": {\"color\": \"white\"}, \"name\": \"\", \"showlegend\": false, \"type\": \"scatter\", \"uid\": \"31846214-cbab-4336-84c9-274d9c1e6c19\", \"x\": [\"1965-8-01\", \"1999-2-28\"], \"y\": [1, 1]}, {\"marker\": {\"color\": \"white\"}, \"name\": \"\", \"showlegend\": false, \"type\": \"scatter\", \"uid\": \"f312247b-e6ae-42f5-8ca6-93478d7d870c\", \"x\": [\"1999-5-01\", \"2004-12-31\"], \"y\": [1, 1]}, {\"marker\": {\"color\": \"white\"}, \"name\": \"\", \"showlegend\": false, \"type\": \"scatter\", \"uid\": \"735e4b46-8043-480f-a7c0-a4c9d37b6ace\", \"x\": [\"2005-2-01\", \"2006-10-31\"], \"y\": [1, 1]}, {\"marker\": {\"color\": \"white\"}, \"name\": \"\", \"showlegend\": false, \"type\": \"scatter\", \"uid\": \"36f4d903-5b2c-4211-8e08-95c51a988a98\", \"x\": [\"1931-1-01\", \"2016-12-01\"], \"y\": [0, 0]}, {\"hoverinfo\": \"none\", \"marker\": {\"color\": \"rgb(0, 191, 255)\", \"size\": 1}, \"name\": \"Periodo com Dados\", \"showlegend\": true, \"type\": \"scatter\", \"uid\": \"abe3ca3f-d87c-4a6d-aefb-b60ecee6e074\", \"x\": [\"1931-1-01\", \"1931-1-01\"], \"y\": [0, 0]}],\n",
       "                        {\"height\": 400, \"hovermode\": \"closest\", \"shapes\": [{\"fillcolor\": \"rgb(0, 191, 255)\", \"line\": {\"width\": 0}, \"opacity\": 1, \"type\": \"rect\", \"x0\": \"1957-1-01\", \"x1\": \"1957-12-31\", \"xref\": \"x\", \"y0\": 0.8, \"y1\": 1.2, \"yref\": \"y\"}, {\"fillcolor\": \"rgb(0, 191, 255)\", \"line\": {\"width\": 0}, \"opacity\": 1, \"type\": \"rect\", \"x0\": \"1958-5-01\", \"x1\": \"1959-12-31\", \"xref\": \"x\", \"y0\": 0.8, \"y1\": 1.2, \"yref\": \"y\"}, {\"fillcolor\": \"rgb(0, 191, 255)\", \"line\": {\"width\": 0}, \"opacity\": 1, \"type\": \"rect\", \"x0\": \"1962-10-01\", \"x1\": \"1965-3-31\", \"xref\": \"x\", \"y0\": 0.8, \"y1\": 1.2, \"yref\": \"y\"}, {\"fillcolor\": \"rgb(0, 191, 255)\", \"line\": {\"width\": 0}, \"opacity\": 1, \"type\": \"rect\", \"x0\": \"1965-8-01\", \"x1\": \"1999-2-28\", \"xref\": \"x\", \"y0\": 0.8, \"y1\": 1.2, \"yref\": \"y\"}, {\"fillcolor\": \"rgb(0, 191, 255)\", \"line\": {\"width\": 0}, \"opacity\": 1, \"type\": \"rect\", \"x0\": \"1999-5-01\", \"x1\": \"2004-12-31\", \"xref\": \"x\", \"y0\": 0.8, \"y1\": 1.2, \"yref\": \"y\"}, {\"fillcolor\": \"rgb(0, 191, 255)\", \"line\": {\"width\": 0}, \"opacity\": 1, \"type\": \"rect\", \"x0\": \"2005-2-01\", \"x1\": \"2006-10-31\", \"xref\": \"x\", \"y0\": 0.8, \"y1\": 1.2, \"yref\": \"y\"}, {\"fillcolor\": \"rgb(0, 191, 255)\", \"line\": {\"width\": 0}, \"opacity\": 1, \"type\": \"rect\", \"x0\": \"1931-1-01\", \"x1\": \"2016-12-01\", \"xref\": \"x\", \"y0\": -0.2, \"y1\": 0.2, \"yref\": \"y\"}], \"showlegend\": true, \"title\": {\"text\": \"Gantt Chart\"}, \"width\": 800, \"xaxis\": {\"rangeselector\": {\"buttons\": [{\"count\": 7, \"label\": \"1w\", \"step\": \"day\", \"stepmode\": \"backward\"}, {\"count\": 1, \"label\": \"1m\", \"step\": \"month\", \"stepmode\": \"backward\"}, {\"count\": 6, \"label\": \"6m\", \"step\": \"month\", \"stepmode\": \"backward\"}, {\"count\": 1, \"label\": \"YTD\", \"step\": \"year\", \"stepmode\": \"todate\"}, {\"count\": 1, \"label\": \"1y\", \"step\": \"year\", \"stepmode\": \"backward\"}, {\"step\": \"all\"}]}, \"showgrid\": true, \"type\": \"date\", \"zeroline\": false}, \"yaxis\": {\"autorange\": false, \"range\": [-1, 3], \"showgrid\": true, \"ticktext\": [\"Natural\", \"Observada\"], \"tickvals\": [0, 1], \"zeroline\": false}},\n",
       "                        {\"showLink\": false, \"linkText\": \"Export to plot.ly\", \"plotlyServerURL\": \"https://plot.ly\", \"responsive\": true}\n",
       "                    ).then(function(){\n",
       "                            \n",
       "var gd = document.getElementById('648029d1-b415-4dc4-b13f-c008c0145ac9');\n",
       "var x = new MutationObserver(function (mutations, observer) {{\n",
       "        var display = window.getComputedStyle(gd).display;\n",
       "        if (!display || display === 'none') {{\n",
       "            console.log([gd, 'removed!']);\n",
       "            Plotly.purge(gd);\n",
       "            observer.disconnect();\n",
       "        }}\n",
       "}});\n",
       "\n",
       "// Listen for the removal of the full notebook cells\n",
       "var notebookContainer = gd.closest('#notebook-container');\n",
       "if (notebookContainer) {{\n",
       "    x.observe(notebookContainer, {childList: true});\n",
       "}}\n",
       "\n",
       "// Listen for the clearing of the current output cell\n",
       "var outputEl = gd.closest('.output');\n",
       "if (outputEl) {{\n",
       "    x.observe(outputEl, {childList: true});\n",
       "}}\n",
       "\n",
       "                        })\n",
       "                };\n",
       "                });\n",
       "            </script>\n",
       "        </div>"
      ]
     },
     "metadata": {},
     "output_type": "display_data"
    }
   ],
   "source": [
    "gantt_plot(vazoes)"
   ]
  },
  {
   "cell_type": "markdown",
   "metadata": {},
   "source": [
    "#### Seleção"
   ]
  },
  {
   "cell_type": "raw",
   "metadata": {},
   "source": [
    "• Através do Gráfico de Gantt, podemos notar que o maior período em comum de dados entre as duas séries, sem falhas e após a construção da UHE,  está entre Agosto de 1965 e Fevereiro de 1999. \n",
    "• Logo selecionaremos uma amostra de cada uma dessas séries dentro deste período, nomearemos de vazoes_sf (Vazões sem falhas)"
   ]
  },
  {
   "cell_type": "code",
   "execution_count": 9,
   "metadata": {},
   "outputs": [
    {
     "name": "stdout",
     "output_type": "stream",
     "text": [
      "<class 'pandas.core.frame.DataFrame'>\n",
      "DatetimeIndex: 12442 entries, 1965-01-08 to 1999-01-31\n",
      "Data columns (total 2 columns):\n",
      "Observada    12342 non-null float64\n",
      "Natural      12442 non-null float64\n",
      "dtypes: float64(2)\n",
      "memory usage: 291.6 KB\n"
     ]
    }
   ],
   "source": [
    "inicio = pd.to_datetime(['01/08/1965'])\n",
    "fim = pd.to_datetime(['31/01/1999'])\n",
    "vazoes_sf=vazoes.loc[inicio[0]:fim[0]]\n",
    "vazoes_sf.info()"
   ]
  },
  {
   "cell_type": "raw",
   "metadata": {},
   "source": [
    "• Ao utilizar o atributo info, notamos que o DataFrame possui 12413 registros não nulos nas duas séries para o mesmo períodos de dados.\n",
    "• Como trata-se de séries temporais de vazão, podemos plotar os dados de vazão ao longo do tempo (hidrograma)"
   ]
  },
  {
   "cell_type": "code",
   "execution_count": 10,
   "metadata": {
    "scrolled": false
   },
   "outputs": [
    {
     "data": {
      "image/png": "[encoded data removed]",
      "text/plain": [
       "<Figure size 864x360 with 1 Axes>"
      ]
     },
     "metadata": {
      "needs_background": "light"
     },
     "output_type": "display_data"
    }
   ],
   "source": [
    "_=vazoes_sf.plot(figsize=(12,5))"
   ]
  },
  {
   "cell_type": "markdown",
   "metadata": {},
   "source": [
    "### CAPÍTULO 2 - DISTRIBUIÇÕES"
   ]
  },
  {
   "cell_type": "raw",
   "metadata": {},
   "source": [
    "◘ Um dos melhores caminhos para descrever uma variável é relatar os valores que aparecem num conjunto de dados e quantas vezes cada valor aparece. A distribuição dos dados é uma das cinco características que são tipicamente mais importantes de um conjunto de dados.\n",
    "    • A representação mais comum de uma distribuição é através do histograma, que é um gráfico que mostra a frequência de cada valor. i.e. o número de vezes que cada valor aparece.\n",
    "    • A base de cada retângulo de um histograma representa uma classe. A altura de cada retângulo representa a quantidade ou a frequência absoluta com que o valor da classe ocorre no conjunto de dados para classes.\n",
    "\n",
    "◘ Características dos dados\n",
    "    • 1. Centro: Um valor que representa onde é o meio dos conjuntos conjuntos.\n",
    "    • 2. Variação: Uma medida quantitativa que representa a variação do conjunto de dados.\n",
    "    • 3. Distribuição: A natureza ou forma de disperção dos dados em um intervalo de valores.\n",
    "    • 4. Outliers: Valores que estão muito longe da vasta maioria dos dados de um conjunto.\n",
    "    • 5. Tempo: Qualquer alteração nas características dos dados ao longo do tempo."
   ]
  },
  {
   "cell_type": "markdown",
   "metadata": {},
   "source": [
    "##### Aplicações"
   ]
  },
  {
   "cell_type": "code",
   "execution_count": 12,
   "metadata": {
    "scrolled": true
   },
   "outputs": [
    {
     "data": {
      "image/png": "[encoded data removed]",
      "text/plain": [
       "<Figure size 432x288 with 1 Axes>"
      ]
     },
     "metadata": {},
     "output_type": "display_data"
    }
   ],
   "source": [
    "# Plotando histograma Vazões Naturais\n",
    "_ = plt.hist(vazoes_sf['Natural'])\n",
    "\n",
    "# Label axes\n",
    "_ = plt.xlabel('Vazoes (m³/s)')\n",
    "_ = plt.ylabel('Frequência')\n",
    "\n",
    "# Show histogram\n",
    "plt.show()"
   ]
  },
  {
   "cell_type": "raw",
   "metadata": {},
   "source": [
    "• O histograma criado anteriormente tem 10 classes. Esse é  padrão do matplotlib.\n",
    "• A \"regra da raiz quadrada\" é uma regra geral comumente usada para escolher o número de classes de um histograma: o número de classes é a raiz quadrada da quantidade de dados.\n",
    "• Podemos especificar o número de classes usando a palavra chave \"bins\" como argumento em pl.hist()"
   ]
  },
  {
   "cell_type": "raw",
   "metadata": {},
   "source": [
    "• Notamos que das 10 classes, apenas 5 classes podem ser percebidas no gráfico, devido a escala do eixo das frequências, isso acontece devido a existência de outliers."
   ]
  },
  {
   "cell_type": "code",
   "execution_count": 13,
   "metadata": {},
   "outputs": [
    {
     "data": {
      "image/png": "[encoded data removed]",
      "text/plain": [
       "<Figure size 432x288 with 1 Axes>"
      ]
     },
     "metadata": {},
     "output_type": "display_data"
    }
   ],
   "source": [
    "# Compute number of data points: n_data\n",
    "n_data=len(vazoes_sf['Natural'])\n",
    "# Number of bins is the square root of number of data points: n_bins\n",
    "n_bins=np.sqrt(n_data)\n",
    "# Convert number of bins to integer: n_bins\n",
    "n_bins=int(n_bins)\n",
    "# Plot the histogram\n",
    "_ = plt.hist(vazoes_sf['Natural'],bins=n_bins)\n",
    "# Label axes\n",
    "_ = plt.xlabel('Vazoes (m³/s)')\n",
    "_ = plt.ylabel('Frequência')\n",
    "# Show histogram\n",
    "plt.show()"
   ]
  },
  {
   "cell_type": "raw",
   "metadata": {},
   "source": [
    "• Uma distribuição é pode assumir aproximadamente a forma de sino, que é a forma da distribuição normal, também chamada de distribuição gaussiana. Mas ao contrário de uma distribuição normal verdadeira, a distribuição dos dados de vazões naturais é assimétrica, pois tem uma cauda que se estende para a direita.\n",
    "• Outra formato de distribuição é a uniforme, que é quando todas as classes possuem a mesma frequência."
   ]
  },
  {
   "cell_type": "raw",
   "metadata": {},
   "source": [
    "• A partir do objetido de entender o comportamento de um conjunto de dados, o histograma é ótimo! No entanto, uma grande desvantagem é que o mesmo conjunto de dados pode parecer diferente dependendo de quantas classes foram escolhidas e a escolha desse número é, muitas vezes, arbitrária. Isso leva ao viés de classes; podendo levar à diferentes interpretações sobre um conjunto de dados para diferentes escolhas de números de classes.\n",
    "• Além disso, o histograma não plota TODOS os dados. A divisão de dados em classes leva à perda dos valores atuais e pode ser prejudicado devido à presença de outliers, como é o caso em questão."
   ]
  },
  {
   "cell_type": "markdown",
   "metadata": {},
   "source": [
    "#### Bee Swarm Plot (Swarm Plot)"
   ]
  },
  {
   "cell_type": "raw",
   "metadata": {},
   "source": [
    "• Para remediar os problemas trazidos pelo histograma, pode ser utilizado o swarm plot.\n",
    "• No swarm plot, a posição ao longo do eixo y trás a informaçã quantitativa. Os dados podem se espalhar no eixo x apenas para tornar-se visíveis, mas sua localização precisa ao longo do eixo x não é importante. \n",
    "• Notavelmente, não este gráfico não apresenta o viés de classes e todos os dados são exibidos.\n",
    "• O Swarm Plot é mais detalhado que o histograma, mas sem muita complexidade visual."
   ]
  },
  {
   "cell_type": "code",
   "execution_count": 14,
   "metadata": {},
   "outputs": [],
   "source": [
    "medias=vazoes.groupby(by=[vazoes.index.year]).mean()"
   ]
  },
  {
   "cell_type": "code",
   "execution_count": 15,
   "metadata": {
    "scrolled": true
   },
   "outputs": [
    {
     "data": {
      "image/png": "[encoded data removed]",
      "text/plain": [
       "<Figure size 432x288 with 1 Axes>"
      ]
     },
     "metadata": {},
     "output_type": "display_data"
    }
   ],
   "source": [
    "# Create bee swarm plot with Seaborn's default settings\n",
    "_ = sns.swarmplot(data=medias)\n",
    "\n",
    "# Label the axes\n",
    "_ = plt.xlabel('Séries')\n",
    "_ = plt.ylabel('Vazão (m³/s)')\n",
    "# Show the plot\n",
    "plt.show()"
   ]
  },
  {
   "cell_type": "raw",
   "metadata": {},
   "source": [
    "• Anteriormente utilizamos o Swarm Plot para vazões médias anuais. No entanto esse gráfico tem uma eficácia limitada. Por exemplo, se utilizarmos uma amostra com muitos dados, as pontos irão se sobrepor, ofuscando uns aos outros. \n",
    "• Neste caso, usar o Swarm Plot não é a melhor opção, como mostrado a seguir, onde tentamos plotar as vazões médias mensais e o gráfico tornou-se confuso."
   ]
  },
  {
   "cell_type": "code",
   "execution_count": 16,
   "metadata": {},
   "outputs": [
    {
     "data": {
      "image/png": "[encoded data removed]",
      "text/plain": [
       "<Figure size 432x288 with 1 Axes>"
      ]
     },
     "metadata": {},
     "output_type": "display_data"
    }
   ],
   "source": [
    "medias=vazoes.groupby(by=[vazoes.index.year,vazoes.index.month]).mean()\n",
    "# Create bee swarm plot with Seaborn's default settings\n",
    "_ = sns.swarmplot(data=medias)\n",
    "\n",
    "# Label the axes\n",
    "_ = plt.xlabel('Séries')\n",
    "_ = plt.ylabel('Vazão (m³/s)')\n",
    "# Show the plot\n",
    "plt.show()"
   ]
  },
  {
   "cell_type": "markdown",
   "metadata": {},
   "source": [
    "#### Estatísticas Resumo"
   ]
  },
  {
   "cell_type": "raw",
   "metadata": {},
   "source": [
    "Vimos que histogramas e bee swarm plots podem fornecer resumos efetivos de dados. Mas muitas vezes gostaríamos de resumir os dados ainda mais sucintamente, digamos que em um ou dois números. Esses resumos numéricos não substituem os métodos gráficos que estamos empregando, mas ocupam muito menos espaço.\n",
    "\n",
    "Algumas das características que podemos querer mostrar são:\n",
    "\n",
    "• Média - A média é uma estatística útil e fácil de calcular, mas um grande problema é que ela é fortemente influenciada por outliers, i.e. dados cujo valor é muito menor ou menor do que a maioria dos dados restantes.\n",
    "\n",
    "• Mediana - A mediana é o valor médio de um conjunto de dados. Como ela é derivada do agrupamento de dados classificados e não dos valores dos dados, a mediana é imune a dados que assumem valores extremos. A mediana é um nome especial para o 50º percentil; isto quer dizer que, 50% dos dados são menores que a mediana.\n",
    "       \n",
    "• Percentil - O Xº percentil é o valor do dado que é maior que X% dos dados classificados."
   ]
  },
  {
   "cell_type": "markdown",
   "metadata": {},
   "source": [
    "#### Box plots"
   ]
  },
  {
   "cell_type": "raw",
   "metadata": {},
   "source": [
    "Exibe alguns dos principais recursos de um conjunto de dados com base nos percentis.\n",
    "• O centro da caixa é a mediana (percentil 50 dos dados). \n",
    "• As bordas das caixas são o 25º e o 75º percentil.\n",
    "• A altura total da caixa contém o meio 50% dos dados e é chamada de intervalo interquartil (IQR)\n",
    "• Os bigodes estendem uma distância de 1,5 vezes o IQR, ou até a extensão dos dados, o que for mais extremo.\n",
    "• Finalmente, quaisquer pontos fora dos bigodes são plotados como pontos individuais, conhecidos como outliers.\n",
    "\n",
    "É importante lembrar que um outlier não é necessariamente um ponto de dados errôneo. Você não deve presumir que um outlier é um dado errado, a menos que você saiba o motivo. Como não existam evidências, esses outliers não são errôneos, são apenas pontos de dados com valores extremos.\n",
    "\n",
    "• Quando o número de dados é muito grande e os swarmp plots são muito confusos, os box plots, são, também uma ótima alternativa."
   ]
  },
  {
   "cell_type": "code",
   "execution_count": 17,
   "metadata": {},
   "outputs": [
    {
     "data": {
      "image/png": "[encoded data removed]",
      "text/plain": [
       "<Figure size 432x288 with 1 Axes>"
      ]
     },
     "metadata": {},
     "output_type": "display_data"
    }
   ],
   "source": [
    "# Create box plot with Seaborn's default settings\n",
    "_ = sns.boxplot(data=vazoes_sf)\n",
    "\n",
    "# Label the axes\n",
    "_ = plt.xlabel('Séries')\n",
    "_ = plt.ylabel('Vazão (m³/s)')\n",
    "\n",
    "\n",
    "# Show the plot\n",
    "plt.show()"
   ]
  },
  {
   "cell_type": "raw",
   "metadata": {},
   "source": [
    "• Os boxplots acima reforçam o que foi notado anteriormente no cálculo dos histogramas, nas séries de vazões há uma forte presença de outliers."
   ]
  },
  {
   "cell_type": "markdown",
   "metadata": {},
   "source": [
    "### CAPÍTULO 3 - Funções Massa de Probabilidade"
   ]
  },
  {
   "cell_type": "raw",
   "metadata": {},
   "source": [
    "◘ A função massa de probabilidade (FMP) é uma função que associa a cada possível ocorrência de uma variável aleatória discreta uma probabilidade.\n",
    "    • Variável Discreta: Seja X uma variável aleatória. Se o número de valores possíveis de X for enumerável (finito ou infinito), dizemos que X é uma variável aleatória discreta. Isto é, os possíveis valores de X podem ser postos em lista como x1,x2.    \n",
    "    • A função massa de probabilidades pode ser obtida através de uma distribuição de frequências. Para se obter as probabilidades através das frequências, nós às dividimos por n. Processo chamado de normalização.\n",
    "    • Como a FMP é normalizada a probabilidade total é 1.\n"
   ]
  },
  {
   "cell_type": "markdown",
   "metadata": {},
   "source": [
    "#### Aplicação"
   ]
  },
  {
   "cell_type": "raw",
   "metadata": {},
   "source": [
    "◘ Para aplicação na hidrologia, podemos considerar um valor de risco hipotético e contar quantas vezes a vazão é maior ou igual a ele acontece num ano.\n",
    "    • Podemos considerar a vazão de risco como a Q1% das vazões naturais."
   ]
  },
  {
   "cell_type": "code",
   "execution_count": 18,
   "metadata": {},
   "outputs": [
    {
     "data": {
      "text/html": [
       "<div>\n",
       "<style scoped>\n",
       "    .dataframe tbody tr th:only-of-type {\n",
       "        vertical-align: middle;\n",
       "    }\n",
       "\n",
       "    .dataframe tbody tr th {\n",
       "        vertical-align: top;\n",
       "    }\n",
       "\n",
       "    .dataframe thead th {\n",
       "        text-align: right;\n",
       "    }\n",
       "</style>\n",
       "<table border=\"1\" class=\"dataframe\">\n",
       "  <thead>\n",
       "    <tr style=\"text-align: right;\">\n",
       "      <th></th>\n",
       "      <th>Natural</th>\n",
       "      <th>Observada</th>\n",
       "    </tr>\n",
       "  </thead>\n",
       "  <tbody>\n",
       "    <tr>\n",
       "      <th>1965-12-31</th>\n",
       "      <td>3</td>\n",
       "      <td>0</td>\n",
       "    </tr>\n",
       "    <tr>\n",
       "      <th>1966-12-31</th>\n",
       "      <td>5</td>\n",
       "      <td>0</td>\n",
       "    </tr>\n",
       "    <tr>\n",
       "      <th>1967-12-31</th>\n",
       "      <td>0</td>\n",
       "      <td>0</td>\n",
       "    </tr>\n",
       "    <tr>\n",
       "      <th>1968-12-31</th>\n",
       "      <td>0</td>\n",
       "      <td>0</td>\n",
       "    </tr>\n",
       "    <tr>\n",
       "      <th>1969-12-31</th>\n",
       "      <td>0</td>\n",
       "      <td>0</td>\n",
       "    </tr>\n",
       "  </tbody>\n",
       "</table>\n",
       "</div>"
      ],
      "text/plain": [
       "            Natural  Observada\n",
       "1965-12-31        3          0\n",
       "1966-12-31        5          0\n",
       "1967-12-31        0          0\n",
       "1968-12-31        0          0\n",
       "1969-12-31        0          0"
      ]
     },
     "execution_count": 18,
     "metadata": {},
     "output_type": "execute_result"
    }
   ],
   "source": [
    "Qrisco = vazoes_sf['Natural'].quantile(0.99)\n",
    "vazoes_pmf = pd.DataFrame()\n",
    "vazoes_pmf['Natural'] = vazoes_sf['Natural'].apply(lambda x: 1 if x>=Qrisco else 0)\n",
    "vazoes_pmf['Observada'] = vazoes_sf['Observada'].apply(lambda x: 1 if x>=Qrisco else 0)\n",
    "vazoes_pmf=vazoes_pmf.groupby(pd.Grouper(freq='1A')).sum()\n",
    "vazoes_pmf.head()"
   ]
  },
  {
   "cell_type": "code",
   "execution_count": 19,
   "metadata": {},
   "outputs": [],
   "source": [
    "pmf_natural = Pmf(vazoes_pmf['Natural'],label='Natural')\n",
    "pmf_observada = Pmf(vazoes_pmf['Observada'],label='Observada')"
   ]
  },
  {
   "cell_type": "raw",
   "metadata": {},
   "source": [
    "• Podemos por exemplo identificar qual a probabilidade das vazões médias diárias não superarem a vazão de risco em um ano."
   ]
  },
  {
   "cell_type": "code",
   "execution_count": 20,
   "metadata": {},
   "outputs": [
    {
     "name": "stdout",
     "output_type": "stream",
     "text": [
      "A probabilidade para vazões naturais é de 57.14%, no caso das observadas é de 88.57%\n"
     ]
    }
   ],
   "source": [
    "print('A probabilidade para vazões naturais é de {}%, no caso das observadas é de {}%'\n",
    "      .format(round(pmf_natural[0]*100,2),round(pmf_observada[0]*100,2)))"
   ]
  },
  {
   "cell_type": "raw",
   "metadata": {},
   "source": [
    "◘ As FMPs e os Histogramas são similares em diversos aspectos, a principal diferença é:\n",
    "    • Os histogramas contabilizam a frequência (i.e. valores inteiros)\n",
    "    • As FMPs contabilizam probabilidades (i.e. valores decimais)"
   ]
  },
  {
   "cell_type": "markdown",
   "metadata": {},
   "source": [
    "#### Plotando FMPs"
   ]
  },
  {
   "cell_type": "code",
   "execution_count": 24,
   "metadata": {},
   "outputs": [
    {
     "data": {
      "image/png": "[encoded data removed]",
      "text/plain": [
       "<Figure size 864x432 with 2 Axes>"
      ]
     },
     "metadata": {},
     "output_type": "display_data"
    },
    {
     "data": {
      "text/plain": [
       "<Figure size 576x432 with 0 Axes>"
      ]
     },
     "metadata": {},
     "output_type": "display_data"
    }
   ],
   "source": [
    "#Plotando Gráfico de Barras\n",
    "thinkplot.PrePlot(2, cols=2)\n",
    "thinkplot.Hist(pmf_natural, align='right',width=0.8)\n",
    "thinkplot.Hist(pmf_observada, align='left',width=0.8)\n",
    "thinkplot.Config(xlabel='Nº de Vezes', ylabel='Probabilidade')\n",
    "\n",
    "#Plotando usando 'Step Functions'\n",
    "thinkplot.PrePlot(2)\n",
    "thinkplot.SubPlot(2)\n",
    "thinkplot.Pmfs([pmf_natural, pmf_observada])\n",
    "thinkplot.Show(xlabel='Nº de Vezes', ylabel='Probabilidade')"
   ]
  },
  {
   "cell_type": "raw",
   "metadata": {},
   "source": [
    "• Os FMPs funcionam bem se o número de valores for pequeno. Mas quando o número de valores aumenta, a probabilidade associada a cada valor diminui e o efeito de ruído aleatório aumenta.\n",
    "• Ao utilizar-se FMP para duas amostras distintas, pode ser difícil interpretar padrões gerais e as difirenças entre as amostras.  \n",
    "• Para evidar esses problemas, uma alternativa é a função acumulada de probabilidades (CDF)."
   ]
  },
  {
   "cell_type": "markdown",
   "metadata": {},
   "source": [
    "### CAPÍTULO 4 - Função de Distribuição Acumulada"
   ]
  },
  {
   "cell_type": "raw",
   "metadata": {},
   "source": [
    "◘ Como uma alternativa as limitações anteriores, nós podemos calcular uma Função de Distribuição Acumulada Empírica (ECDF)\n",
    "    • O valor x de uma ECDF é a variável de interesse. O valor y é a fração de dados que possuem um valor menor ou igual que o valor x correspondente.\n",
    "    • O eixo x é o dado classificado. O eixo y é um ponto de dados uniformemente espaçado com um máximo.\n",
    "    • Uma ECDF Empírica mostra todos os dados e fornece uma visão completa de como os dados estão distribuidos."
   ]
  },
  {
   "cell_type": "raw",
   "metadata": {},
   "source": [
    "◘ Rank de Percentis: São medidas que dividem a amostra (por ordem crescente dos dados) em 100 partes, cada uma com uma percentagem de dados aproximadamente igual. O k-ésimo percentil Pk é o valor x (xk) que corresponde à frequência cumulativa de N .k/100, onde N é o tamanho amostral.\n",
    "\n",
    "    •O 1º percentil determina o 1% menor dos dados;\n",
    "    \n",
    "    •O 98º percentil determina os 98% menores dos dados;\n",
    "    \n",
    "    •O 25º percentil é o primeiro quartil; o 50º percentil é a mediana. De igual forma, o 10º percentil é o primeiro decil e o 80º percentil é o oitavo decil.\n",
    "   \n",
    "   •A diferença entre o 3º quartil (75º percentil) e o 1º quartil (25º percentil) é chamado de intervalor interquatil\n",
    "       \n",
    "    •O percentil, quartil, decil, são caracterizados como quantis, uma vez que correspondem à um rank de percentil igualmente espaçado entre si.\n",
    "    \n",
    "◘ Percentil: Pega um valor do ranke de percentis e calcula o valor correspondente.\n",
    "\n",
    "◘ Função de Distribuição Acumulada (CDF): É uma função que mapeia os valores em um rank de percentis.\n",
    "    • Para calcular CDF(x), onde x é qualquer valor que pode aparecer na distribuição, nós cálculamos a fração dos valores na distribuição que são menores ou iguais a x.\n",
    "    • A função inversa da CDF é a função que mapeia a partir de uma probabiliadade acumulada,p, o valor correspondente."
   ]
  },
  {
   "cell_type": "code",
   "execution_count": 26,
   "metadata": {},
   "outputs": [],
   "source": [
    "def ecdf(data):\n",
    "    \"\"\"Compute ECDF for a one-dimensional array of measurements.\"\"\"\n",
    "    # Number of data points: n\n",
    "    n = len(data)\n",
    "\n",
    "    # x-data for the ECDF: x\n",
    "    x = np.sort(data)\n",
    "\n",
    "    # y-data for the ECDF: y\n",
    "    y = np.arange(1,n+1) / n\n",
    "\n",
    "    return x, y"
   ]
  },
  {
   "cell_type": "code",
   "execution_count": 27,
   "metadata": {},
   "outputs": [
    {
     "data": {
      "image/png": "[encoded data removed]",
      "text/plain": [
       "<Figure size 432x288 with 1 Axes>"
      ]
     },
     "metadata": {},
     "output_type": "display_data"
    }
   ],
   "source": [
    "x_1, y_1 = ecdf(vazoes_sf['Natural'])\n",
    "x_2, y_2 = ecdf(vazoes_sf['Observada'])\n",
    "_ = plt.plot(x_1, y_1, marker=' ', linestyle = '-')\n",
    "_ = plt.plot(x_2, y_2, marker=' ', linestyle = '-')\n",
    "plt.legend(('Natual', 'Observada'), loc='lower right')\n",
    "_ = plt.xlabel('Vazão (m³/s)')\n",
    "_ = plt.ylabel('ECDF')\n",
    "\n",
    "# Display the plot\n",
    "plt.margins(0.02)\n",
    "plt.show()"
   ]
  },
  {
   "cell_type": "raw",
   "metadata": {},
   "source": [
    "◘ A CDF também fornece uma representação visual da forma da distribuição, e  apresenta algumas vantagens em relaçõa a PMF:\n",
    "    • Os valores mais comuns aparecem na parte mais íngreme da CDF;\n",
    "    • As informações de uma CDF são apresentadas com mais clareza do que uma PMF;\n",
    "    • As diferenças entre distribuições de diferentes amostras de dados são mais claras na CDF;"
   ]
  },
  {
   "cell_type": "markdown",
   "metadata": {},
   "source": [
    "#### Curva de Permanência"
   ]
  },
  {
   "cell_type": "raw",
   "metadata": {},
   "source": [
    "◘ Outra forma de representar dados pode ser utilizando a curva de permanência.\n",
    "    • A curva de permanência ou de duração de vazões relaciona a vazão (geralmente no eixo das ordenadas) e a porcentagem do tempo em que ela é superada ou igualada sobre todo o período histórico utilizado para sua construção (geralmente no eixo\n",
    "das abscissas).\n",
    "    • Representa o complemento da ECDF de probabilidade de vazões ou a probabilidade de excedência das vazões.\n",
    "    • Não se pode dizer que a permanência referes-e à probabilidade das vazões em qualquer ano, mas pode ser interpretada como uma “garantia” ou probabilidade de ocorrência das vazões num horizonte de planejamento, apesar de estatisticamente utilizar vazões dependentes entre si."
   ]
  },
  {
   "cell_type": "code",
   "execution_count": 28,
   "metadata": {},
   "outputs": [],
   "source": [
    "def curva_permanencia(dados,logscale=True):\n",
    "    plt.figure(num=None,facecolor='w', edgecolor='k')\n",
    "    plt.grid(True,which=\"both\",ls=\"-\")\n",
    "    ymax=0\n",
    "    for name in dados.columns:\n",
    "        serie=dados[name].dropna()\n",
    "        n=len(serie)\n",
    "        y = np.sort(serie)\n",
    "        y = y[::-1]\n",
    "        if ymax < y.max():\n",
    "            ymax=y.max()\n",
    "        x = (np.arange(1,n+1) / n)*100\n",
    "        _ = plt.plot(x,y,linestyle='-') \n",
    "    plt.legend(list(dados.columns), loc='best')\n",
    "    plt.margins(0.02) \n",
    "    if logscale==True:\n",
    "        ticks = 10**np.arange(1,ceil(log(ymax,10)) + 1,1)\n",
    "        ticks[-1:]+=1\n",
    "        plt.yticks(list(ticks))\n",
    "        plt.yscale('log')\n",
    "        plt.tick_params(axis='y', which='minor')\n",
    "        \n",
    "    _ = plt.xlabel('Probabilidade de excedência ou igualdade (%)')\n",
    "    _ =  plt.ylabel('Vazão m³/s')\n",
    "    plt.xticks(np.arange(0,101,step=10))\n",
    "    plt.show()"
   ]
  },
  {
   "cell_type": "code",
   "execution_count": 29,
   "metadata": {
    "scrolled": false
   },
   "outputs": [
    {
     "data": {
      "image/png": "[encoded data removed]",
      "text/plain": [
       "<Figure size 432x288 with 1 Axes>"
      ]
     },
     "metadata": {},
     "output_type": "display_data"
    }
   ],
   "source": [
    "curva_permanencia(vazoes_sf)"
   ]
  },
  {
   "cell_type": "raw",
   "metadata": {},
   "source": [
    "◘ Os percentis são usados para computar algumas estatísticas:\n",
    "    • Percentil 50°, corresponde ao valor central da distribuição, conhecido como mediana;\n",
    "    • O intervalo interquantil, que é a diferença entre o percentil 75° e 25°, discutido anteriormente\n",
    "    • Podem ser usados para resumir a forma de uma distribuição."
   ]
  },
  {
   "cell_type": "markdown",
   "metadata": {},
   "source": [
    "#### Comparando Rank de Percentis"
   ]
  },
  {
   "cell_type": "raw",
   "metadata": {},
   "source": [
    "• Podemos comparar o rank de percentil para a vazão de 1000 m³/s para a série de vazões naturais e observadas"
   ]
  },
  {
   "cell_type": "code",
   "execution_count": 30,
   "metadata": {},
   "outputs": [
    {
     "name": "stdout",
     "output_type": "stream",
     "text": [
      "Rank de Percentil de 1000 m³/s para vazões naturais foi de  77.89% e para observadas foi de 87.49%\n"
     ]
    }
   ],
   "source": [
    "rk_nat = stats.percentileofscore(vazoes_sf['Natural'],1000)\n",
    "rk_obs = stats.percentileofscore(vazoes_sf['Observada'],1000)\n",
    "print('Rank de Percentil de 1000 m³/s para vazões naturais foi de  {}% e para observadas foi de {}%'\n",
    "      .format(round(rk_nat,2),round(rk_obs,2)))"
   ]
  },
  {
   "cell_type": "markdown",
   "metadata": {},
   "source": [
    "### CAPÍTULO 5 - Modelagem de Distribuições"
   ]
  },
  {
   "cell_type": "raw",
   "metadata": {},
   "source": [
    "◘ Até agora utilizamos distribuições empíricas, uma vez que foram baseadas exclusivamente na distribuição dos dados observados, que são necessariamente amostras finitas.\n",
    "\n",
    "◘ Uma alternativa é a utilização de distribuições analíticas, caracterizadas por um CDFs que são funções matemáticas;\n",
    "função matemática.\n",
    "    • Distribuições analíticas podem ser usadas para modelar distribuições empíricas.\n",
    "    • Um modelo é uma simplificação que deixa de fora detalhes desnecessários. Por exemplo, uma distribuição observada pode ter erros de medição ou peculiaridades específicas da amostra; modelos analíticos os suavizam.\n",
    "    • Modelos analíticos também são uma forma de compactação de dados. Quando um modelo se ajusta bem a um conjunto de dados, um pequeno conjunto de parâmetros pode resumir uma grande quantidade de dados.\n",
    "    • Mas é importante lembrar que todos os modelos são imperfeitos."
   ]
  },
  {
   "cell_type": "markdown",
   "metadata": {},
   "source": [
    "#### Distribuição Exponencial"
   ]
  },
  {
   "cell_type": "code",
   "execution_count": null,
   "metadata": {},
   "outputs": [],
   "source": []
  },
  {
   "cell_type": "code",
   "execution_count": null,
   "metadata": {},
   "outputs": [],
   "source": []
  },
  {
   "cell_type": "code",
   "execution_count": null,
   "metadata": {},
   "outputs": [],
   "source": []
  },
  {
   "cell_type": "markdown",
   "metadata": {},
   "source": [
    "### Capítulo 7 - Relações entre variáveis"
   ]
  },
  {
   "cell_type": "raw",
   "metadata": {},
   "source": [
    "◘ Duas variáveis estão relacionadas se o conhecimento de uma váriavel fornecer informações sobre a outra.\n",
    "    • Para as aplicações que seguirão, utilizaremos dados de precipitação na região da UHE Três Marias. Apesar de a variação espacial da precipitação na bacia hidrográfica que contribuiu para o reservatório da UHE não ser representada, para efeitos didáticos utilizaremos apenas a série de precipitação do posto fluviométrico 01845009.\n",
    "    • Como tentaremos identificar as relações entre a chuva e a vazão na região, utilizaremos a séire de vazões naturais, por ser uma série que desconsidera as influências antrópicas.\n",
    "    • Selecionaremos, também, o maior período em comum de dados com o auxílio do gráfico de Gantt."
   ]
  },
  {
   "cell_type": "code",
   "execution_count": 31,
   "metadata": {},
   "outputs": [
    {
     "data": {
      "application/vnd.plotly.v1+json": {
       "config": {
        "linkText": "Export to plot.ly",
        "plotlyServerURL": "https://plot.ly",
        "showLink": false
       },
       "data": [
        {
         "marker": {
          "color": "white"
         },
         "name": "",
         "showlegend": false,
         "type": "scatter",
         "uid": "ac54b8f4-96a7-431a-b34e-c82741913129",
         "x": [
          "1975-1-01",
          "1993-5-31"
         ],
         "y": [
          1,
          1
         ]
        },
        {
         "marker": {
          "color": "white"
         },
         "name": "",
         "showlegend": false,
         "type": "scatter",
         "uid": "9d297486-0d29-48cb-a358-3867f85d3659",
         "x": [
          "1931-1-01",
          "2016-12-01"
         ],
         "y": [
          0,
          0
         ]
        },
        {
         "hoverinfo": "none",
         "marker": {
          "color": "rgb(0, 191, 255)",
          "size": 1
         },
         "name": "Periodo com Dados",
         "showlegend": true,
         "type": "scatter",
         "uid": "fbb924fa-ceb4-46fb-a132-91d849a49a5e",
         "x": [
          "1931-1-01",
          "1931-1-01"
         ],
         "y": [
          0,
          0
         ]
        }
       ],
       "layout": {
        "height": 400,
        "hovermode": "closest",
        "shapes": [
         {
          "fillcolor": "rgb(0, 191, 255)",
          "line": {
           "width": 0
          },
          "opacity": 1,
          "type": "rect",
          "x0": "1975-1-01",
          "x1": "1993-5-31",
          "xref": "x",
          "y0": 0.8,
          "y1": 1.2,
          "yref": "y"
         },
         {
          "fillcolor": "rgb(0, 191, 255)",
          "line": {
           "width": 0
          },
          "opacity": 1,
          "type": "rect",
          "x0": "1931-1-01",
          "x1": "2016-12-01",
          "xref": "x",
          "y0": -0.2,
          "y1": 0.2,
          "yref": "y"
         }
        ],
        "showlegend": true,
        "title": {
         "text": "Gantt Chart"
        },
        "width": 800,
        "xaxis": {
         "autorange": true,
         "range": [
          "1925-06-24 08:27:50.2194",
          "2022-06-09 15:32:09.7806"
         ],
         "rangeselector": {
          "buttons": [
           {
            "count": 7,
            "label": "1w",
            "step": "day",
            "stepmode": "backward"
           },
           {
            "count": 1,
            "label": "1m",
            "step": "month",
            "stepmode": "backward"
           },
           {
            "count": 6,
            "label": "6m",
            "step": "month",
            "stepmode": "backward"
           },
           {
            "count": 1,
            "label": "YTD",
            "step": "year",
            "stepmode": "todate"
           },
           {
            "count": 1,
            "label": "1y",
            "step": "year",
            "stepmode": "backward"
           },
           {
            "step": "all"
           }
          ]
         },
         "showgrid": true,
         "type": "date",
         "zeroline": false
        },
        "yaxis": {
         "autorange": false,
         "range": [
          -1,
          3
         ],
         "showgrid": true,
         "ticktext": [
          "Natural",
          "Chuva"
         ],
         "tickvals": [
          0,
          1
         ],
         "type": "linear",
         "zeroline": false
        }
       }
      },
      "image/png": "[encoded data removed]",
      "text/html": [
       "<div>\n",
       "        \n",
       "        \n",
       "            <div id=\"4434e8f9-699c-43b3-a5d9-121533b51c45\" class=\"plotly-graph-div\" style=\"height:400px; width:800px;\"></div>\n",
       "            <script type=\"text/javascript\">\n",
       "                require([\"plotly\"], function(Plotly) {\n",
       "                    window.PLOTLYENV=window.PLOTLYENV || {};\n",
       "                    window.PLOTLYENV.BASE_URL='https://plot.ly';\n",
       "                    \n",
       "                if (document.getElementById(\"4434e8f9-699c-43b3-a5d9-121533b51c45\")) {\n",
       "                    Plotly.newPlot(\n",
       "                        '4434e8f9-699c-43b3-a5d9-121533b51c45',\n",
       "                        [{\"marker\": {\"color\": \"white\"}, \"name\": \"\", \"showlegend\": false, \"type\": \"scatter\", \"uid\": \"ac54b8f4-96a7-431a-b34e-c82741913129\", \"x\": [\"1975-1-01\", \"1993-5-31\"], \"y\": [1, 1]}, {\"marker\": {\"color\": \"white\"}, \"name\": \"\", \"showlegend\": false, \"type\": \"scatter\", \"uid\": \"9d297486-0d29-48cb-a358-3867f85d3659\", \"x\": [\"1931-1-01\", \"2016-12-01\"], \"y\": [0, 0]}, {\"hoverinfo\": \"none\", \"marker\": {\"color\": \"rgb(0, 191, 255)\", \"size\": 1}, \"name\": \"Periodo com Dados\", \"showlegend\": true, \"type\": \"scatter\", \"uid\": \"fbb924fa-ceb4-46fb-a132-91d849a49a5e\", \"x\": [\"1931-1-01\", \"1931-1-01\"], \"y\": [0, 0]}],\n",
       "                        {\"height\": 400, \"hovermode\": \"closest\", \"shapes\": [{\"fillcolor\": \"rgb(0, 191, 255)\", \"line\": {\"width\": 0}, \"opacity\": 1, \"type\": \"rect\", \"x0\": \"1975-1-01\", \"x1\": \"1993-5-31\", \"xref\": \"x\", \"y0\": 0.8, \"y1\": 1.2, \"yref\": \"y\"}, {\"fillcolor\": \"rgb(0, 191, 255)\", \"line\": {\"width\": 0}, \"opacity\": 1, \"type\": \"rect\", \"x0\": \"1931-1-01\", \"x1\": \"2016-12-01\", \"xref\": \"x\", \"y0\": -0.2, \"y1\": 0.2, \"yref\": \"y\"}], \"showlegend\": true, \"title\": {\"text\": \"Gantt Chart\"}, \"width\": 800, \"xaxis\": {\"rangeselector\": {\"buttons\": [{\"count\": 7, \"label\": \"1w\", \"step\": \"day\", \"stepmode\": \"backward\"}, {\"count\": 1, \"label\": \"1m\", \"step\": \"month\", \"stepmode\": \"backward\"}, {\"count\": 6, \"label\": \"6m\", \"step\": \"month\", \"stepmode\": \"backward\"}, {\"count\": 1, \"label\": \"YTD\", \"step\": \"year\", \"stepmode\": \"todate\"}, {\"count\": 1, \"label\": \"1y\", \"step\": \"year\", \"stepmode\": \"backward\"}, {\"step\": \"all\"}]}, \"showgrid\": true, \"type\": \"date\", \"zeroline\": false}, \"yaxis\": {\"autorange\": false, \"range\": [-1, 3], \"showgrid\": true, \"ticktext\": [\"Natural\", \"Chuva\"], \"tickvals\": [0, 1], \"zeroline\": false}},\n",
       "                        {\"showLink\": false, \"linkText\": \"Export to plot.ly\", \"plotlyServerURL\": \"https://plot.ly\", \"responsive\": true}\n",
       "                    ).then(function(){\n",
       "                            \n",
       "var gd = document.getElementById('4434e8f9-699c-43b3-a5d9-121533b51c45');\n",
       "var x = new MutationObserver(function (mutations, observer) {{\n",
       "        var display = window.getComputedStyle(gd).display;\n",
       "        if (!display || display === 'none') {{\n",
       "            console.log([gd, 'removed!']);\n",
       "            Plotly.purge(gd);\n",
       "            observer.disconnect();\n",
       "        }}\n",
       "}});\n",
       "\n",
       "// Listen for the removal of the full notebook cells\n",
       "var notebookContainer = gd.closest('#notebook-container');\n",
       "if (notebookContainer) {{\n",
       "    x.observe(notebookContainer, {childList: true});\n",
       "}}\n",
       "\n",
       "// Listen for the clearing of the current output cell\n",
       "var outputEl = gd.closest('.output');\n",
       "if (outputEl) {{\n",
       "    x.observe(outputEl, {childList: true});\n",
       "}}\n",
       "\n",
       "                        })\n",
       "                };\n",
       "                });\n",
       "            </script>\n",
       "        </div>"
      ]
     },
     "metadata": {},
     "output_type": "display_data"
    }
   ],
   "source": [
    "dir_dados = 'D:\\\\OneDrive\\\\UFAL\\\\Mestrado\\\\Disciplinas\\\\Estatistica\\\\Jupyter\\\\Dados_Chuvas' #DIRETÓRIO DOS DADOS\n",
    "chuva = converte_dados.hidroweb(dir_dados)\n",
    "chuva = chuva.rename(columns={chuva.columns[0]:'Chuva'})\n",
    "chuva_vazao = pd.concat([chuva,vazao_natural],axis=1)\n",
    "gantt_plot(chuva_vazao)"
   ]
  },
  {
   "cell_type": "code",
   "execution_count": 32,
   "metadata": {},
   "outputs": [
    {
     "data": {
      "text/html": [
       "<div>\n",
       "<style scoped>\n",
       "    .dataframe tbody tr th:only-of-type {\n",
       "        vertical-align: middle;\n",
       "    }\n",
       "\n",
       "    .dataframe tbody tr th {\n",
       "        vertical-align: top;\n",
       "    }\n",
       "\n",
       "    .dataframe thead th {\n",
       "        text-align: right;\n",
       "    }\n",
       "</style>\n",
       "<table border=\"1\" class=\"dataframe\">\n",
       "  <thead>\n",
       "    <tr style=\"text-align: right;\">\n",
       "      <th></th>\n",
       "      <th>Chuva</th>\n",
       "      <th>Natural</th>\n",
       "    </tr>\n",
       "  </thead>\n",
       "  <tbody>\n",
       "    <tr>\n",
       "      <th>1975-01-01</th>\n",
       "      <td>38.0</td>\n",
       "      <td>1673.0</td>\n",
       "    </tr>\n",
       "    <tr>\n",
       "      <th>1975-01-02</th>\n",
       "      <td>8.2</td>\n",
       "      <td>2040.0</td>\n",
       "    </tr>\n",
       "    <tr>\n",
       "      <th>1975-01-03</th>\n",
       "      <td>50.0</td>\n",
       "      <td>2193.0</td>\n",
       "    </tr>\n",
       "    <tr>\n",
       "      <th>1975-01-04</th>\n",
       "      <td>10.1</td>\n",
       "      <td>2177.0</td>\n",
       "    </tr>\n",
       "    <tr>\n",
       "      <th>1975-01-05</th>\n",
       "      <td>1.0</td>\n",
       "      <td>2175.0</td>\n",
       "    </tr>\n",
       "  </tbody>\n",
       "</table>\n",
       "</div>"
      ],
      "text/plain": [
       "            Chuva  Natural\n",
       "1975-01-01   38.0   1673.0\n",
       "1975-01-02    8.2   2040.0\n",
       "1975-01-03   50.0   2193.0\n",
       "1975-01-04   10.1   2177.0\n",
       "1975-01-05    1.0   2175.0"
      ]
     },
     "execution_count": 32,
     "metadata": {},
     "output_type": "execute_result"
    }
   ],
   "source": [
    "#BASEADO NO GRÁFICO DE GANTT\n",
    "inicio = pd.to_datetime(['01/01/1975'])\n",
    "fim = pd.to_datetime(['31/03/1993'])\n",
    "chuva_vazao=chuva_vazao.loc[inicio[0]:fim[0]]\n",
    "chuva_vazao.head()"
   ]
  },
  {
   "cell_type": "raw",
   "metadata": {},
   "source": [
    "• Para calcular tentar encontrar uma relação entre a chuva e a vazão, precisamos saber o tempo de concentração da bacia hidrográfica, ou seja  o tempo em que leva para que toda a bacia considerada contribua para o escoamento superficial na seção estudada.\n",
    "    • Existem diversos métodos para calcular o tempo de concentração, como o nosso foco é na aplicação dos testes estatísticos utilizaremos qualquer um deles.\n",
    "    • Estimamos que a bacia até a UHE Três marias tem um trecho de extensão aproximada de 3200km e uma declividade média 2,1%.\n",
    "    • Pela equação de Kirpich, Tc = 0,39 * ( L² / S) ^ 0,385\n",
    "        Em que:\n",
    "            Tc - tempo de concentração em horas.\n",
    "            L - estirão em Km.\n",
    "            S - declividade equivalente Constante em %.\n",
    "        Logo: Estimamos um Tc de aproximadamente 6 dias."
   ]
  },
  {
   "cell_type": "markdown",
   "metadata": {},
   "source": [
    "#### Gráficos de Dispersão"
   ]
  },
  {
   "cell_type": "raw",
   "metadata": {},
   "source": [
    "◘ Maneira simples de conferir uma relação entre duas váriaveis. Mas, fazer um  bom gráfico de dispersão nem sempre é fácil, no entanto existem maneiras de contornar a situação.\n",
    "    • Adição de ruídos aleatórios, para servir como efeito reverso às possíveis perdas de informações (e.g. arredondamento e conversão de unidades dos dados)\n",
    "    • Quando há o efeito de saturação (muitos pontos sobrepostos, ocultando as partes densas do gráfico e dando uma ênfase desproporcional aos outliers), podemos resolver o problema fazendo os pontos parcialmente transparentes. Funciona bem para tamanhos moderados de amostras.\n",
    "    • Para uma amostra com um conjunto de dados muito grande, outra opção é o hexbin plot, que divide o gráfico em caixas hexagonais cada caixa com uma cor de acordo com quantos pontos cabem nela."
   ]
  },
  {
   "cell_type": "code",
   "execution_count": 33,
   "metadata": {},
   "outputs": [
    {
     "data": {
      "image/png": "[encoded data removed]",
      "text/plain": [
       "<Figure size 432x288 with 1 Axes>"
      ]
     },
     "metadata": {},
     "output_type": "display_data"
    }
   ],
   "source": [
    "plt.scatter(chuva_vazao['Chuva'][:-6],chuva_vazao['Natural'][6:], alpha=0.2)\n",
    "plt.show()"
   ]
  },
  {
   "cell_type": "markdown",
   "metadata": {},
   "source": [
    "#### Caracterizando Relações"
   ]
  },
  {
   "cell_type": "raw",
   "metadata": {},
   "source": [
    "• Para fornecer um maior conhecimento entre as variáveis podemos utilizar o gráfico de percentis, que relaciona uma váriacel com os percentis da outra."
   ]
  },
  {
   "cell_type": "code",
   "execution_count": 34,
   "metadata": {},
   "outputs": [],
   "source": [
    "def plot_percentil(dados_chuva, dados_vazao):\n",
    "    dados_month = pd.DataFrame([dados_chuva, dados_vazao])\n",
    "    dados_month = dados_month.T\n",
    "    \n",
    "    dados_month = dados_month.dropna(subset=[dados_chuva.name, dados_vazao.name])\n",
    "    bins = np.arange(0, 400, 40)\n",
    "    indices = np.digitize(dados_month[dados_chuva.name], bins)\n",
    "    groups = dados_month.groupby(indices)\n",
    "    \n",
    "    mean_chuva = [group[dados_chuva.name].mean() for i, group in groups]\n",
    "    cdfs = [thinkstats2.Cdf(group[dados_vazao.name]) for i, group in groups]\n",
    "    \n",
    "    for percent in [75, 50, 25]:\n",
    "        vazao_percentiles = [cdf.Percentile(percent) for cdf in cdfs]\n",
    "        label = '%dth' % percent\n",
    "        thinkplot.Plot(mean_chuva, vazao_percentiles, label=label)\n",
    "        thinkplot.Config(xlabel='Chuva', ylabel='Vazão', legend=True)"
   ]
  },
  {
   "cell_type": "code",
   "execution_count": 35,
   "metadata": {},
   "outputs": [
    {
     "data": {
      "image/png": "[encoded data removed]",
      "text/plain": [
       "<Figure size 432x288 with 1 Axes>"
      ]
     },
     "metadata": {},
     "output_type": "display_data"
    }
   ],
   "source": [
    "plot_percentil(chuva_vazao['Chuva'][:-6],chuva_vazao['Natural'][6:])"
   ]
  },
  {
   "cell_type": "markdown",
   "metadata": {},
   "source": [
    "#### Correlação e Covariância"
   ]
  },
  {
   "cell_type": "raw",
   "metadata": {},
   "source": [
    "Correlação:\n",
    "• Método estatístico para quantificar a força da relação entre duas variáveis.\n",
    "\n",
    "• Um desafio da correlação é que as variáveis que nós queremos comparar não são frequentemente expressas nas mesmas unidades. E mesmo que sejam,  ela podem vir de diferentes distribuições. Duas soluções comuns:\n",
    "    1. Transformar cada valor em um score padrão, que é o numero de desvios padrão da média (Coeficiente de correlação produto-momento de Pearson)\n",
    "    2. Transformar cada valor em sua classificação, que é o índice na lista classificada. (Coeficiente de correlção classificada de Spearman)"
   ]
  },
  {
   "cell_type": "raw",
   "metadata": {},
   "source": [
    "Covariância:\n",
    "\n",
    "•  Medida do grau de interdependência (ou inter-relação) numérica entre duas variáveis.\n",
    "\n",
    "• Valores de covariância positivos indicam que valores acima da média de uma variável estão associados a valores médios acima da outra variável e abaixo dos valores médios são igualmente associado. Valores de covariância negativos indicam que valores acima da média de uma variável estão associados com valores médios abaixo da outra variável."
   ]
  },
  {
   "cell_type": "raw",
   "metadata": {},
   "source": [
    "• Os coeficientes de correlação são padronizados. Assim, um relacionamento linear perfeito resulta em um coeficiente de correlação 1. A correlação mede tanto a força como a direção da relação linear entre duas variáveis.\n",
    "\n",
    "• Os valores de covariância não são padronizados. Portanto, a covariância pode variar de menos infinito a mais infinito. Assim, o valor para uma relação linear ideal depende dos dados. Como os dados não são padronizados, é difícil determinar a força da relação entre as variáveis."
   ]
  },
  {
   "cell_type": "markdown",
   "metadata": {},
   "source": [
    "#### Coeficiente de Correlação de Pearson (p)"
   ]
  },
  {
   "cell_type": "raw",
   "metadata": {},
   "source": [
    "• É a razão entre a Covariância de duas variáveis (X,Y) pelo produto do desvio padrão de X e de Y.\n",
    "\n",
    "•  A correlação de Pearson é sempre entre -1 e +1. Se ρ é positivo, dizemos que a correlação é positiva. Se ρ é negativo, a correlação é negativa.\n",
    "\n",
    "• A magnitude de ρ indica a força da correlação. Se ρ é 1 ou -1, as variáveis são perfeitamente correlacionadas, o que significa que se você conhece uma, você pode fazer uma previsão perfeita sobre o outro.\n",
    "\n",
    "• Se a correlação de Pearson estiver próxima de 0, é tentador concluir que não há relação entre as variáveis, mas essa conclusão não é válida. A correlação de Pearson mede apenas relacionamentos lineares."
   ]
  },
  {
   "cell_type": "code",
   "execution_count": 36,
   "metadata": {},
   "outputs": [
    {
     "name": "stdout",
     "output_type": "stream",
     "text": [
      "Covariância = 2247.1 \n",
      "Desvio padrão da série de chuvas = 10.28\n",
      "Desvio padrão da série de vazões = 787.75\n",
      "Pearson Coef. = 0.28\n"
     ]
    }
   ],
   "source": [
    "cov=chuva_vazao['Chuva'][:-6].cov(chuva_vazao['Natural'][6:])\n",
    "Sx=chuva_vazao['Chuva'][:-6].std()\n",
    "Sy=chuva_vazao['Natural'][6:].std()\n",
    "p=cov/(Sx*Sy)\n",
    "\n",
    "print('Covariância = {} \\nDesvio padrão da série de chuvas = {}\\n'\n",
    "      'Desvio padrão da série de vazões = {}\\nPearson Coef. = {}'\n",
    "     .format(round(cov,2),round(Sx,2),round(Sy,2),round(p,2)))"
   ]
  },
  {
   "cell_type": "raw",
   "metadata": {},
   "source": [
    "• O coeficiente de correlação de Pearson funciona bem se a relação entre as variáveis é linear e sse as variáveis são aproximadamente normais. Mas, não é robusto na presença de outliers. \n",
    "• Um alternativa para mitidar o efeito de outliers e distribuições enviesadas é a ordem de classificação de Spearman"
   ]
  },
  {
   "cell_type": "markdown",
   "metadata": {},
   "source": [
    "#### Correlação de ordem de classificação de Spearman"
   ]
  },
  {
   "cell_type": "code",
   "execution_count": 37,
   "metadata": {},
   "outputs": [
    {
     "name": "stdout",
     "output_type": "stream",
     "text": [
      "Correlação de Spearman = 0.36\n"
     ]
    }
   ],
   "source": [
    "cr=chuva_vazao['Chuva'][:-6].corr(chuva_vazao['Natural'][6:],method='spearman').round(2)\n",
    "print('Correlação de Spearman = {}'.format(round(cr,2)))"
   ]
  },
  {
   "cell_type": "markdown",
   "metadata": {},
   "source": [
    "#### Correlação e Causa"
   ]
  },
  {
   "cell_type": "raw",
   "metadata": {},
   "source": [
    "Se as variáveis A e B estão correlacionadas, existem três explicações possíveis: \n",
    "\n",
    "    1. A causa B\n",
    "    \n",
    "    2. B causa A\n",
    "    \n",
    "    3. Algum outro conjunto de fatores causa A e B. \n",
    "    \n",
    "Essas explicações são chamadas de “relações causais”."
   ]
  },
  {
   "cell_type": "markdown",
   "metadata": {},
   "source": [
    "### Capítulo 8 - Estimação"
   ]
  },
  {
   "cell_type": "raw",
   "metadata": {},
   "source": [
    "• Em geral, as funções de distribuição de probabilidades depende de um conjunto de parâmetros e váriaveis aleatórias. Para usar essas funções, os parâmetros precisam ser calculados.\n",
    "\n",
    "• O procedimento geral para estimar um parâmetro é obter uma amostra aleatória de uma população e usá-la para estimar os parâmetros."
   ]
  },
  {
   "cell_type": "markdown",
   "metadata": {},
   "source": [
    "<img src=\"estimadoress.png\" width=60%>"
   ]
  },
  {
   "cell_type": "markdown",
   "metadata": {},
   "source": [
    "#### Propriedades de um estimador"
   ]
  },
  {
   "cell_type": "raw",
   "metadata": {},
   "source": [
    "◘ Um estimador ideal deve seguir as 4 características a seguir:\n",
    "    • Imparcialidade: Um estimador de um parâmetro é não-enviesado se o valor esperado da estimativa for igual ao parâmetro.\n",
    "    • Consistência: Um estimador de um parâmetro é considerado consistente se a probabilidade de o estimador diferir do parâmetro por mais que uma constante (ε) se aproxima de 0 à medida que o tamanho da amostra se aproxima do infinito.\n",
    "    • Eficiência: Um estimador é considerado um estimador mais eficiente para um parâmetro se o estimador for imparcial e sua variância for pelo menos tão pequena quanto a do outro estimador.\n",
    "    • Suficiência: Um estimador é considerado um estimador suficiente para um parâmetro se o estimador utiliza todas as informações contidas na amostra e é relevante para o parâmetro."
   ]
  },
  {
   "cell_type": "markdown",
   "metadata": {},
   "source": [
    "#### Principais Estimadores de Parâmetros"
   ]
  },
  {
   "cell_type": "raw",
   "metadata": {},
   "source": [
    "◘ Método dos momentos (MOM):\n",
    "    •Método de estimação mais simples;\n",
    "    •Qualidade inferior e menos eficientes do que os estimadores de MVS, particularmente para distribuições de três ou mais parâmetros;\n",
    "    •Para pequenas amostras são comparáveis ou até mesmo superiores aos de outros estimadores.\n",
    "◘ Método dos momentos-L (MML):\n",
    "    •Estimadores de parâmetros comparáveis, em qualidade, àqueles produzidas pelo método da MVS;\n",
    "    •Para pequenas amostras são com alguma freqüência, mais acurados do que os de MVS.\n",
    "◘ Método da máxima verossimilhança (MVS):\n",
    "    •Considerado o método de estimação mais eficiente para amostras maiores;\n",
    "    •É apenas assintótica, para pequenas amostras os estimadores são de qualidade comparável ou inferior a outros métodos;\n",
    "    •Consistentes, suficientes e assintóticamente sem viés;"
   ]
  },
  {
   "cell_type": "markdown",
   "metadata": {},
   "source": [
    "#### Melhor Estimador"
   ]
  },
  {
   "cell_type": "raw",
   "metadata": {},
   "source": [
    "◘ O melhor estimador depende das circunstâncias e do objetivo que se quer atingir. Estamos querendo minimizar os erros ou maximizar as chances de conseguir a resposta certa?\n",
    "    • Se não há outliers na amostra o Erro Médio Quadrático (mse) minimiza os erros."
   ]
  },
  {
   "cell_type": "markdown",
   "metadata": {},
   "source": [
    "#### Aplicação"
   ]
  },
  {
   "cell_type": "raw",
   "metadata": {},
   "source": [
    "◘ Para as próximas aplicações utilizaremos as vazões máximas anuais. A melhor maneira de se definir a vazão máxima anual é através do ano hidrológico.\n",
    "    • Ano hidrológico é um termo usado em hidrologia para descrever um intervalo de tempo de 12 meses de medições de alguma variável hidrológica.\n",
    "    • O ano hidrológico pode ter início numa data diferente do ano civil e depende da região.\n",
    "◘ Podemos avaliar o efeito do tamanho da amostra e o erros de estimação associados"
   ]
  },
  {
   "cell_type": "code",
   "execution_count": 38,
   "metadata": {},
   "outputs": [],
   "source": [
    "def ano_hidrologico_vazoes(vazoes):\n",
    "    media_mensal=vazoes['Natural'].groupby(vazoes['Natural'].index.month).mean()\n",
    "    mes_menor_media=calendar.month_abbr[media_mensal.idxmin()+1].upper()\n",
    "    frequencia='AS-'+mes_menor_media\n",
    "    vazao_natural_ah=vazoes['Natural'].groupby(pd.Grouper(freq=frequencia)).max().sort_index()\n",
    "    vazao_natural_ah=vazao_natural_ah[1:-1]\n",
    "    vazao_obs_ah=vazoes['Observada'].groupby(pd.Grouper(freq=frequencia)).max().sort_index()\n",
    "    vazao_obs_ah=vazao_obs_ah[1:-1]\n",
    "    vazoes = pd.concat([vazao_obs_ah,vazao_natural_ah],axis=1)\n",
    "    return vazoes"
   ]
  },
  {
   "cell_type": "code",
   "execution_count": 39,
   "metadata": {},
   "outputs": [
    {
     "data": {
      "text/html": [
       "<div>\n",
       "<style scoped>\n",
       "    .dataframe tbody tr th:only-of-type {\n",
       "        vertical-align: middle;\n",
       "    }\n",
       "\n",
       "    .dataframe tbody tr th {\n",
       "        vertical-align: top;\n",
       "    }\n",
       "\n",
       "    .dataframe thead th {\n",
       "        text-align: right;\n",
       "    }\n",
       "</style>\n",
       "<table border=\"1\" class=\"dataframe\">\n",
       "  <thead>\n",
       "    <tr style=\"text-align: right;\">\n",
       "      <th></th>\n",
       "      <th>Observada</th>\n",
       "      <th>Natural</th>\n",
       "    </tr>\n",
       "  </thead>\n",
       "  <tbody>\n",
       "    <tr>\n",
       "      <th>1965-10-01</th>\n",
       "      <td>2702.1</td>\n",
       "      <td>4236.0</td>\n",
       "    </tr>\n",
       "    <tr>\n",
       "      <th>1966-10-01</th>\n",
       "      <td>2830.0</td>\n",
       "      <td>2884.0</td>\n",
       "    </tr>\n",
       "    <tr>\n",
       "      <th>1967-10-01</th>\n",
       "      <td>2553.3</td>\n",
       "      <td>2776.0</td>\n",
       "    </tr>\n",
       "    <tr>\n",
       "      <th>1968-10-01</th>\n",
       "      <td>917.6</td>\n",
       "      <td>2515.0</td>\n",
       "    </tr>\n",
       "    <tr>\n",
       "      <th>1969-10-01</th>\n",
       "      <td>1289.0</td>\n",
       "      <td>2925.0</td>\n",
       "    </tr>\n",
       "  </tbody>\n",
       "</table>\n",
       "</div>"
      ],
      "text/plain": [
       "            Observada  Natural\n",
       "1965-10-01     2702.1   4236.0\n",
       "1966-10-01     2830.0   2884.0\n",
       "1967-10-01     2553.3   2776.0\n",
       "1968-10-01      917.6   2515.0\n",
       "1969-10-01     1289.0   2925.0"
      ]
     },
     "execution_count": 39,
     "metadata": {},
     "output_type": "execute_result"
    }
   ],
   "source": [
    "vazoes_maximas = ano_hidrologico_vazoes(vazoes_sf)\n",
    "vazoes_maximas.head()"
   ]
  },
  {
   "cell_type": "markdown",
   "metadata": {},
   "source": [
    "#### Distribuição Normal"
   ]
  },
  {
   "cell_type": "raw",
   "metadata": {},
   "source": [
    "◘ Supondo que a média dos dataframes máximas e mínimas sejam as médias da população.\n",
    "◘ Supondo que a variância dos dataframes máximas e mínimas sejam as variância da população."
   ]
  },
  {
   "cell_type": "code",
   "execution_count": 40,
   "metadata": {
    "scrolled": true
   },
   "outputs": [
    {
     "name": "stdout",
     "output_type": "stream",
     "text": [
      "Média das máximas 3421.12, desvio padrão das máximas 1429.42\n"
     ]
    }
   ],
   "source": [
    "media_maxima=vazoes_maximas['Natural'].mean()\n",
    "std_maxima=vazoes_maximas['Natural'].std(ddof=1)\n",
    "print ('Média das máximas {}, desvio padrão das máximas {}'.format(round(media_maxima,2),round(std_maxima,2)))"
   ]
  },
  {
   "cell_type": "code",
   "execution_count": 41,
   "metadata": {},
   "outputs": [],
   "source": [
    "def mse_normal(media_maxima,std_maxima,n=10):\n",
    "    erro_media_maximas=[]\n",
    "    erro_std_maximas=[]\n",
    "    \n",
    "    for i in range(1000):\n",
    "        amostra_maximas=np.random.normal(media_maxima,std_maxima,n)\n",
    "        erro_media_maximas.append((amostra_maximas.mean()-media_maxima)**2)\n",
    "        erro_std_maximas.append((amostra_maximas.std()-std_maxima)**2)\n",
    "\n",
    "    erro_media_maximas=sum(erro_media_maximas)/1000\n",
    "    erro_std_maximas=sum(erro_std_maximas)/1000\n",
    "    print('Erro quadrático médio, para amostras de tamanho n={}, em relação às máximas: Média {}, Desvio Padrão {},'\n",
    "          .format(n,round(erro_media_maximas,2),round(erro_std_maximas,2)))"
   ]
  },
  {
   "cell_type": "code",
   "execution_count": 42,
   "metadata": {},
   "outputs": [
    {
     "name": "stdout",
     "output_type": "stream",
     "text": [
      "Erro quadrático médio, para amostras de tamanho n=10, em relação às máximas: Média 208312.75, Desvio Padrão 112619.33,\n",
      "Erro quadrático médio, para amostras de tamanho n=1000, em relação às máximas: Média 2024.92, Desvio Padrão 1026.33,\n",
      "Erro quadrático médio, para amostras de tamanho n=10000, em relação às máximas: Média 197.49, Desvio Padrão 102.64,\n"
     ]
    }
   ],
   "source": [
    "#Para n=10    \n",
    "mse_normal(media_maxima,std_maxima)\n",
    "#Para n=1000\n",
    "mse_normal(media_maxima,std_maxima,1000)\n",
    "#Para n=10000\n",
    "mse_normal(media_maxima,std_maxima,n=10000)"
   ]
  },
  {
   "cell_type": "markdown",
   "metadata": {},
   "source": [
    "#### Distribuição GEV"
   ]
  },
  {
   "cell_type": "raw",
   "metadata": {},
   "source": [
    "◘ Distribuição recomendada para valores de máxima;\n",
    "◘ Supondo que os parâmetros da distribuição dos dataframes são os parâmetros da amostra;"
   ]
  },
  {
   "cell_type": "code",
   "execution_count": 44,
   "metadata": {},
   "outputs": [
    {
     "name": "stdout",
     "output_type": "stream",
     "text": [
      "Parâmetros encontrados: c=-5.48, loc=1311.82, scale=15.46\n"
     ]
    }
   ],
   "source": [
    "parameters = gev.fit(vazoes_maximas['Natural'])\n",
    "print('Parâmetros encontrados: c={}, loc={}, scale={}'\n",
    "      .format(round(parameters[0],2),round(parameters[1],2),round(parameters[2],2)))"
   ]
  },
  {
   "cell_type": "code",
   "execution_count": 45,
   "metadata": {},
   "outputs": [],
   "source": [
    "def mse_gev(parameters,n=10):\n",
    "    error_c=[]\n",
    "    error_loc=[]\n",
    "    error_scale=[]\n",
    "    cm, locm, scalem = parameters\n",
    "    \n",
    "    for i in range(1000):\n",
    "        amostra_maximas=gev.rvs(cm, locm, scalem,n)\n",
    "        parametros_amostra=gev.fit(amostra_maximas)\n",
    "        ca, loca,scalea=parametros_amostra\n",
    "        error_c.append((ca-cm)**2)\n",
    "        error_loc.append((loca-locm)**2)\n",
    "        error_scale.append((scalea-scalem)**2)\n",
    "\n",
    "    error_c=sum(error_c)/1000\n",
    "    error_loc=sum(error_loc)/1000\n",
    "    error_scale=sum(error_scale)/1000\n",
    "    print('Erro quadrático médio, para amostras de tamanho n={}, para c: {}, loc: {}, scale: {}'\n",
    "          .format(n,round(error_c,2),round(error_loc,2),round(error_scale,2)))"
   ]
  },
  {
   "cell_type": "code",
   "execution_count": 46,
   "metadata": {},
   "outputs": [
    {
     "name": "stdout",
     "output_type": "stream",
     "text": [
      "Erro quadrático médio, para amostras de tamanho n=10, para c: 3.08, loc: 56.72, scale: 279.63\n",
      "Erro quadrático médio, para amostras de tamanho n=50, para c: 5.45, loc: 1.53, scale: 65.68\n",
      "Erro quadrático médio, para amostras de tamanho n=100, para c: 7.6, loc: 12895.66, scale: 89.25\n"
     ]
    }
   ],
   "source": [
    "#Para n=10    \n",
    "mse_gev(parameters)\n",
    "#Para n=100\n",
    "mse_gev(parameters,50)\n",
    "#Para n=1000\n",
    "mse_gev(parameters,100)"
   ]
  },
  {
   "cell_type": "raw",
   "metadata": {},
   "source": [
    "• Através do MSE foi possível identificar que, geralmente, quanto maior a amostra que se está utilizando, menor o erro associado na estimação de algum parâmetro."
   ]
  },
  {
   "cell_type": "markdown",
   "metadata": {},
   "source": [
    "#### Achando a Variância"
   ]
  },
  {
   "cell_type": "markdown",
   "metadata": {},
   "source": [
    "◘ $S^{2}$ é uma escolhar para estimar a variância($\\sigma^{2}$);\n",
    "    • Pode ser estimado por $S^{2} = \\frac{1}{n} \\sum (x_{i} - \\bar{x})^{2}$\n",
    "    \n",
    "    • Para grandes amostras, S² é um estimador adequado\n",
    "    \n",
    "    • Para a mostra pequenas, possuí viés, tendendo a ser pequeno. Por causa disso, é chamado de um estimador enviezado.\n",
    "    \n",
    "◘  $S_{n-1}^{2} = \\frac{1}{n-1} \\sum (x_{i} - \\bar{x})^{2}$ é um estimador não enviezado\n",
    " \n",
    "    • Um estimador não é tendencioso quando o ser erro total, depois de muitas iterações, for 0;\n",
    "    \n",
    "    • Existe outra estatística não tendenciosa para estimar a variância\n"
   ]
  },
  {
   "cell_type": "raw",
   "metadata": {},
   "source": [
    "• Podemos testar os estimadores:"
   ]
  },
  {
   "cell_type": "code",
   "execution_count": 47,
   "metadata": {},
   "outputs": [],
   "source": [
    "def estimar_var(mu = 0, sigma = 1, n=10, m=1000):\n",
    "    import random\n",
    "    estimatesb = []\n",
    "    estimatesu = []\n",
    "    for _ in range(m):\n",
    "        xs = [random.gauss(mu, sigma) for _ in range(n)]\n",
    "        biased = np.var(xs)\n",
    "        unbiased = np.var(xs, ddof=1)\n",
    "        estimatesb.append(biased)\n",
    "        estimatesu.append(unbiased)\n",
    "    def erro_medio(estimates, actual):\n",
    "        errors = [estimate-actual for estimate in estimates]\n",
    "        return np.mean(errors)\n",
    "\n",
    "    print('Erro médio enviesado', round(erro_medio(estimatesb, sigma**2),2))\n",
    "    print('Erro médio não-enviesado', round(erro_medio(estimatesu, sigma**2),2))"
   ]
  },
  {
   "cell_type": "code",
   "execution_count": 48,
   "metadata": {},
   "outputs": [
    {
     "name": "stdout",
     "output_type": "stream",
     "text": [
      "Erro médio enviesado -21116.58\n",
      "Erro médio não-enviesado -691.2\n"
     ]
    }
   ],
   "source": [
    "estimar_var(vazoes_maximas['Natural'].mean(),vazoes_maximas['Natural'].std(),100)"
   ]
  },
  {
   "cell_type": "markdown",
   "metadata": {},
   "source": [
    "#### Bootstrap"
   ]
  },
  {
   "cell_type": "raw",
   "metadata": {},
   "source": [
    "  ◘ O procedimento  bootstrap  é  uma  técnica  de  reamostragem,  muito  utilizada  em  diferentes situações estatísticas.  A  base da  técnica é a  obtenção de  um novo  conjunto de  dados, por reamostragem do conjunto de dados original. Um ponto importante da técnica bootstrap não é somente avaliar as estimativas dos parâmetros, mas também obter boas estimativas dos erros padrão  da  distribuição  gerada  pelas  estimativas  dos  parâmetros  nas  iterações  de reamostragem. \n",
    "\n",
    "    ◘ Em resumo a técnica bootstrap é baseada no uso de dados reamostrados para realizar inferência estatística, que pode ser feita da seguinte forma:\n",
    "      • Primeiro, cria uma amostra bootstrap, que é um array reamostrado dos dados.\n",
    "      • Calcula a réplica bootstrap, que é a rstatística calculada a partir de um array reamostrado.\n",
    "      • Repete os passos anteriores n vezes\n",
    "      • Calcula o intervalo de confiana %p\n",
    "\n",
    "    ◘ O intervalo de confiança %p. Pode ser definido como: Se nós calculamos uma réplica bootstrap diversas vezes, p% dos valores obtidos estará dentro do intervalo de confiança p%."
   ]
  },
  {
   "cell_type": "raw",
   "metadata": {},
   "source": [
    "• Nesse passo serão geradas amostras de bootstrap a partir do conjunto de dados das vazões máximas anuais da série naturalizada (com base no ano hidrológico). Ao exibir graficamente as amostras de bootstrap com um ECDF, você pode ter uma ideia de como a amostragem de bootstrap permite descrições probabilísticas de dados."
   ]
  },
  {
   "cell_type": "code",
   "execution_count": 49,
   "metadata": {},
   "outputs": [],
   "source": [
    "maximas_natural = ano_hidrologico_vazoes(vazoes)\n",
    "maximas_natural = maximas_natural['Natural']"
   ]
  },
  {
   "cell_type": "code",
   "execution_count": 50,
   "metadata": {},
   "outputs": [
    {
     "data": {
      "image/png": "[encoded data removed]",
      "text/plain": [
       "<Figure size 432x288 with 1 Axes>"
      ]
     },
     "metadata": {},
     "output_type": "display_data"
    }
   ],
   "source": [
    "for _ in range(50):\n",
    "    # Generate bootstrap sample: bs_sample\n",
    "    bs_sample = np.random.choice(maximas_natural, size=len(maximas_natural))\n",
    "    # Compute and plot ECDF from bootstrap sample\n",
    "    x, y = ecdf(bs_sample)\n",
    "    _ = plt.plot(x, y, marker='.', linestyle='none',\n",
    "                 color='gray', alpha=0.1)\n",
    "# Compute and plot ECDF from original data\n",
    "x, y = ecdf(maximas_natural)\n",
    "_ = plt.plot(x, y, marker='.',linewidth=2)\n",
    "# Make margins and label axes\n",
    "plt.margins(0.02)\n",
    "_ = plt.xlabel('Vazão Máxima Anual (m³/s)')\n",
    "_ = plt.ylabel('ECDF')\n",
    "# Show the plot\n",
    "plt.show()"
   ]
  },
  {
   "cell_type": "raw",
   "metadata": {},
   "source": [
    "◘ Podemos calcular a função de densidade de probabilidade da precipitação média uma estação a partir do bootstrap. É importante entender que a estimativa é baseada na premissa que todas as medições da estação pode se repetir. \n",
    "◘ Esta é uma estimativa probabilística da média. Ao plotar o PDF como um histograma, poderemos ver uma distribuição Normal."
   ]
  },
  {
   "cell_type": "code",
   "execution_count": 51,
   "metadata": {},
   "outputs": [],
   "source": [
    "def bootstrap_replicate_1d(data, func):\n",
    "    return func(np.random.choice(data, size=len(data)))\n",
    "def draw_bs_reps(data, func, size=1):\n",
    "    \"\"\"Draw bootstrap replicates.\"\"\"\n",
    "\n",
    "    # Initialize array of replicates: bs_replicates\n",
    "    bs_replicates = np.empty(size)\n",
    "\n",
    "    # Generate replicates\n",
    "    for i in range(size):\n",
    "        bs_replicates[i] = bootstrap_replicate_1d(data, func)\n",
    "\n",
    "    return bs_replicates"
   ]
  },
  {
   "cell_type": "code",
   "execution_count": 52,
   "metadata": {},
   "outputs": [
    {
     "name": "stdout",
     "output_type": "stream",
     "text": [
      "123.3546789096377\n",
      "121.9825642970836\n"
     ]
    },
    {
     "data": {
      "image/png": "[encoded data removed]",
      "text/plain": [
       "<Figure size 432x288 with 1 Axes>"
      ]
     },
     "metadata": {},
     "output_type": "display_data"
    }
   ],
   "source": [
    "# Take 10,000 bootstrap replicates of the mean: bs_replicates\n",
    "bs_replicates = draw_bs_reps(maximas_natural, np.mean, size=10000)\n",
    "\n",
    "# Compute and print SEM\n",
    "sem = np.std(maximas_natural) / np.sqrt(len(maximas_natural))\n",
    "print(sem)\n",
    "\n",
    "# Compute and print standard deviation of bootstrap replicates\n",
    "bs_std = np.std(bs_replicates)\n",
    "print(bs_std)\n",
    "\n",
    "# Make a histogram of the results\n",
    "_ = plt.hist(bs_replicates, bins=50, normed=True)\n",
    "_ = plt.xlabel('Vazão Máxima Anual Média(m³/s)')\n",
    "_ = plt.ylabel('PDF')\n",
    "\n",
    "# Show the plot\n",
    "plt.show()"
   ]
  },
  {
   "cell_type": "raw",
   "metadata": {},
   "source": [
    "    ◘ Podemos admitir, teoricamente que, sob condições não muito restritivas, o valor da média será norlmamente distribuído.\n",
    "    ◘ Isso não necessariamente se aplica à outras estatísticas.\n",
    "    ◘ O desvio padrão, que pode ser chamado de erro padrão da média (sem), pode ser dado pelo desvio padrão dos dados dividido pela raiz do número de pontos.\n",
    "    ◘ Que podemos calcular a partir de bootstrap."
   ]
  },
  {
   "cell_type": "code",
   "execution_count": 53,
   "metadata": {},
   "outputs": [
    {
     "name": "stdout",
     "output_type": "stream",
     "text": [
      "Erro padrão da média 123.35\n",
      "Desvio padrão das amostras bootstrap 124.48\n"
     ]
    }
   ],
   "source": [
    "# Take 10,000 bootstrap replicates of the mean: bs_replicates\n",
    "bs_replicates = draw_bs_reps(maximas_natural, np.mean, size=10000)\n",
    "\n",
    "# Compute and print SEM\n",
    "sem = np.std(maximas_natural) / np.sqrt(len(maximas_natural))\n",
    "print('Erro padrão da média {}'.format(round(sem,2)))\n",
    "\n",
    "# Compute and print standard deviation of bootstrap replicates\n",
    "bs_std = np.std(bs_replicates)\n",
    "print('Desvio padrão das amostras bootstrap {}'.format(round(bs_std,2)))"
   ]
  },
  {
   "cell_type": "raw",
   "metadata": {},
   "source": [
    "◘ Vimos em um exercício anterior que a média é normalmente distribuída. Isso não necessariamente se aplica a outras estatísticas.\n",
    "◘ Vamos testar aplicar para a variância."
   ]
  },
  {
   "cell_type": "code",
   "execution_count": 54,
   "metadata": {},
   "outputs": [
    {
     "data": {
      "image/png": "[encoded data removed]",
      "text/plain": [
       "<Figure size 432x288 with 1 Axes>"
      ]
     },
     "metadata": {},
     "output_type": "display_data"
    }
   ],
   "source": [
    "# Generate 10,000 bootstrap replicates of the variance: bs_replicates\n",
    "bs_replicates = draw_bs_reps(maximas_natural,np.var,size=10000)\n",
    "\n",
    "# Put the variance in units of square centimeters\n",
    "bs_replicates=bs_replicates/100\n",
    "\n",
    "# Make a histogram of the results\n",
    "_ = plt.hist(bs_replicates, bins=50, normed=True)\n",
    "_ = plt.xlabel('Variância das Máximas Anuais (m³/s)')\n",
    "_ = plt.ylabel('PDF')\n",
    "\n",
    "# Show the plot\n",
    "plt.show()"
   ]
  },
  {
   "cell_type": "raw",
   "metadata": {},
   "source": [
    "◘ Com base na distribuição das amotras bootstrap podemos calcular o intervalo de confiança da variância das Máximas Anuais, por exemplo."
   ]
  },
  {
   "cell_type": "code",
   "execution_count": 55,
   "metadata": {},
   "outputs": [
    {
     "name": "stdout",
     "output_type": "stream",
     "text": [
      "Intervalo de confiança de 95% para a variância = [ 7997.87 18697.56]\n"
     ]
    }
   ],
   "source": [
    "# Compute the 95% confidence interval: conf_int\n",
    "conf_int = np.percentile(bs_replicates, [2.5, 97.5])\n",
    "# Print the confidence interval\n",
    "print('Intervalo de confiança de 95% para a variância =', conf_int.round(2))"
   ]
  },
  {
   "cell_type": "markdown",
   "metadata": {},
   "source": [
    "### Capítulo 9 - Teste de Hipóteses"
   ]
  },
  {
   "cell_type": "raw",
   "metadata": {},
   "source": [
    "◘ Avaliação probabilística,a partir de uma amostra, de quão razoável é assumir que uma determinada hipótese é verdadeira. A hipótese em questão é tipicamente chamada de hipótese nula.\n",
    "    • O primeiro passo para quantificar o tamanho do efeito aparente é escolher um teste estatístico;\n",
    "    • Em seguida, define-se a hispótese nula, que é a suposição de que o efeito aparente não é real;\n",
    "    • Calcula-se o valor-p, que é a probabilidade de acontecer o efeito aparente se a hipótese nula for verdadeira;\n",
    "    • Por fim, interpreta-se o resultado.\n",
    "\n",
    "◘ Se o valor-p é pequeno, é dito que o efeito é estatisticamente significante, o que quer dizer que é improvável que ocorreu ao acaso. Nesse caso, infere-se que é mais provável de aparecer na população maior.\n",
    "\n",
    "◘ Resumidamente: O teste de hipóteses assume temporarimanete que o efeito não é real. Essa é a hipótese nula. Baseado nessa premissa, calcula-se a probabilidade do efeito aparente. Esse é o valor-p. Se o valor-p é baixo, nós concluímos que a hipótese nula é improvável de ser verdadeira."
   ]
  },
  {
   "cell_type": "markdown",
   "metadata": {},
   "source": [
    "#### O teste da Moeda"
   ]
  },
  {
   "cell_type": "raw",
   "metadata": {},
   "source": [
    "• Supondo que nós jogamos uma moeda 250 vezes, e nós vemos 140 caras(H) e 110 coroas(T). Com base nesse resultado, podemos suspeitar que a moeda é enviesada; isto é, mais propenso a aparecer caras. Para testar essa hipótese, calculamos a probabilidade de ver tal diferença se a moeda for realmente sem viés. "
   ]
  },
  {
   "cell_type": "code",
   "execution_count": 56,
   "metadata": {},
   "outputs": [
    {
     "name": "stdout",
     "output_type": "stream",
     "text": [
      "O valor-p para o teste foi de 6.71%\n"
     ]
    }
   ],
   "source": [
    "import random\n",
    "data = (140,110) #Número de vezes que apareceu cada uma (Caras,coroas)\n",
    "iters= 10000 #Número de iterações que queremos assumir\n",
    "def valorp(data,iters):\n",
    "    H,T=data\n",
    "    n=sum(data)\n",
    "    atual=abs(H-T)\n",
    "    def run_model(n):\n",
    "        sample=[random.choice('HT') for i in range(n)]\n",
    "        data=[sample.count('H'),sample.count('T')]\n",
    "        diff=abs(data[0]-data[1])\n",
    "        return diff\n",
    "    test=[run_model(n) for _ in range(iters)]\n",
    "    count=sum(1 for x in test if x>= atual)\n",
    "    valorp=count/iters*100\n",
    "    return valorp\n",
    "valor_p=valorp(data,iters)\n",
    "print('O valor-p para o teste foi de {}%'.format(round(valor_p,2)))"
   ]
  },
  {
   "cell_type": "raw",
   "metadata": {},
   "source": [
    "◘  Por convenção, adota-se um limiar de 5% para uma significância estatística. Se o valor-p for menor que 5%, o efeito é consideradoo significante, por outro lado, se for maior não é.\n",
    "\n",
    "◘ A escolha de 5% é arbitrária, uma vez que o valor-p depende do teste estatístico escolhido e do modelo da hipótese nula. Então, o vlaor-p não pode ser considerado como uma medição precisa."
   ]
  },
  {
   "cell_type": "markdown",
   "metadata": {},
   "source": [
    "#### Permutação"
   ]
  },
  {
   "cell_type": "raw",
   "metadata": {},
   "source": [
    "◘ Se assumirmos que duas amostras tem distribuições idênticas, a técnica da permutação é muito indicada para testarmos uma hipótese nula. A técnica consiste em alguns passos:\n",
    "    • Primeiro, concatena as duas amostras, já que elas assumem a mesma distribuição;\n",
    "    • Em seguida embaralhas os dados aleatoriamente;\n",
    "    • Cria-se novamente duas amostras de mesmo tamanho das amostras iniciais (chamadas de amostradas de permutação) com base nos dados embaralhados anteriormente;\n",
    "    • Testa a hipótese com essas nova amostras repetidas vezes;\n",
    "    • Calcula-se o valor-p;\n",
    "    • Interpreta os resultados."
   ]
  },
  {
   "cell_type": "code",
   "execution_count": 57,
   "metadata": {},
   "outputs": [],
   "source": [
    "def permutation_sample(data1, data2):\n",
    "    \"\"\"Gerar amostras de permutação para duas dois conjuntos de dados\"\"\"\n",
    "\n",
    "    # Concatenate the data sets: data\n",
    "    data = np.concatenate((data1,data2))\n",
    "\n",
    "    # Permute the concatenated array: permuted_data\n",
    "    permuted_data = np.random.permutation(data)\n",
    "\n",
    "    # Split the permuted array into two: perm_sample_1, perm_sample_2\n",
    "    perm_sample_1 = permuted_data[:len(data1)]\n",
    "    perm_sample_2 = permuted_data[len(data1):]\n",
    "\n",
    "    return perm_sample_1, perm_sample_2"
   ]
  },
  {
   "cell_type": "raw",
   "metadata": {},
   "source": [
    "• Vamos, por exemplo, testar a permutação considerando as vazões máximas anuais observadas e as vazões máximas anuais naturais. Esperamos que estes possam ser distribuídos de forma diferente, por isso, vamos recolher amostras de permutação para ver como ficariam os seus ECDFs se fossem distribuídos de forma idêntica."
   ]
  },
  {
   "cell_type": "code",
   "execution_count": 60,
   "metadata": {},
   "outputs": [
    {
     "data": {
      "image/png": "[encoded data removed]",
      "text/plain": [
       "<Figure size 432x288 with 1 Axes>"
      ]
     },
     "metadata": {},
     "output_type": "display_data"
    }
   ],
   "source": [
    "#Vizualiando amostras de permutação\n",
    "niters=50\n",
    "for _ in range(niters):\n",
    "    # Gerando amostras de permutação\n",
    "    perm_sample_1, perm_sample_2 = permutation_sample(\n",
    "                                    vazoes_maximas['Natural'], vazoes_maximas['Observada'])\n",
    "\n",
    "    # Compute ECDFs\n",
    "    x_1, y_1 = ecdf(perm_sample_1)\n",
    "    x_2, y_2 = ecdf(perm_sample_2)\n",
    "\n",
    "    # Plot ECDFs da amostra de permutação\n",
    "    _ = plt.plot(x_1, y_1, marker='.', linestyle='none',\n",
    "                 color='red', alpha=0.02)\n",
    "    _ = plt.plot(x_2, y_2, marker='.', linestyle='none',\n",
    "                 color='blue', alpha=0.02)\n",
    "\n",
    "# Criar e plotar ECDFs dos dados orignais\n",
    "x_1, y_1 = ecdf(vazoes_maximas['Natural'])\n",
    "x_2, y_2 = ecdf(vazoes_maximas['Observada'])\n",
    "_ = plt.plot(x_1, y_1, marker=' ', linestyle='-', color='red')\n",
    "_ = plt.plot(x_2, y_2, marker=' ', linestyle='-', color='blue')\n",
    "\n",
    "# Label axes, set margin, and show plot\n",
    "plt.margins(0.02)\n",
    "_ = plt.xlabel('Vazão Máxima Anual (m³/s)')\n",
    "_ = plt.ylabel('ECDF')\n",
    "plt.show()"
   ]
  },
  {
   "cell_type": "markdown",
   "metadata": {},
   "source": [
    "#### Teste Estatístico Usando Permutação"
   ]
  },
  {
   "cell_type": "raw",
   "metadata": {},
   "source": [
    "◘ Um único número que pode ser calculado a partir de dados observados e de dados que você simula sob a hipótese nula. Serve como base de comparação entre o que a hipótese nula prediz e o que realmente observamos.\n",
    "◘ O teste estatístico deve ser escolhido deve ser pertinente para tentar responder a hipótese em questão.\n",
    "◘ Com base na permutação, pode ser útil fazer uma função que retorna o teste estatístico."
   ]
  },
  {
   "cell_type": "code",
   "execution_count": 61,
   "metadata": {},
   "outputs": [],
   "source": [
    "def draw_perm_reps(data_1, data_2, func, size=1):\n",
    "    \"\"\"Gerar replicações de múltiplas permutações.\"\"\"\n",
    "\n",
    "    # Inicializar um array de replicações: perm_replicates\n",
    "    perm_replicates = np.empty(size)\n",
    "\n",
    "    for i in range(size):\n",
    "        # Gerar amostras de permutação\n",
    "        perm_sample_1, perm_sample_2 = permutation_sample(data_1, data_2)\n",
    "\n",
    "        # Calcular o teste estatístico\n",
    "        perm_replicates[i] = func(perm_sample_1, perm_sample_2)\n",
    "\n",
    "    return perm_replicates"
   ]
  },
  {
   "cell_type": "markdown",
   "metadata": {},
   "source": [
    "##### Diferença entre médias"
   ]
  },
  {
   "cell_type": "raw",
   "metadata": {},
   "source": [
    "◘ Um dos testes estatísticos mais comuns é o teste da diferença de média entre dois conjuntos de dados.\n",
    "◘ Podemos utilizar a função de permutação para testar a diferença entre duas médias."
   ]
  },
  {
   "cell_type": "code",
   "execution_count": 64,
   "metadata": {},
   "outputs": [
    {
     "name": "stdout",
     "output_type": "stream",
     "text": [
      "p-value = 0.0003\n"
     ]
    }
   ],
   "source": [
    "def diff_of_means(data_1, data_2):\n",
    "    \"\"\"Diferença de média de dois arrays.\"\"\"\n",
    "    # A diferença de média de data_1, data_2: diff\n",
    "    diff = abs(np.mean(data_1) - np.mean(data_2))\n",
    "    return diff\n",
    "\n",
    "# Calcular a diferença de média empirica\n",
    "empirical_diff_means = diff_of_means(vazoes_maximas['Natural'], vazoes_maximas['Observada'])\n",
    "\n",
    "# Fazer a permutação da diferença de médias 10000x : perm_replicates\n",
    "perm_replicates = draw_perm_reps(vazoes_maximas['Natural'], vazoes_maximas['Observada'],\n",
    "                                 diff_of_means, size=10000)\n",
    "\n",
    "# Calcular o valor-p: p\n",
    "p = np.sum(perm_replicates >= empirical_diff_means) / len(perm_replicates)\n",
    "\n",
    "# Gerar o resultado\n",
    "print('p-value =', p)"
   ]
  },
  {
   "cell_type": "raw",
   "metadata": {},
   "source": [
    "◘ Valor p de 0.0003, o que significa que nós esperamos ver uma diferença tão grande quanto a obserda cerca de 0,3% do tempo. Então este efeito é estatisticamente significamente.\n",
    "◘ Podemos mostrar a CDF da diferença de médias obtidas pela permutação, onde a linha cinza intercepta a diferença observada em 99,7% que é o complemento do valor-p."
   ]
  },
  {
   "cell_type": "code",
   "execution_count": 65,
   "metadata": {},
   "outputs": [
    {
     "data": {
      "image/png": "[encoded data removed]",
      "text/plain": [
       "<Figure size 432x288 with 1 Axes>"
      ]
     },
     "metadata": {},
     "output_type": "display_data"
    }
   ],
   "source": [
    "x_1, y_1 = ecdf(perm_replicates/len(perm_replicates))\n",
    "_ = plt.plot(x_1, y_1, marker=' ', linestyle = '-')\n",
    "_ = plt.xlabel('Diferença de Médias')\n",
    "_ = plt.ylabel('ECDF')\n",
    "vertical = empirical_diff_means/len(perm_replicates)\n",
    "_ = plt.plot([vertical,vertical],[0,1], marker=' ', linestyle = '-', color='grey')\n",
    "\n",
    "# Display the plot\n",
    "plt.margins(0.02)\n",
    "plt.show()"
   ]
  },
  {
   "cell_type": "markdown",
   "metadata": {},
   "source": [
    "##### Outros testes"
   ]
  },
  {
   "cell_type": "raw",
   "metadata": {},
   "source": [
    "◘ A escolha do teste estatístico depende do questionamento que está sendo feito.\n",
    "◘ Podemos testar também, a diferença entre o desvio padrão, utilizando permutação."
   ]
  },
  {
   "cell_type": "code",
   "execution_count": 66,
   "metadata": {},
   "outputs": [
    {
     "name": "stdout",
     "output_type": "stream",
     "text": [
      "p-value = 0.9282\n"
     ]
    }
   ],
   "source": [
    "def diff_of_stds(data_1, data_2):\n",
    "    \"\"\"Diferença de média de dois arrays.\"\"\"\n",
    "    # A diferença de média de data_1, data_2: diff\n",
    "    diff = abs(np.std(data_1) - np.std(data_2))\n",
    "    return diff\n",
    "\n",
    "# Calcular a diferença de média empirica\n",
    "empirical_diff_stds = diff_of_stds(vazoes_maximas['Natural'], vazoes_maximas['Observada'])\n",
    "\n",
    "# Fazer a permutação da diferença de médias 10000x : perm_replicates\n",
    "perm_replicates = draw_perm_reps(vazoes_maximas['Natural'], vazoes_maximas['Observada'],\n",
    "                                 diff_of_stds, size=10000)\n",
    "\n",
    "# Calcular o valor-p: p\n",
    "p = np.sum(perm_replicates >= empirical_diff_stds) / len(perm_replicates)\n",
    "\n",
    "# Gerar o resultado\n",
    "print('p-value =', p)"
   ]
  },
  {
   "cell_type": "raw",
   "metadata": {},
   "source": [
    "◘ Valor p de 0.93, o que significa que nós esperamos ver uma diferença tão grande quanto a obserda cerca de 93% do tempo. Então este efeito não é estatisticamente significamente.\n",
    "◘ Podemos mostrar a CDF das diferenças de desvio padrão obtidas pela permutação, onde a linha cinza intercepta a diferença observada em 7% que é o complemento do valor-p."
   ]
  },
  {
   "cell_type": "code",
   "execution_count": 67,
   "metadata": {
    "scrolled": true
   },
   "outputs": [
    {
     "data": {
      "image/png": "[encoded data removed]",
      "text/plain": [
       "<Figure size 432x288 with 1 Axes>"
      ]
     },
     "metadata": {},
     "output_type": "display_data"
    }
   ],
   "source": [
    "x_1, y_1 = ecdf(perm_replicates/len(perm_replicates))\n",
    "_ = plt.plot(x_1, y_1, marker=' ', linestyle = '-')\n",
    "_ = plt.xlabel('Diferença de Desvio Padrão')\n",
    "_ = plt.ylabel('ECDF')\n",
    "vertical = empirical_diff_stds/len(perm_replicates)\n",
    "_ = plt.plot([vertical,vertical],[0,1], marker=' ', linestyle = '-', color='grey')\n",
    "\n",
    "# Display the plot\n",
    "plt.margins(0.02)\n",
    "plt.show()"
   ]
  },
  {
   "cell_type": "markdown",
   "metadata": {},
   "source": [
    "##### Testando Correlação"
   ]
  },
  {
   "cell_type": "raw",
   "metadata": {},
   "source": [
    "◘ A permutação também pode ser usada para testar uma correlação. A hipóstese nula é que não há correlação entre as séries de vazões naturais e observadas. "
   ]
  },
  {
   "cell_type": "code",
   "execution_count": 68,
   "metadata": {},
   "outputs": [
    {
     "name": "stdout",
     "output_type": "stream",
     "text": [
      "Correlação Empírica = 0.74\n",
      "p-value = 0.0\n"
     ]
    }
   ],
   "source": [
    "def correlacao(data_1, data_2):\n",
    "    \"\"\"Diferença de média de dois arrays.\"\"\"\n",
    "    # A diferença de média de data_1, data_2: diff\n",
    "    corr = np.corrcoef(data_1,data_2)\n",
    "    return corr[0][1]\n",
    "\n",
    "# Calcular a diferença de média empirica\n",
    "empirical_corr = correlacao(vazoes_maximas['Natural'], vazoes_maximas['Observada'])\n",
    "print('Correlação Empírica =',empirical_corr.round(2))\n",
    "# Fazer a permutação da diferença de médias 10000x : perm_replicates\n",
    "perm_replicates = draw_perm_reps(vazoes_maximas['Natural'], vazoes_maximas['Observada'],\n",
    "                                 correlacao, size=10000)\n",
    "\n",
    "# Calcular o valor-p: p\n",
    "p = np.sum(perm_replicates >= empirical_corr) / len(perm_replicates)\n",
    "\n",
    "# Gerar o resultado\n",
    "print('p-value =', p)"
   ]
  },
  {
   "cell_type": "raw",
   "metadata": {},
   "source": [
    "◘ O valor-p calculado é 0, o que significa dizer que a correlação empírica é estatísticamente significante."
   ]
  },
  {
   "cell_type": "markdown",
   "metadata": {},
   "source": [
    "### Erros"
   ]
  },
  {
   "cell_type": "raw",
   "metadata": {},
   "source": [
    "◘ Falso positivo: Se o efeito é realmente devido ao acaso, qual é a probabilidade de ser considerado significante?\n",
    "◘ Falso negativo: Se o efeito for real, qual é a chance do teste de hipótese falhar?"
   ]
  },
  {
   "cell_type": "markdown",
   "metadata": {},
   "source": [
    "### Capítulo 10 - Mínimos Quadrados Linear"
   ]
  },
  {
   "cell_type": "raw",
   "metadata": {},
   "source": [
    "◘ Para entender uma regressão linear, devemos ter em mente 3 principais informações sobre as Séries de Taylor.\n",
    "\n",
    "    1. Podem ser utilizadas para aproximar qualquer curva.\n",
    "    2. São expressas como polinômios, através da soma de uma série de termos, onde cada termo é o resultado de um produto de um coeficiente com uma potência de x. Cada um desses produtos são tratados como ordem, por exemplo a0 é o termo de ordem zero, a2*x**2 é o termo de segunda ordem.\n",
    "    3. Em muitas aplicações, para obter uma aproximações muito boas, são necessários somente os termos de zero e de primeira ordem, por exemplo y = a0 + a1 * x.\n",
    "\n",
    "◘ Os modelos lineares podem ser considerados modelos de \"Primeira Ordem\", nos quais os \"termos não lineares\", i.e. termos de segunda ordem ou superiores, são ignorados."
   ]
  },
  {
   "cell_type": "raw",
   "metadata": {},
   "source": [
    "◘ Os coeficientes dos modelos lineares (y= b + a*x) \n",
    "Para um dado valor de 'x' e parâmetros do modelo 'b' e 'a', calculamos um  'y' previsto como sendo 'b + a * x'\n",
    "Neste caso;\n",
    "    x - > É a variável independente, que muda por conta própria.\n",
    "    y - > É a variável dependente, que muda como uma resposta à mudança de 'x'\n",
    "    b -> Parâmetro chamado como coeficiente linear, porque nos da o valor de 'y' quando a reta intercepta a linha vertial em 'x=0'\n",
    "    a -> Parâmetro chamado como coeficiente angular, é uma medida de sensibilidade da existência de uma dependência entre as duas variáveis 'x' e 'y'. Ou, em outras palavras, como duas variáveis co-variam: a inclinação dá a quantidade média pela qual a variável dependente muda quando a variável independente muda.\n",
    "    \n",
    "    \n",
    "◘ Se calcularmos a inclinação a partir de dados reais com variação, os valores de inclinação variarão ao longo do eixo x. Essa variação na inclinação se traduz em uma incerteza em nosso valor \"a\".\n",
    "\n",
    "◘ A distância vertical entre o ponto dos dados e a reta é chamada de resíduo [res = yreal - (b + a*x)]. Quando o valor do resíduo é negativo, significa que o ponto está abaixo da reta."
   ]
  },
  {
   "cell_type": "raw",
   "metadata": {},
   "source": [
    "◘ A escolha mais comum para definir a reta que melhor se adequa aos dados, é aquela para a qual a soma dos quadrados de todos os resíduos é mínima [sum(res**2)]. O processo de obtenção dos parâmetros para o qual a soma dos quadrados dos resíduos é mínima é chamado de Mínimos Quadrados. \n",
    "◘ Há algumas boas razões para a escolha desse método\n",
    "    1. O quadrado, trata os resíduos positivos e negativos da mesma forma, que é o que geralmente queremos.\n",
    "    2. Quadrado dá mais peso a grandes resíduos, mas não tanto peso para que o maior residual sempre domine.\n",
    "    3. Se os residuais são não-correlacionados e normalmente distribuídos com média 0 e variância constante (mas desconhecida), então o ajuste dos mínimos quadrados também é o estimador de máxima verossimilhança.\n",
    "    4. Os parâmetros a0 e a1 que minimiza o quadrado dos resíduos podem ser calculados de forma eficiente."
   ]
  },
  {
   "cell_type": "markdown",
   "metadata": {},
   "source": [
    "#### Aplicação"
   ]
  },
  {
   "cell_type": "raw",
   "metadata": {},
   "source": [
    "◘ Agora podemos calcular a precipitação acumulada anual e tentar identificar a sua relação com as vazões médias anuais entre essas duas variáveis."
   ]
  },
  {
   "cell_type": "code",
   "execution_count": 69,
   "metadata": {},
   "outputs": [],
   "source": [
    "def ano_hidrologico_chuva_vazoes(chuva_vazao):\n",
    "    #ANO HIDROLÓGICO VAZOES\n",
    "    media_mensal=chuva_vazao['Natural'].groupby(chuva_vazao['Natural'].index.month).mean()\n",
    "    mes_menor_media=calendar.month_abbr[media_mensal.idxmin()+1].upper()\n",
    "    frequencia='AS-'+mes_menor_media\n",
    "    vazao_natural_ah=chuva_vazao['Natural'].groupby(pd.Grouper(freq=frequencia)).mean().sort_index()\n",
    "    vazao_natural_ah=vazao_natural_ah[1:-1].round(2)\n",
    "    vazao_natural_ah.index = vazao_natural_ah.index.year\n",
    "    \n",
    "    #ANO HIDROLÓGICO CHUVAS\n",
    "    media_mensal=chuva_vazao['Chuva'].groupby(chuva_vazao['Chuva'].index.month).mean()\n",
    "    mes_menor_media=calendar.month_abbr[media_mensal.idxmin()+1].upper()\n",
    "    frequencia='AS-'+mes_menor_media\n",
    "    chuva_ah=chuva_vazao['Chuva'].groupby(pd.Grouper(freq=frequencia)).sum().sort_index()\n",
    "    chuva_ah=chuva_ah[1:-1]\n",
    "    chuva_ah.index=chuva_ah.index.year\n",
    "    \n",
    "    chuva_vazao_ah = pd.concat([chuva_ah,vazao_natural_ah],axis=1)\n",
    "    return chuva_vazao_ah"
   ]
  },
  {
   "cell_type": "code",
   "execution_count": 123,
   "metadata": {},
   "outputs": [
    {
     "data": {
      "text/html": [
       "<div>\n",
       "<style scoped>\n",
       "    .dataframe tbody tr th:only-of-type {\n",
       "        vertical-align: middle;\n",
       "    }\n",
       "\n",
       "    .dataframe tbody tr th {\n",
       "        vertical-align: top;\n",
       "    }\n",
       "\n",
       "    .dataframe thead th {\n",
       "        text-align: right;\n",
       "    }\n",
       "</style>\n",
       "<table border=\"1\" class=\"dataframe\">\n",
       "  <thead>\n",
       "    <tr style=\"text-align: right;\">\n",
       "      <th></th>\n",
       "      <th>Chuva</th>\n",
       "      <th>Natural</th>\n",
       "    </tr>\n",
       "  </thead>\n",
       "  <tbody>\n",
       "    <tr>\n",
       "      <th>1975</th>\n",
       "      <td>881.5</td>\n",
       "      <td>379.52</td>\n",
       "    </tr>\n",
       "    <tr>\n",
       "      <th>1976</th>\n",
       "      <td>1238.4</td>\n",
       "      <td>630.26</td>\n",
       "    </tr>\n",
       "    <tr>\n",
       "      <th>1977</th>\n",
       "      <td>1321.9</td>\n",
       "      <td>581.93</td>\n",
       "    </tr>\n",
       "    <tr>\n",
       "      <th>1978</th>\n",
       "      <td>1595.5</td>\n",
       "      <td>1109.96</td>\n",
       "    </tr>\n",
       "    <tr>\n",
       "      <th>1979</th>\n",
       "      <td>1448.3</td>\n",
       "      <td>937.24</td>\n",
       "    </tr>\n",
       "  </tbody>\n",
       "</table>\n",
       "</div>"
      ],
      "text/plain": [
       "       Chuva  Natural\n",
       "1975   881.5   379.52\n",
       "1976  1238.4   630.26\n",
       "1977  1321.9   581.93\n",
       "1978  1595.5  1109.96\n",
       "1979  1448.3   937.24"
      ]
     },
     "execution_count": 123,
     "metadata": {},
     "output_type": "execute_result"
    }
   ],
   "source": [
    "chuva_vazao_ah = ano_hidrologico_chuva_vazoes(chuva_vazao)\n",
    "chuva_vazao_ah.head()"
   ]
  },
  {
   "cell_type": "code",
   "execution_count": 71,
   "metadata": {},
   "outputs": [
    {
     "name": "stdout",
     "output_type": "stream",
     "text": [
      "O coeficiente de correlação de person é: r=0.67\n"
     ]
    },
    {
     "data": {
      "image/png": "[encoded data removed]",
      "text/plain": [
       "<Figure size 432x288 with 1 Axes>"
      ]
     },
     "metadata": {},
     "output_type": "display_data"
    }
   ],
   "source": [
    "def pearson_r(x,y):\n",
    "    \"\"\"Compute Pearson correlation coefficient between two arrays.\"\"\"\n",
    "    corr_mat=np.corrcoef(x,y)\n",
    "    return corr_mat[0,1]\n",
    "\n",
    "# Compute Pearson correlation coefficient: r\n",
    "r=pearson_r(chuva_vazao_ah['Chuva'], chuva_vazao_ah['Natural'])\n",
    "\n",
    "# Print the result\n",
    "print (\"O coeficiente de correlação de person é: r={}\".format(round(r,2)))\n",
    "\n",
    "# Plot the illiteracy rate versus fertility\n",
    "_ = plt.plot(chuva_vazao_ah['Chuva'], chuva_vazao_ah['Natural'], marker='.', linestyle='none')\n",
    "\n",
    "# Set the margins and label axes\n",
    "plt.margins(0.02)\n",
    "_ = plt.xlabel('Chuva (mm/ano)')\n",
    "_ = plt.ylabel('Vazão Média Anual (m³/s)')\n",
    "\n",
    "# Show the plot\n",
    "plt.show()"
   ]
  },
  {
   "cell_type": "raw",
   "metadata": {},
   "source": [
    "◘ A função np.polyfit() pode ser usada para na regressão linear para encontrar os parâmetros ótimos de a0 e a1. A otimização utilizada é a soma dos quadrados dos resíduos (RSS). "
   ]
  },
  {
   "cell_type": "code",
   "execution_count": 105,
   "metadata": {},
   "outputs": [
    {
     "name": "stdout",
     "output_type": "stream",
     "text": [
      "Parâmetro a =0.81, e b = -306.41\n"
     ]
    },
    {
     "data": {
      "image/png": "[encoded data removed]",
      "text/plain": [
       "<Figure size 432x288 with 1 Axes>"
      ]
     },
     "metadata": {},
     "output_type": "display_data"
    }
   ],
   "source": [
    "# Perform linear regression: a, b\n",
    "a, b = np.polyfit(chuva_vazao_ah['Chuva'], chuva_vazao_ah['Natural'],1)\n",
    "\n",
    "# Print the slope and intercept\n",
    "print ('Parâmetro a ={}, e b = {}'.format(round(a,2),round(b,2)))\n",
    "\n",
    "# Generate theoretical x and y data: x_theor, y_theor\n",
    "x_theor = np.array([chuva_vazao_ah['Chuva'].min(), chuva_vazao_ah['Chuva'].max()])\n",
    "y_theor = x_theor * a + b\n",
    "\n",
    "# Plot the Anscombe data and theoretical line\n",
    "_ = plt.plot(chuva_vazao_ah['Chuva'], chuva_vazao_ah['Natural'], marker='.', linestyle='none')\n",
    "_ = plt.plot(x_theor, y_theor, marker=' ', linestyle='-')\n",
    "\n",
    "# Label the axes\n",
    "plt.xlabel('Chuva (mm/ano)')\n",
    "plt.ylabel('Vazão Média Anual (m³/s)')\n",
    "\n",
    "# Show the plot\n",
    "plt.show()"
   ]
  },
  {
   "cell_type": "raw",
   "metadata": {},
   "source": [
    "◘ Para efeitos didáticos, podemos plotar a função que está sendo otimizada, o RSS, versus o parâmetro o coeficiente de inclinação da reta (a)."
   ]
  },
  {
   "cell_type": "code",
   "execution_count": 74,
   "metadata": {},
   "outputs": [
    {
     "data": {
      "image/png": "[encoded data removed]",
      "text/plain": [
       "<Figure size 432x288 with 1 Axes>"
      ]
     },
     "metadata": {},
     "output_type": "display_data"
    }
   ],
   "source": [
    "# Specify slopes to consider: a_vals\n",
    "a_vals = np.linspace(0,1.6,200)\n",
    "\n",
    "# Initialize sum of square of residuals: rss\n",
    "rss = np.empty_like(a_vals)\n",
    "\n",
    "# Compute sum of square of residuals for each value of a_vals\n",
    "for i, a in enumerate(a_vals):\n",
    "    rss[i] = np.sum((np.array(chuva_vazao_ah['Natural']) - np.array(chuva_vazao_ah['Chuva'])*a -b)**2)\n",
    "\n",
    "# Compute the values of min\n",
    "rss_minimo = rss.min()\n",
    "loc_result = np.where(rss == rss.min())[0]\n",
    "a_min = a_vals[loc_result]\n",
    "# Plot the RSS\n",
    "_ = plt.plot(a_vals, rss, '-')\n",
    "_ = plt.plot(a_min,rss_minimo, '.',color='red',markersize=12)\n",
    "\n",
    "#Plot the min\n",
    "\n",
    "plt.xlabel('Coeficiente A (X / Y)')\n",
    "plt.ylabel('RSS')\n",
    "\n",
    "plt.show()"
   ]
  },
  {
   "cell_type": "markdown",
   "metadata": {},
   "source": [
    "#### Resíduos"
   ]
  },
  {
   "cell_type": "raw",
   "metadata": {},
   "source": [
    "◘ Semelhante ao que foi discutido no capítulo 7"
   ]
  },
  {
   "cell_type": "code",
   "execution_count": 88,
   "metadata": {},
   "outputs": [
    {
     "data": {
      "text/plain": [
       "array([ -25.84248726,  -63.2850411 , -179.03796978,  128.07091302,\n",
       "         74.20905795,  -12.7412898 ,  181.44381582,  587.73297426,\n",
       "        316.15938432,  180.88311687, -245.21254839,  -91.00892563,\n",
       "       -121.61759737,  -64.92786261, -332.29536399, -149.972341  ,\n",
       "       -182.55783533])"
      ]
     },
     "execution_count": 88,
     "metadata": {},
     "output_type": "execute_result"
    }
   ],
   "source": [
    "#Calcula o resíduo do ajuste para cada valor\n",
    "res = thinkstats2.Residuals(chuva_vazao_ah['Chuva'], chuva_vazao_ah['Natural'], b, a)\n",
    "res"
   ]
  },
  {
   "cell_type": "code",
   "execution_count": 89,
   "metadata": {},
   "outputs": [],
   "source": [
    "def plot_residuos(dados_chuva, dados_vazao):\n",
    "    dados_month = pd.DataFrame([dados_chuva, dados_vazao])\n",
    "    dados_month = dados_month.T\n",
    "    \n",
    "    dados_month = dados_month.dropna(subset=[dados_chuva.name, dados_vazao.name])\n",
    "    bins = np.arange(1200, 2000, 20)\n",
    "    indices = np.digitize(dados_month[dados_chuva.name], bins)\n",
    "    groups = dados_month.groupby(indices)\n",
    "    \n",
    "    mean_chuva = [group[dados_chuva.name].mean() for i, group in groups]\n",
    "    cdfs = [thinkstats2.Cdf(group[dados_vazao.name]) for i, group in groups]\n",
    "    \n",
    "    for percent in [75, 50, 25]:\n",
    "        vazao_percentiles = [cdf.Percentile(percent) for cdf in cdfs]\n",
    "        label = '%dth' % percent\n",
    "        thinkplot.Plot(mean_chuva, vazao_percentiles, label=label)\n",
    "        thinkplot.Config(xlabel='Chuva', ylabel='Vazão', legend=True)"
   ]
  },
  {
   "cell_type": "code",
   "execution_count": 90,
   "metadata": {
    "scrolled": true
   },
   "outputs": [
    {
     "data": {
      "image/png": "[encoded data removed]",
      "text/plain": [
       "<Figure size 432x288 with 1 Axes>"
      ]
     },
     "metadata": {},
     "output_type": "display_data"
    }
   ],
   "source": [
    "plot_residuos(chuva_vazao_ah['Chuva'], chuva_vazao_ah['Natural'])"
   ]
  },
  {
   "cell_type": "raw",
   "metadata": {},
   "source": [
    "◘ Devido a baixa quantidade de dados o gráfico não pôde ser representativo, fazendo com que as linhas dos percentis 75, 50 e 25 ficassem em cima uma das outras."
   ]
  },
  {
   "cell_type": "markdown",
   "metadata": {},
   "source": [
    "#### Estimação e Intervalos de Confiança"
   ]
  },
  {
   "cell_type": "raw",
   "metadata": {},
   "source": [
    "◘ Os parâmetros inter e slope são estimativas baseadas em uma amostra; como isso são vulneráveis a:\n",
    "    • Viés de amostragem: causado por amostragem não representativa;\n",
    "    • Erro de medição: o erro de medição é causado por erros na coleta e registro de dados;\n",
    "    • Erro de amostragem: resultado da medição de uma amostra em vez de toda a população."
   ]
  },
  {
   "cell_type": "code",
   "execution_count": 91,
   "metadata": {},
   "outputs": [],
   "source": [
    "def SamplingDistributions(x,y, iters=101):\n",
    "    t = []\n",
    "    for _ in range(iters):\n",
    "        sample = thinkstats2.ResampleRows(chuva_vazao_ah)\n",
    "        x = sample[\"Chuva\"]\n",
    "        y = sample[\"Natural\"]\n",
    "        estimates = thinkstats2.LeastSquares(x, y)\n",
    "        t.append(estimates)\n",
    "    inters, slopes = zip(*t)\n",
    "    return inters, slopes\n",
    "\n",
    "def Summarize(estimates, actual=None):\n",
    "    mean = thinkstats2.Mean(estimates)\n",
    "    stderr = thinkstats2.Std(estimates, mu=actual)\n",
    "    cdf = thinkstats2.Cdf(estimates)\n",
    "    ci = cdf.ConfidenceInterval(90)\n",
    "    print('mean: ', mean,  \n",
    "          '\\nSE: ',stderr, \n",
    "          '\\nCI: ', ci)\n",
    "\n",
    "def PlotConfidenceIntervals(xs, inters, slopes, percent=90, **options):\n",
    "    fys_seq = []\n",
    "    for inter, slope in zip(inters, slopes):\n",
    "        fxs, fys = thinkstats2.FitLine(xs, inter, slope)\n",
    "        fys_seq.append(fys)\n",
    "\n",
    "    p = (100 - percent) / 2\n",
    "    percents = p, 100 - p\n",
    "    low, high = thinkstats2.PercentileRows(fys_seq, percents)\n",
    "    thinkplot.FillBetween(fxs, low, high, **options)\n"
   ]
  },
  {
   "cell_type": "code",
   "execution_count": 92,
   "metadata": {},
   "outputs": [
    {
     "name": "stdout",
     "output_type": "stream",
     "text": [
      "Resumo coeficiente b:\n",
      "\n",
      "mean:  -309.6720719416655 \n",
      "SE:  227.16486316879198 \n",
      "CI:  (-660.9740964589548, 68.06768890847138)\n",
      "\n",
      "Resumo coeficiente a:\n",
      "\n",
      "mean:  0.8087927864333045 \n",
      "SE:  0.18185911546305553 \n",
      "CI:  (0.51548085823285, 1.0979744944886691)\n"
     ]
    }
   ],
   "source": [
    "inters, slopes = SamplingDistributions(chuva_vazao_ah['Chuva'], chuva_vazao_ah['Natural'], iters=1001)\n",
    "print ('Resumo coeficiente b:')\n",
    "print ('')\n",
    "Summarize(inters)\n",
    "print ('')\n",
    "print ('Resumo coeficiente a:')\n",
    "print ('')\n",
    "Summarize(slopes)"
   ]
  },
  {
   "cell_type": "code",
   "execution_count": 93,
   "metadata": {},
   "outputs": [
    {
     "data": {
      "image/png": "[encoded data removed]",
      "text/plain": [
       "<Figure size 432x288 with 1 Axes>"
      ]
     },
     "metadata": {},
     "output_type": "display_data"
    }
   ],
   "source": [
    "PlotConfidenceIntervals(chuva_vazao_ah['Chuva'], inters, slopes, percent=90, \n",
    "                        color='gray', alpha=0.3, label='90% CI')\n",
    "PlotConfidenceIntervals(chuva_vazao_ah['Chuva'], inters, slopes, percent=50,\n",
    "                        color='gray', alpha=0.5, label='50% CI')\n",
    "\n",
    "thinkplot.Config(xlabel=\"Chuva (mm/ano)\", ylabel='Vazão Média Anual (m³/s)')"
   ]
  },
  {
   "cell_type": "markdown",
   "metadata": {},
   "source": [
    "#### Bondade de ajuste"
   ]
  },
  {
   "cell_type": "raw",
   "metadata": {},
   "source": [
    "◘ Desvio padrão dos resíduos é a maneira mais simples de medir a bondade do ajuste;\n",
    "◘ O coeficiente de determinação pode ser uma alternativa para medir a bondade do ajuste;\n",
    "    • O coeficiente compara a variância dos resíduos com a variância da variável dependente;\n"
   ]
  },
  {
   "cell_type": "code",
   "execution_count": 106,
   "metadata": {
    "scrolled": true
   },
   "outputs": [
    {
     "name": "stdout",
     "output_type": "stream",
     "text": [
      "R² = 0.47\n"
     ]
    }
   ],
   "source": [
    "r2 = thinkstats2.CoefDetermination(chuva_vazao_ah['Chuva'], res)\n",
    "print('R² =', np.sqrt(r2).round(2))"
   ]
  },
  {
   "cell_type": "markdown",
   "metadata": {},
   "source": [
    "#### Testando um modelo linear"
   ]
  },
  {
   "cell_type": "markdown",
   "metadata": {},
   "source": [
    " - Estatística do teste é $R^{2}$ e a hipótese nula é que não há relação entre as variáveis;\n",
    " - Um teste unilateral de $R_{2}$ é equivalente a um teste bilateral de $\\rho$;\n",
    " - Outra abordagem é testar se a inclinação aparente se deve ao acaso."
   ]
  },
  {
   "cell_type": "code",
   "execution_count": 107,
   "metadata": {},
   "outputs": [],
   "source": [
    "class SlopeTest(thinkstats2.HypothesisTest):\n",
    "\n",
    "    def TestStatistic(self, data):\n",
    "        chuva, vazao = data\n",
    "        _, slope = thinkstats2.LeastSquares(chuva, vazao)\n",
    "        return slope\n",
    "\n",
    "    def MakeModel(self):\n",
    "        _, vazao= self.data\n",
    "        self.ybar = vazao.mean()\n",
    "        self.res = vazao - self.ybar\n",
    "\n",
    "    def RunModel(self):\n",
    "        chuva, _ = self.data\n",
    "        vazao = self.ybar + np.random.permutation(self.res)\n",
    "        return chuva, vazao"
   ]
  },
  {
   "cell_type": "raw",
   "metadata": {},
   "source": [
    "◘ A  estatística do teste  é a  inclinação  estimada pelo LeastSquares"
   ]
  },
  {
   "cell_type": "code",
   "execution_count": 108,
   "metadata": {},
   "outputs": [],
   "source": [
    "ht = SlopeTest((chuva_vazao_ah['Chuva'], chuva_vazao_ah['Natural']))\n",
    "pvalue = ht.PValue()"
   ]
  },
  {
   "cell_type": "code",
   "execution_count": 109,
   "metadata": {},
   "outputs": [
    {
     "data": {
      "text/plain": [
       "0.0"
      ]
     },
     "execution_count": 109,
     "metadata": {},
     "output_type": "execute_result"
    }
   ],
   "source": [
    "pvalue"
   ]
  },
  {
   "cell_type": "raw",
   "metadata": {},
   "source": [
    "◘ Podemos também utilizar a reamostragem para estimar a distribuição amostral da inclinação."
   ]
  },
  {
   "cell_type": "code",
   "execution_count": 110,
   "metadata": {},
   "outputs": [],
   "source": [
    "reamostragem_cdf = thinkstats2.Cdf(slopes)"
   ]
  },
  {
   "cell_type": "code",
   "execution_count": 112,
   "metadata": {},
   "outputs": [
    {
     "data": {
      "image/png": "[encoded data removed]",
      "text/plain": [
       "<Figure size 432x288 with 1 Axes>"
      ]
     },
     "metadata": {},
     "output_type": "display_data"
    }
   ],
   "source": [
    "thinkplot.PrePlot(2)\n",
    "thinkplot.Plot([0, 0], [0, 1], color='0.8')\n",
    "ht.PlotCdf(label='Hipótese nula')"
   ]
  },
  {
   "cell_type": "code",
   "execution_count": 111,
   "metadata": {
    "scrolled": true
   },
   "outputs": [
    {
     "data": {
      "image/png": "[encoded data removed]",
      "text/plain": [
       "<Figure size 432x288 with 1 Axes>"
      ]
     },
     "metadata": {},
     "output_type": "display_data"
    }
   ],
   "source": [
    "thinkplot.PrePlot(2)\n",
    "thinkplot.Plot([0, 0], [0, 1], color='0.8')\n",
    "ht.PlotCdf(label='Hipótese nula')\n",
    "\n",
    "thinkplot.Cdf(reamostragem_cdf, label='reamostragem')\n",
    "\n",
    "thinkplot.Config(xlabel='slope',\n",
    "                 ylabel='CDF',\n",
    "                 xlim=[-0.5, 1.25],\n",
    "                 legend=True, loc='upper left')"
   ]
  },
  {
   "cell_type": "raw",
   "metadata": {},
   "source": [
    "◘ Podemos calcular o valor-p de duas maneiras:\n",
    "    • Calcular a probabilidade de a inclinação sob a hipótese nula exceder a inclinação observada;\n",
    "    • Calcular a probabilidade de que a inclinação na distribuição amostral caia abaixo de 0.\n",
    "    • Se a inclinação estimada fosse negativa, calcularíamos a probabilidade de que a inclinação na distribuição amostral excedesse 0."
   ]
  },
  {
   "cell_type": "markdown",
   "metadata": {},
   "source": [
    "### Capítulo 11 - Regressão"
   ]
  },
  {
   "cell_type": "markdown",
   "metadata": {},
   "source": [
    "◘ O objetivo da análise de regressão é descrever a relação entre um conjunto de variáveis, variáveis dependentes, e outro conjunto de variáveis, variáveis independentes/explicativas.\n",
    "\n",
    "Se a relação entre a variável dependente e explanatória é linear, isto é, regressão linear.\n",
    "\n",
    "\\begin{equation}\n",
    "    y = \\beta_{0} + \\beta_{1}x_{1} + \\beta_{2}x_{2} + \\epsilon\n",
    "\\end{equation}\n",
    "\n",
    "onde,\n",
    "\n",
    "- $x_{1}$ and $x_{2}$ = Variable Explanatory\n",
    "- y = Variable Dependent\n",
    "- $\\beta_{0}$ = Intercept\n",
    "- $\\beta_{1}$ and $\\beta_{2}$  = Parameter associated\n",
    "- $\\epsilon$ = Residual\n",
    "\n",
    "◘ Dada uma sequência de valores para y e sequência para $x_{1}$ and $x_{2}$, podemos encontrar os parâmetros, $\\beta_{0}$, $\\beta_{1}$, and $\\beta_{2}$, que minimiza a soma $ε^{2}$. Este processo pe chamado de mínimos quadrados ordinários.\n",
    "\n",
    "◘ Neste capítulo, passamos à regressão múltipla, com mais de uma variável explicativa. Se houver mais de uma variável dependente, isso é uma regressão multivariada"
   ]
  },
  {
   "cell_type": "markdown",
   "metadata": {},
   "source": [
    "#### StatsModels"
   ]
  },
  {
   "cell_type": "raw",
   "metadata": {},
   "source": [
    "◘ StatsModels, um pacote Python que fornece várias formas de regressão e outras análises. "
   ]
  },
  {
   "cell_type": "code",
   "execution_count": 114,
   "metadata": {},
   "outputs": [
    {
     "name": "stdout",
     "output_type": "stream",
     "text": [
      "                            OLS Regression Results                            \n",
      "==============================================================================\n",
      "Dep. Variable:                Natural   R-squared:                       0.455\n",
      "Model:                            OLS   Adj. R-squared:                  0.418\n",
      "Method:                 Least Squares   F-statistic:                     12.51\n",
      "Date:                Thu, 11 Jul 2019   Prob (F-statistic):            0.00299\n",
      "Time:                        15:57:25   Log-Likelihood:                -115.82\n",
      "No. Observations:                  17   AIC:                             235.6\n",
      "Df Residuals:                      15   BIC:                             237.3\n",
      "Df Model:                           1                                         \n",
      "Covariance Type:            nonrobust                                         \n",
      "==============================================================================\n",
      "                 coef    std err          t      P>|t|      [0.025      0.975]\n",
      "------------------------------------------------------------------------------\n",
      "Intercept   -306.4137    308.503     -0.993      0.336    -963.973     351.145\n",
      "Chuva          0.8075      0.228      3.537      0.003       0.321       1.294\n",
      "==============================================================================\n",
      "Omnibus:                        5.749   Durbin-Watson:                   0.886\n",
      "Prob(Omnibus):                  0.056   Jarque-Bera (JB):                3.197\n",
      "Skew:                           0.989   Prob(JB):                        0.202\n",
      "Kurtosis:                       3.774   Cond. No.                     7.34e+03\n",
      "==============================================================================\n",
      "\n",
      "Warnings:\n",
      "[1] Standard Errors assume that the covariance matrix of the errors is correctly specified.\n",
      "[2] The condition number is large, 7.34e+03. This might indicate that there are\n",
      "strong multicollinearity or other numerical problems.\n"
     ]
    }
   ],
   "source": [
    "import statsmodels.formula.api as smf\n",
    "formula = \"Natural ~ Chuva\" #o operador ~ separa a variável dependente à esquerda das variáveis independentes à direita\n",
    "model = smf.ols(formula, data=chuva_vazao_ah) #Pega a string fórmula, e o dataframe dos dados e fornece um objeto de \n",
    "                                     #\"Mínimos quadrados ordinários.\" (OLS) que representa o modelo\n",
    "results=model.fit() # Ajusta o modelo aos dados e retorna um objeto RegressionResults que contém os resultados.\n",
    "print(results.summary())"
   ]
  },
  {
   "cell_type": "raw",
   "metadata": {},
   "source": [
    "    ◘ O valor de p associado à Chuva é 0.00299.\n",
    "    ◘ Os resultados também fornecem f_pvalue, que é o valor p associado ao modelo como um todo, semelhante a testar se R2 é estatisticamente significativo.\n",
    "    ◘ E os resultados fornecem resid, uma sequência de residuais e valores ajustados, uma sequência de valores ajustados correspondentes à Chuva."
   ]
  },
  {
   "cell_type": "code",
   "execution_count": 115,
   "metadata": {},
   "outputs": [
    {
     "name": "stdout",
     "output_type": "stream",
     "text": [
      "Intercept: -306.41 \n",
      "Slope: 0.81\n"
     ]
    }
   ],
   "source": [
    "intercept = results.params['Intercept']\n",
    "slope = results.params['Chuva']\n",
    "print('Intercept: {} \\nSlope: {}'.format(round(intercept,2),round(slope,2)))"
   ]
  },
  {
   "cell_type": "code",
   "execution_count": 130,
   "metadata": {},
   "outputs": [
    {
     "data": {
      "image/png": "[encoded data removed]",
      "text/plain": [
       "<Figure size 432x288 with 1 Axes>"
      ]
     },
     "metadata": {},
     "output_type": "display_data"
    }
   ],
   "source": [
    "# Generate theoretical x and y data: x_theor, y_theor\n",
    "x_theor = np.array([chuva_vazao_ah['Chuva'].min(), chuva_vazao_ah['Chuva'].max()])\n",
    "y_theor = x_theor * slope + intercept\n",
    "\n",
    "# Plot the Anscombe data and theoretical line\n",
    "_ = plt.plot(chuva_vazao_ah['Chuva'], chuva_vazao_ah['Natural'], marker='.', linestyle='none')\n",
    "_ = plt.plot(x_theor, y_theor, marker=' ', linestyle='-')\n",
    "\n",
    "# Label the axes\n",
    "plt.xlabel('Chuva (mm/ano)')\n",
    "plt.ylabel('Vazão Média Anual (m³/s)')\n",
    "\n",
    "# Show the plot\n",
    "plt.show()"
   ]
  },
  {
   "cell_type": "markdown",
   "metadata": {},
   "source": [
    "#### Regressões Multiplas"
   ]
  },
  {
   "cell_type": "raw",
   "metadata": {},
   "source": [
    "• Aqui tentaremos realizar a regressão onde a variável dependente é a vazão natural, e as variáveis independentes são a chuva e a vazão observada"
   ]
  },
  {
   "cell_type": "code",
   "execution_count": 124,
   "metadata": {},
   "outputs": [
    {
     "data": {
      "text/html": [
       "<div>\n",
       "<style scoped>\n",
       "    .dataframe tbody tr th:only-of-type {\n",
       "        vertical-align: middle;\n",
       "    }\n",
       "\n",
       "    .dataframe tbody tr th {\n",
       "        vertical-align: top;\n",
       "    }\n",
       "\n",
       "    .dataframe thead th {\n",
       "        text-align: right;\n",
       "    }\n",
       "</style>\n",
       "<table border=\"1\" class=\"dataframe\">\n",
       "  <thead>\n",
       "    <tr style=\"text-align: right;\">\n",
       "      <th></th>\n",
       "      <th>Chuva</th>\n",
       "      <th>Natural</th>\n",
       "      <th>Observada</th>\n",
       "    </tr>\n",
       "  </thead>\n",
       "  <tbody>\n",
       "    <tr>\n",
       "      <th>1975</th>\n",
       "      <td>881.5</td>\n",
       "      <td>379.52</td>\n",
       "      <td>1079.5</td>\n",
       "    </tr>\n",
       "    <tr>\n",
       "      <th>1976</th>\n",
       "      <td>1238.4</td>\n",
       "      <td>630.26</td>\n",
       "      <td>2479.6</td>\n",
       "    </tr>\n",
       "    <tr>\n",
       "      <th>1977</th>\n",
       "      <td>1321.9</td>\n",
       "      <td>581.93</td>\n",
       "      <td>1028.5</td>\n",
       "    </tr>\n",
       "    <tr>\n",
       "      <th>1978</th>\n",
       "      <td>1595.5</td>\n",
       "      <td>1109.96</td>\n",
       "      <td>6547.0</td>\n",
       "    </tr>\n",
       "    <tr>\n",
       "      <th>1979</th>\n",
       "      <td>1448.3</td>\n",
       "      <td>937.24</td>\n",
       "      <td>3845.0</td>\n",
       "    </tr>\n",
       "  </tbody>\n",
       "</table>\n",
       "</div>"
      ],
      "text/plain": [
       "       Chuva  Natural  Observada\n",
       "1975   881.5   379.52     1079.5\n",
       "1976  1238.4   630.26     2479.6\n",
       "1977  1321.9   581.93     1028.5\n",
       "1978  1595.5  1109.96     6547.0\n",
       "1979  1448.3   937.24     3845.0"
      ]
     },
     "execution_count": 124,
     "metadata": {},
     "output_type": "execute_result"
    }
   ],
   "source": [
    "vazao_obs_ah = vazoes_maximas['Observada'].to_frame()\n",
    "inicio = pd.to_datetime(['01/01/1975'])\n",
    "fim = pd.to_datetime(['31/03/1993'])\n",
    "vazao_obs_ah=vazao_obs_ah.loc[inicio[0]:fim[0]]\n",
    "vazao_obs_ah.index=vazao_obs_ah.index.year\n",
    "chuva_vazao_ah = pd.concat([chuva_vazao_ah,vazao_obs_ah],axis=1)\n",
    "chuva_vazao_ah.head()"
   ]
  },
  {
   "cell_type": "code",
   "execution_count": 125,
   "metadata": {},
   "outputs": [
    {
     "name": "stdout",
     "output_type": "stream",
     "text": [
      "                            OLS Regression Results                            \n",
      "==============================================================================\n",
      "Dep. Variable:                Natural   R-squared:                       0.761\n",
      "Model:                            OLS   Adj. R-squared:                  0.727\n",
      "Method:                 Least Squares   F-statistic:                     22.29\n",
      "Date:                Thu, 11 Jul 2019   Prob (F-statistic):           4.45e-05\n",
      "Time:                        16:18:21   Log-Likelihood:                -108.81\n",
      "No. Observations:                  17   AIC:                             223.6\n",
      "Df Residuals:                      14   BIC:                             226.1\n",
      "Df Model:                           2                                         \n",
      "Covariance Type:            nonrobust                                         \n",
      "==============================================================================\n",
      "                 coef    std err          t      P>|t|      [0.025      0.975]\n",
      "------------------------------------------------------------------------------\n",
      "Intercept     40.6958    226.722      0.179      0.860    -445.574     526.966\n",
      "Chuva          0.3227      0.194      1.665      0.118      -0.093       0.738\n",
      "Observada      0.1188      0.028      4.236      0.001       0.059       0.179\n",
      "==============================================================================\n",
      "Omnibus:                        1.645   Durbin-Watson:                   1.060\n",
      "Prob(Omnibus):                  0.439   Jarque-Bera (JB):                1.140\n",
      "Skew:                           0.613   Prob(JB):                        0.565\n",
      "Kurtosis:                       2.670   Cond. No.                     1.90e+04\n",
      "==============================================================================\n",
      "\n",
      "Warnings:\n",
      "[1] Standard Errors assume that the covariance matrix of the errors is correctly specified.\n",
      "[2] The condition number is large, 1.9e+04. This might indicate that there are\n",
      "strong multicollinearity or other numerical problems.\n"
     ]
    }
   ],
   "source": [
    "formula = \"Natural ~ Chuva + Observada\"\n",
    "model = smf.ols(formula, data=chuva_vazao_ah)\n",
    "results=model.fit()\n",
    "print(results.summary())"
   ]
  },
  {
   "cell_type": "code",
   "execution_count": 126,
   "metadata": {},
   "outputs": [],
   "source": [
    "intercept = results.params['Intercept']\n",
    "slope1 = results.params['Chuva']\n",
    "slope2 = results.params['Observada']"
   ]
  },
  {
   "cell_type": "code",
   "execution_count": 128,
   "metadata": {
    "scrolled": true
   },
   "outputs": [
    {
     "data": {
      "image/png": "[encoded data removed]",
      "text/plain": [
       "<Figure size 432x288 with 1 Axes>"
      ]
     },
     "metadata": {},
     "output_type": "display_data"
    }
   ],
   "source": [
    "# Generate theoretical x and y data: x_theor, y_theor\n",
    "x_theor = np.array([chuva_vazao_ah['Chuva'].min(), chuva_vazao_ah['Chuva'].max()])\n",
    "z_theor = np.array([chuva_vazao_ah['Observada'].min(), chuva_vazao_ah['Observada'].max()])\n",
    "y_theor = x_theor * slope1 + z_theor*slope2  + intercept\n",
    "\n",
    "# Plot the Anscombe data and theoretical line\n",
    "_ = plt.plot(chuva_vazao_ah['Chuva'], chuva_vazao_ah['Natural'], marker='.', linestyle='none')\n",
    "_ = plt.plot(x_theor, y_theor, marker=' ', linestyle='-')\n",
    "\n",
    "# Label the axes\n",
    "plt.xlabel('Chuva (mm/ano)')\n",
    "plt.ylabel('Vazão Média Anual Natural (m³/s)')\n",
    "\n",
    "# Show the plot\n",
    "plt.show()"
   ]
  },
  {
   "cell_type": "markdown",
   "metadata": {},
   "source": [
    "#### Exploração de Dados"
   ]
  },
  {
   "cell_type": "raw",
   "metadata": {},
   "source": [
    "◘ Alguns dos problema importantes na análise de regressão são\n",
    "    • Selecionar os conjutos de variáveis independentes a ser usado no modelo;\n",
    "    • Selecionar um conjutos apropriados de regressores;\n",
    "    • Filtrar os dados para obter os melhores regressores;\n",
    "\n",
    "◘ É ideal ysar o menor número de regressores possível, fazendo o modelo obter o custo mínimo de manuntenção;\n",
    "\n",
    "◘ Método\n",
    "    • Calcular p valor de R² para todas as variáveis;\n",
    "    • Verifica quais variáveis tem uma variabilidade;\n",
    "    • Observa se o conjunto de dados apresenta falhas;"
   ]
  },
  {
   "cell_type": "markdown",
   "metadata": {},
   "source": [
    "#### Regressão logística"
   ]
  },
  {
   "cell_type": "raw",
   "metadata": {},
   "source": [
    "◘ A regressão linear pode ser generalizada para lidar com outros tipos de variáveis dependentes.\n",
    "    •Regressão logística: Variável dependente for booleana\n",
    "    •Regressão de Poisson: Variável dependente é uma contagem inteira"
   ]
  },
  {
   "cell_type": "markdown",
   "metadata": {},
   "source": [
    "#### Estimação de parâmetros"
   ]
  },
  {
   "cell_type": "raw",
   "metadata": {},
   "source": [
    "◘ A regrassão logística não tem uma **solução fechada**;\n",
    "◘ Precisa ser resolvida **iterativamente**;"
   ]
  },
  {
   "cell_type": "markdown",
   "metadata": {},
   "source": [
    "### Capítulo 12 - Análise de Séries Temporais"
   ]
  },
  {
   "cell_type": "raw",
   "metadata": {},
   "source": [
    "◘ Como estamos ao longo de todo o livro trabalhando com séries temporais, as análises que se passaram cobriram boa parte do conteúdo."
   ]
  },
  {
   "cell_type": "markdown",
   "metadata": {},
   "source": [
    "#### Correlação serial"
   ]
  },
  {
   "cell_type": "raw",
   "metadata": {},
   "source": [
    "◘ Cada valor está correlacionado com o próximo valor da série; Pode ser calculado:\n",
    "    • Desloca a série temporal por um intervalo chamado lag;\n",
    "    • Calcular a correlação da série deslocada com a original."
   ]
  },
  {
   "cell_type": "code",
   "execution_count": 132,
   "metadata": {},
   "outputs": [
    {
     "name": "stdout",
     "output_type": "stream",
     "text": [
      "Correlação serial da Série de Vazões Naturais: 0.982 \n",
      "Correlação serial da Série de Vazões Observadas: 0.973\n"
     ]
    }
   ],
   "source": [
    "corr_serial_naturais = thinkstats2.SerialCorr(vazoes_sf['Natural'], lag=1)\n",
    "corr_serial_observadas = thinkstats2.SerialCorr(vazoes_sf['Observada'].dropna(), lag=1)\n",
    "print('Correlação serial da Série de Vazões Naturais: {} \\nCorrelação serial da Série de Vazões Observadas: {}'\n",
    "      .format(round(corr_serial_naturais,3),round(corr_serial_observadas,3)))"
   ]
  },
  {
   "cell_type": "markdown",
   "metadata": {},
   "source": [
    "#### Auto Correlação"
   ]
  },
  {
   "cell_type": "raw",
   "metadata": {},
   "source": [
    "◘ Correlação serial calculada para todos os lags.\n",
    "    • Outro nome para correlação serial, usado com mais frequência quando o defasagem não é 1."
   ]
  },
  {
   "cell_type": "code",
   "execution_count": 133,
   "metadata": {},
   "outputs": [],
   "source": [
    "import statsmodels.tsa.stattools as smtsa\n",
    "\n",
    "aut_corr_jusante = smtsa.acf(vazoes_sf['Natural'], nlags=365, unbiased=True)\n",
    "day = np.arange(0,366,1)"
   ]
  },
  {
   "cell_type": "code",
   "execution_count": 134,
   "metadata": {},
   "outputs": [
    {
     "data": {
      "image/png": "[encoded data removed]",
      "text/plain": [
       "<Figure size 432x288 with 1 Axes>"
      ]
     },
     "metadata": {},
     "output_type": "display_data"
    }
   ],
   "source": [
    "_=plt.plot(day,aut_corr_jusante)"
   ]
  },
  {
   "cell_type": "markdown",
   "metadata": {},
   "source": [
    "#### Predição"
   ]
  },
  {
   "cell_type": "raw",
   "metadata": {},
   "source": [
    "◘ A análise de séries temporais pode ser usada para investigar e, às vezes, explicar o comportamento de sistemas que variam no tempo. Também pode fazer previsões.\n",
    "\n",
    "◘ É importante quantificar o erro das previsões. Em outras palavras, queremos saber com que precisão a previsão é provável. Existem três fontes de erro que devemos levar em consideração:\n",
    "    • Erro de Amostragem: Baseada em parâmetros estimados;\n",
    "    • Variações Aleatórias: Variação em torno da tendência;\n",
    "    • Erro de modelagem: Erro em modelos, por exemplo, modelo linear.\n",
    "    • Outro erro pode ser considerado, os acontecimentos inesperados;\n",
    "\n",
    "◘ Erro de amostragem e variações aleatórias são mais fáceis de quantificar;\n",
    "\n",
    "◘ Erros de amostragens podem ser quantificados utilizando reamostragem;"
   ]
  }
 ],
 "metadata": {
  "kernelspec": {
   "display_name": "Python 3",
   "language": "python",
   "name": "python3"
  },
  "language_info": {
   "codemirror_mode": {
    "name": "ipython",
    "version": 3
   },
   "file_extension": ".py",
   "mimetype": "text/x-python",
   "name": "python",
   "nbconvert_exporter": "python",
   "pygments_lexer": "ipython3",
   "version": "3.6.7"
  }
 },
 "nbformat": 4,
 "nbformat_minor": 2
}
