{
 "cells": [
  {
   "cell_type": "markdown",
   "metadata": {},
   "source": [
    "# Bayesian Model Averaging\n",
    "\n",
    "Jennifer A. Hoeting, David Madigan, Adrian E. Raftery and Chris T. Volinsky"
   ]
  },
  {
   "cell_type": "markdown",
   "metadata": {},
   "source": [
    "## Introdução\n",
    "\n",
    "- Uma pesquisadora coletou dados sobre o câncer do esôfago e decidiu usar um modelo M* de regressão de riscos proporcionais para analisar os dados;\n",
    "- Suponha que existe um modelo alternativo M**, que também fornece um bom ajuste aos dados, mas leva a conclusões diferentes;\n",
    "- Basear as inferências apenas em M* é arriscado;\n",
    "- O cálculo da (BMA) fornece uma forma de contornar este problema;\n",
    "\n",
    "<img src=\"inferencia.png\" width=\"400\">\n"
   ]
  },
  {
   "cell_type": "markdown",
   "metadata": {},
   "source": [
    "\\begin{equation}\n",
    "    pr(\\Delta|D) = \\sum_{k=1}^{K} pr(\\Delta|M_{k},D)pr(M_{k}|D)\n",
    "\\end{equation}\n",
    "\n",
    "onde, \n",
    "- $\\Delta$ é a quantidade de interesse;\n",
    "- $M_k$ são os modelos considerados;\n",
    "- $pr(\\Delta|D)$ é a distribuição posterior dos dados $D$;\n",
    "- $pr(M_{k}|D)$ é a probabilidade posteriori para os modelos $M_k$\n",
    "- $pr(\\Delta|M_{k},D)$ é a distribuição posteriori para os modelos $M_k$\n",
    "\n",
    "Esta é uma **média das distribuições posteriori** sob cada um dos modelos considerados, **ponderada pela probabilidade** do modelo posterior;"
   ]
  },
  {
   "cell_type": "markdown",
   "metadata": {},
   "source": [
    "A probabilidade posteriori para o modelo $M_k$ é dada por\n",
    "\n",
    "\\begin{equation}\n",
    "    pr(M_{k}|D) = \\frac{pr(D|M_{k})pr(M_{k})}{\\sum_{l=1}^{K} pr(D|M_{l})pr(M_{l})}\n",
    "\\end{equation}\n",
    "\n",
    "onde,\n",
    "- $pr(D|M_{k})$ é a probabilidade intregrada do modelo  $𝑀_𝑘$;\n",
    "- $pr(M_{k})$ é a probabilidade a priori de que $M_{k}$ seja o modelo verdadeiro;\n",
    "\n",
    "\\begin{equation}\n",
    "    pr(D|M_{k}) = \\int pr(D|\\theta_{k}, M_{k})pr(\\theta_{k}|M_{k})d\\theta_{k}\n",
    "\\end{equation}\n",
    "\n",
    "onde, \n",
    "- $\\theta_k$ é o vetor de parâmentro para o modelo $M_k$;\n",
    "- $pr(\\theta_k|M_k)$ é a densidade a priori sob o modelo $M_{k}$ de $\\theta_{k}$ sob o modelo $M_{k}$;\n",
    "- $pr(D|\\theta_{k}, M_{k})$ é a probabilidade\n",
    "\n",
    "Todas as probabilidade são implicitamente condicionada pelo conjunto de todos os modelos a serem considerados."
   ]
  },
  {
   "cell_type": "markdown",
   "metadata": {},
   "source": [
    "A média posteriori e a variância de $\\Delta$ são as seguintes:\n",
    "\\begin{equation}\n",
    "    E[\\Delta|D] = \\sum_{k=0}^{K} \\hat{\\Delta}_k pr(M_{k},D)\n",
    "\\end{equation}\n",
    "\n",
    "\\begin{equation}\n",
    "    Var[\\Delta|D] = \\sum_{k=0}^{K} (Var[\\Delta|D, M_{k}] + \\hat{\\Delta}_k^{2})pr(M_{k}|D)E[\\Delta|D]^{2},\n",
    "\\end{equation}\n",
    "\n",
    "\\begin{equation}\n",
    "    \\hat{\\Delta}_k = E[\\Delta|D, M_k] \n",
    "\\end{equation}\n",
    "\n",
    "O cálculo da média sobre todos os modelos proporciona uma melhor capacidade de previsão da média do que usar um único modelo;"
   ]
  },
  {
   "cell_type": "markdown",
   "metadata": {},
   "source": [
    "## Combinação de Modelos"
   ]
  },
  {
   "cell_type": "markdown",
   "metadata": {},
   "source": [
    "- Barnard (1963): A primeira menção de combinação de modelos; \n",
    "    - Aplicando aos dados de passageiros aéreos;\n",
    "- Bates e Granger (1969): Estimulou várias aplicações na economia dos anos 70;\n",
    "    - Previsão seminal;\n",
    "- Roberts (1965): Primeira aparição na literatura estatística;\n",
    "    - Trabalho inicial relacionado com o cálculo da média (Distribuição que combina dois modelos);\n",
    "- Leamer (1978): Expande esta ideia e apresenta o paradigma básico para BMA;\n",
    "    - BMA é resposável pelas incertezas envolvendo a escolha do modelo.\n",
    "- As desvantagens de descosiderar as incertezas dos modelos foram reconhecido por muitos autores;\n",
    "-  George (1999): Selecionando e discutindo BMA no contexto da teoria da decisão;\n",
    "- Draper (1995), Chatfield (1995), e Kass e Raftery (1995): Todos revisaram BMA e os custos de ignorar as incertezas;"
   ]
  },
  {
   "cell_type": "markdown",
   "metadata": {},
   "source": [
    "## Implementação do BMA"
   ]
  },
  {
   "cell_type": "markdown",
   "metadata": {},
   "source": [
    "Uma discursão geral para implemetação de BMA;"
   ]
  },
  {
   "cell_type": "markdown",
   "metadata": {},
   "source": [
    "### Gerenciando Somatório"
   ]
  },
  {
   "cell_type": "markdown",
   "metadata": {},
   "source": [
    "A quantidade de modelos interessantes torna impraticável o somatório;\n",
    "\n",
    "Abordagens para este problema:\n",
    "- A primeira abordagem é calcular a média sobre uma subconjunto de **modelos que são suportado** pelos dados; (Método Occam's window)\n",
    "\n",
    "    - Eum modelo prediz o dado distante menos bem do que modelos que providência as melhores predições, então foi efetivamente desacreditado e não deve mais ser considerado;\n",
    "    - Excluir modelos complexos que recebem menos suporte a partir dos dados que os seus homólogos mais simples;\n",
    "    \n",
    "\\begin{equation}\n",
    "    A' = \\{ M_{k}: \\frac{max_{l}\\{pr(M_{l}|D)\\}}{pr(M_{k}|D}) \\leq C \\}\n",
    "\\end{equation}\n",
    "\n",
    "\n",
    "\\begin{equation}\n",
    "    B = \\{ M_{k}: \\exists M_{l} \\in  A', M_{l} \\subset M_{k}, \\frac{pr(M_{l}|D)}{pr(M_{k}|D} > 1 \\}\n",
    "\\end{equation}\n",
    "\n",
    "e (1) é substituído por:\n",
    "\n",
    "\\begin{equation}\n",
    "    pr(\\Delta|D) = \\sum_{M_{k} \\in A} pr(\\Delta|M_{k},D)pr(M_{k},D),\n",
    "\\end{equation}\n",
    "\n",
    "onde $A = A'/B$ e todas as probabilidade são implicitamente condicional sobre o conjunde de modelos em $A$.\n",
    "\n",
    "- Identificar os modelos em $𝐴$;\n"
   ]
  },
  {
   "cell_type": "markdown",
   "metadata": {},
   "source": [
    "Os modelos são reduzido para menos de 100 modelos e frequentemente para menos de 10;"
   ]
  },
  {
   "cell_type": "markdown",
   "metadata": {},
   "source": [
    "A segunda abordagem, a composição do modelo da cadeia de Markov Monte Carlo ( 𝑀𝐶3 ), usa o método de cadeia de Markov Monte Carlo para aproximar (1);\n",
    "\n",
    "- O  $𝑀𝐶^3$  oferece uma flexibilidade considerável;\n",
    "- As questões de convergência podem ser problemáticas;\n"
   ]
  },
  {
   "cell_type": "markdown",
   "metadata": {},
   "source": [
    "### Calculando integrais para BMA"
   ]
  },
  {
   "cell_type": "markdown",
   "metadata": {},
   "source": [
    "Outra **dificuldade na implementação do BMA** é que os **integrais** formulada em (3) e  implícita em (1) podem ser **difíceis de calcular**;\n",
    "- O método de Laplace (Tierney e Kadane, 1986) pode fornecer uma excelente aproximação para  $𝑝𝑟(𝐷|𝑀𝑘)$;\n",
    "- As Integrais de formulação fechada para a probabilidade marginal são avaliadas para os seguintes modelos:\n",
    "    - Gráficos discretos (e.g., Madigan e York, 1995);\n",
    "    - Regressão linear (e.g., Raftery, Madigan e Hoeting, 1997);\n",
    "- Taplin (1993) sugeriu a aproximação  𝑝𝑟(𝐴|𝐷)  por  𝑝𝑟(𝐴|𝑀𝑘,0,𝐷)  onde 0 é a estimativa de máxima verossimilhança parâmetro vector 0; referimo-nos a isto como a \"aproximação da MLE\";"
   ]
  },
  {
   "cell_type": "code",
   "execution_count": null,
   "metadata": {},
   "outputs": [],
   "source": []
  }
 ],
 "metadata": {
  "kernelspec": {
   "display_name": "Python 3",
   "language": "python",
   "name": "python3"
  },
  "language_info": {
   "codemirror_mode": {
    "name": "ipython",
    "version": 3
   },
   "file_extension": ".py",
   "mimetype": "text/x-python",
   "name": "python",
   "nbconvert_exporter": "python",
   "pygments_lexer": "ipython3",
   "version": "3.6.7"
  }
 },
 "nbformat": 4,
 "nbformat_minor": 2
}
