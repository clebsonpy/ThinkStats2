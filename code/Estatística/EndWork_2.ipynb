{
 "cells": [
  {
   "cell_type": "code",
   "execution_count": 1,
   "metadata": {},
   "outputs": [],
   "source": [
    "from __future__ import print_function, division\n",
    "\n",
    "%matplotlib inline\n",
    "\n",
    "import matplotlib.pyplot as plt\n",
    "import numpy as np\n",
    "import pandas as pd\n",
    "\n",
    "import thinkstats2\n",
    "import thinkplot\n",
    "import funcoes as fun"
   ]
  },
  {
   "cell_type": "code",
   "execution_count": 2,
   "metadata": {},
   "outputs": [],
   "source": [
    "dir_dados = \"dados_com_evap_manso.csv\"\n",
    "# \"MANSO\": Dados Naturais\n",
    "# \"COIMBRA_F\": Dados Observados\n",
    "# \"COIMBRA_P\": Dados de chuva\n",
    "dados = fun.dados(dir_dados, label=\"MANSO\")"
   ]
  },
  {
   "cell_type": "markdown",
   "metadata": {},
   "source": [
    "# Cap.: 3 - Função de Massa de Probabilidade"
   ]
  },
  {
   "cell_type": "markdown",
   "metadata": {},
   "source": [
    "A **Função de Massa de Probabilidade (PMF)** é uma maneira de representar uma distribuição e mapeia as probabilidade relativa de cada valor;\n",
    "\n",
    "- Probabilidade é a divisão da frequência pelo tamanho da amostra;\n",
    "\n",
    "Como a pmf é normalizada, a probilidade total é 1;"
   ]
  },
  {
   "cell_type": "code",
   "execution_count": 3,
   "metadata": {},
   "outputs": [],
   "source": [
    "#Mês ínicio do ano hidrológico\n",
    "inicio = fun.month_start_year_hydrologic(dados)\n",
    "\n",
    "#Dados de máximas anuais\n",
    "dados_max = fun.annual(dados, inicio)"
   ]
  },
  {
   "cell_type": "code",
   "execution_count": 4,
   "metadata": {},
   "outputs": [],
   "source": [
    "#plotar hidrograma de máximas anuais"
   ]
  },
  {
   "cell_type": "code",
   "execution_count": 14,
   "metadata": {},
   "outputs": [
    {
     "name": "stdout",
     "output_type": "stream",
     "text": [
      "Probabilidade Total:  1.0000000000000002\n"
     ]
    }
   ],
   "source": [
    "#PMF\n",
    "pmf = thinkstats2.Pmf(dados_max)\n",
    "print('Probabilidade Total: ', pmf.Total())"
   ]
  },
  {
   "cell_type": "markdown",
   "metadata": {},
   "source": [
    "Pmf e Hist são objetos similires em muitos aspectos;\n",
    "\n",
    "A diferneça é:\n",
    "- **Hist** contabiliza valores inteiros;\n",
    "- **PMF** contabiliza probabilidades de ponto flutuantes;"
   ]
  },
  {
   "cell_type": "code",
   "execution_count": 29,
   "metadata": {},
   "outputs": [
    {
     "data": {
      "image/png": "[encoded data removed]",
      "text/plain": [
       "<Figure size 864x432 with 2 Axes>"
      ]
     },
     "metadata": {
      "needs_background": "light"
     },
     "output_type": "display_data"
    }
   ],
   "source": [
    "thinkplot.PrePlot(1, cols=2)\n",
    "_ = plt.hist(dados_max, bins=12, color='black')\n",
    "thinkplot.Config(xlabel='Vazão', ylabel='Frequência')\n",
    "\n",
    "thinkplot.SubPlot(2)\n",
    "_ = plt.hist(pmf, bins=12, normed=True, color='black')\n",
    "thinkplot.Config(xlabel='Vazão', ylabel='Probabilidade')"
   ]
  },
  {
   "cell_type": "code",
   "execution_count": 31,
   "metadata": {},
   "outputs": [
    {
     "data": {
      "text/plain": [
       "0.005709527774473655"
      ]
     },
     "execution_count": 31,
     "metadata": {},
     "output_type": "execute_result"
    }
   ],
   "source": []
  }
 ],
 "metadata": {
  "kernelspec": {
   "display_name": "Python 3",
   "language": "python",
   "name": "python3"
  },
  "language_info": {
   "codemirror_mode": {
    "name": "ipython",
    "version": 3
   },
   "file_extension": ".py",
   "mimetype": "text/x-python",
   "name": "python",
   "nbconvert_exporter": "python",
   "pygments_lexer": "ipython3",
   "version": "3.6.7"
  }
 },
 "nbformat": 4,
 "nbformat_minor": 2
}
