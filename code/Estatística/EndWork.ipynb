{
 "cells": [
  {
   "cell_type": "code",
   "execution_count": 1,
   "metadata": {},
   "outputs": [],
   "source": [
    "#Import package\n",
    "from __future__ import print_function, division\n",
    "\n",
    "%matplotlib inline\n",
    "\n",
    "import matplotlib.pyplot as plt\n",
    "import numpy as np\n",
    "import pandas as pd\n",
    "\n",
    "import thinkstats2\n",
    "import thinkplot"
   ]
  },
  {
   "cell_type": "markdown",
   "metadata": {},
   "source": [
    "# Cap.: 1 - Análise Exploratória dos dados"
   ]
  },
  {
   "cell_type": "markdown",
   "metadata": {},
   "source": [
    "**Informação não confirmada**: São baseados em dados que são inéditos e normalmente pessoais.\n",
    "\n",
    "Os dados de **informações não confirmadas** normalmente falha pelo seguintes problemas:\n",
    "\n",
    "- Pequeno número de observação;\n",
    "\n",
    "- Viés de seleção;\n",
    "\n",
    "- Viés de confirmação;\n",
    "\n",
    "- Inexatidão;\n",
    "\n",
    "Alguns exemplo de dados não confirmados:\n",
    "\n",
    "- Ocorrência de uma determinada cheia (moradores relatam que ocorre a cada 2 anos);\n",
    "\n",
    "- Sobre um período do ano (se a cinza da fogueira do são joão amanhecer molhada, é sinal de um bom inverno no próximo ano);"
   ]
  },
  {
   "cell_type": "markdown",
   "metadata": {},
   "source": [
    "## Uma abordagem estatística"
   ]
  },
  {
   "cell_type": "markdown",
   "metadata": {},
   "source": [
    "São usadas algumas ferramentas estatísticas para diminuir as anetodas, essas ferramentas são:\n",
    "\n",
    "- Coleta de dados;\n",
    "\n",
    "- Estatísticas descritivas; \n",
    "\n",
    "- Análise exploratória de dados;\n",
    "\n",
    "- Estimativa;\n",
    "\n",
    "- Teste de hipóteses."
   ]
  },
  {
   "cell_type": "markdown",
   "metadata": {},
   "source": [
    "## Coleta de dados"
   ]
  },
  {
   "cell_type": "markdown",
   "metadata": {},
   "source": [
    "### Variáveis\n",
    "\n",
    "Nas diferentes aplicações foram utilizadas as seguintes variáveis:\n",
    "\n",
    "- Pluviométrica;\n",
    "    \n",
    "- Fluviométrica;\n",
    "\n",
    "- Evaporação;"
   ]
  },
  {
   "cell_type": "markdown",
   "metadata": {},
   "source": [
    "### Fontes de dados"
   ]
  },
  {
   "cell_type": "markdown",
   "metadata": {},
   "source": [
    "- **Séries de vazões naturais** (reconstituídas pela ONS);\n",
    "\n",
    "- **Séries de vazões observadas** (ANA):\n",
    "    \n",
    "    - Nome da Estação: UHE MANSO JUSANTE \n",
    "    \n",
    "    - Código: 66210000\n",
    "    \n",
    "    - Nome da Estação: FAZENDA RAIZAMA (COIMBRA)\n",
    "    \n",
    "    - Código: 66231000\n",
    "    \n",
    "- **Séries de chuvas observadas** (ANA):\n",
    "\n",
    "    - Nome da Estação: FAZENDA RAIZAMA (COIMBRA)\n",
    "    \n",
    "    - Código: 01455008\n",
    "    \n",
    "- **Séries de Evapotranspiração** (INMET):\n",
    "\n",
    "    - Estação: CUIABÁ\n",
    "    \n",
    "    - Código: 83361\n",
    "    \n",
    "    - Estação: DIAMANTINO\n",
    "    \n",
    "    - Código: 83309\n",
    "    \n",
    "    - Estação: PADRE RICARDO REMETTER\n",
    "    \n",
    "    - Código: 83364"
   ]
  },
  {
   "cell_type": "markdown",
   "metadata": {},
   "source": [
    "### Importando os dados"
   ]
  },
  {
   "cell_type": "markdown",
   "metadata": {},
   "source": [
    "Os dados foram tratados e exportados para um arquivo .csv"
   ]
  },
  {
   "cell_type": "code",
   "execution_count": 2,
   "metadata": {},
   "outputs": [],
   "source": [
    "dados = pd.read_csv(\"dados_com_evap_manso.csv\", index_col=0, parse_dates=True)"
   ]
  },
  {
   "cell_type": "markdown",
   "metadata": {},
   "source": [
    "![](gantt_manso_com_evap.png)"
   ]
  },
  {
   "cell_type": "markdown",
   "metadata": {},
   "source": [
    "# Cap.: 2 - Distribuições"
   ]
  },
  {
   "cell_type": "markdown",
   "metadata": {},
   "source": [
    "Histograma para dados de vazão diária;"
   ]
  },
  {
   "cell_type": "code",
   "execution_count": 8,
   "metadata": {},
   "outputs": [
    {
     "data": {
      "image/png": "[encoded data removed]",
      "text/plain": [
       "<Figure size 432x288 with 2 Axes>"
      ]
     },
     "metadata": {
      "needs_background": "light"
     },
     "output_type": "display_data"
    }
   ],
   "source": [
    "date_start = pd.to_datetime(\"01/01/1982\", dayfirst=True)\n",
    "date_end = pd.to_datetime(\"31/12/1986\", dayfirst=True)\n",
    "dados_ = dados.loc[date_start:date_end]\n",
    "fig, axs = plt.subplots(1, 2, sharey=True, tight_layout=True)\n",
    "_ = axs[0].hist(dados_.MANSO, bins=100, label='Manso_Nat')\n",
    "_ = axs[1].hist(dados_.COIMBRA_F, bins=100, label='Manso_Obs')\n"
   ]
  },
  {
   "cell_type": "code",
   "execution_count": null,
   "metadata": {},
   "outputs": [],
   "source": []
  }
 ],
 "metadata": {
  "kernelspec": {
   "display_name": "Python 3",
   "language": "python",
   "name": "python3"
  },
  "language_info": {
   "codemirror_mode": {
    "name": "ipython",
    "version": 3
   },
   "file_extension": ".py",
   "mimetype": "text/x-python",
   "name": "python",
   "nbconvert_exporter": "python",
   "pygments_lexer": "ipython3",
   "version": "3.6.7"
  }
 },
 "nbformat": 4,
 "nbformat_minor": 2
}
