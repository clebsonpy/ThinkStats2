{
 "cells": [
  {
   "cell_type": "markdown",
   "metadata": {},
   "source": [
    "# Função de Distribuição Acumulada(Cap4) - Pense Estatística, 2º Edição.\n",
    "\n",
    "## Universidade Federal de Alagoas - UFAL\n",
    "## Centro de Tecnologia - CTEC\n",
    "## Programa de Pós-Graduação Recursos Hídricos e Saneamento - PPGRHS\n",
    "### Disciplina de Estatística\n",
    "\n",
    "Clebson Farias"
   ]
  },
  {
   "cell_type": "code",
   "execution_count": 1,
   "metadata": {},
   "outputs": [],
   "source": [
    "from __future__ import print_function, division\n",
    "\n",
    "%matplotlib inline\n",
    "\n",
    "import numpy as np\n",
    "import pandas as pd\n",
    "\n",
    "import thinkstats2\n",
    "import thinkplot"
   ]
  },
  {
   "cell_type": "markdown",
   "metadata": {},
   "source": [
    "# Os limites das PMFs\n",
    "- As Pmfs funcionam bem para tamanhos pequenos;\n",
    "- Com o aumento do tamanho, a probabilidade diminui e aumenta os ruídos;\n",
    "- Quando se tem uma amostra grande, é difícil de se fazer comparações usando uma Pmf;\n",
    "- Podemos usar categorias para minizar esse problema, mas difícil de obter o tamanho de cada categoria;\n",
    "- Uma outra solução é utilizar Função de Distribuição Acumulada (no inglês CDF)."
   ]
  },
  {
   "cell_type": "markdown",
   "metadata": {},
   "source": [
    "# Percentis\n",
    "- O percentil é o valor de uma evento ser menor ou igual;\n",
    "- Percentil Rank: Calcula a classificação percentual do valor(recebido) em um conjunto de valores;\n",
    "- Percentil: Calcula o valor correspondente ao percentil(recebido);\n"
   ]
  },
  {
   "cell_type": "markdown",
   "metadata": {},
   "source": [
    "# CDFs\n",
    "- A CDF mapeia os valores para um rank percentil;\n",
    "- Para avaliar valor particular de x, calculamos a fração de valores na distribuição menor ou igual a x;\n",
    "- Na CDF podemos avaliar qualquer valor, não apenas valores que aparecem na amostra;\n"
   ]
  },
  {
   "cell_type": "markdown",
   "metadata": {},
   "source": [
    "# Representando CDFs\n",
    "- thinkstats2 fornece uma classe chamada Cdf que representa CDFs;\n",
    "\n",
    "Principais métodos:\n",
    "- Prob(x): Dado um valor x, retorna a probabilidade;\n",
    "- Value(p): Dado uma probabilidade, retorna o valor;\n",
    "\n",
    "O contrutor recebe os argumentos:\n",
    "- List;\n",
    "- Series pandas;\n",
    "- Hist;\n",
    "- Pmf;\n",
    "- Cdf."
   ]
  },
  {
   "cell_type": "code",
   "execution_count": 2,
   "metadata": {},
   "outputs": [
    {
     "data": {
      "text/html": [
       "<div>\n",
       "<style scoped>\n",
       "    .dataframe tbody tr th:only-of-type {\n",
       "        vertical-align: middle;\n",
       "    }\n",
       "\n",
       "    .dataframe tbody tr th {\n",
       "        vertical-align: top;\n",
       "    }\n",
       "\n",
       "    .dataframe thead th {\n",
       "        text-align: right;\n",
       "    }\n",
       "</style>\n",
       "<table border=\"1\" class=\"dataframe\">\n",
       "  <thead>\n",
       "    <tr style=\"text-align: right;\">\n",
       "      <th></th>\n",
       "      <th>Dados</th>\n",
       "    </tr>\n",
       "    <tr>\n",
       "      <th>Date</th>\n",
       "      <th></th>\n",
       "    </tr>\n",
       "  </thead>\n",
       "  <tbody>\n",
       "    <tr>\n",
       "      <th>1931-01-01</th>\n",
       "      <td>5512.0</td>\n",
       "    </tr>\n",
       "    <tr>\n",
       "      <th>1931-01-02</th>\n",
       "      <td>5512.0</td>\n",
       "    </tr>\n",
       "    <tr>\n",
       "      <th>1931-01-03</th>\n",
       "      <td>5515.0</td>\n",
       "    </tr>\n",
       "    <tr>\n",
       "      <th>1931-01-04</th>\n",
       "      <td>5525.0</td>\n",
       "    </tr>\n",
       "    <tr>\n",
       "      <th>1931-01-05</th>\n",
       "      <td>5547.0</td>\n",
       "    </tr>\n",
       "  </tbody>\n",
       "</table>\n",
       "</div>"
      ],
      "text/plain": [
       "             Dados\n",
       "Date              \n",
       "1931-01-01  5512.0\n",
       "1931-01-02  5512.0\n",
       "1931-01-03  5515.0\n",
       "1931-01-04  5525.0\n",
       "1931-01-05  5547.0"
      ]
     },
     "execution_count": 2,
     "metadata": {},
     "output_type": "execute_result"
    }
   ],
   "source": [
    "dados = pd.read_csv('dadosXingo.csv', index_col=0, names=[\"Date\", \"Dados\"], parse_dates=True)\n",
    "dados.head()"
   ]
  },
  {
   "cell_type": "code",
   "execution_count": 3,
   "metadata": {},
   "outputs": [
    {
     "data": {
      "text/plain": [
       "Cdf([  184.26   201.29   201.96 ... 18487.   18496.   18851.  ], [3.22102686e-05 6.44205373e-05 9.66308059e-05 ... 9.99935579e-01\n",
       " 9.99967790e-01 1.00000000e+00])"
      ]
     },
     "execution_count": 3,
     "metadata": {},
     "output_type": "execute_result"
    }
   ],
   "source": [
    "cdf = thinkstats2.Cdf(dados.Dados)\n",
    "cdf"
   ]
  },
  {
   "cell_type": "code",
   "execution_count": 4,
   "metadata": {},
   "outputs": [
    {
     "data": {
      "image/png": "[encoded data removed]",
      "text/plain": [
       "<Figure size 432x288 with 1 Axes>"
      ]
     },
     "metadata": {
      "needs_background": "light"
     },
     "output_type": "display_data"
    },
    {
     "data": {
      "text/plain": [
       "<Figure size 576x432 with 0 Axes>"
      ]
     },
     "metadata": {},
     "output_type": "display_data"
    }
   ],
   "source": [
    "thinkplot.Cdf(cdf)\n",
    "thinkplot.Show(xlabel='Vazão', ylabel='CDF')"
   ]
  },
  {
   "cell_type": "markdown",
   "metadata": {},
   "source": [
    "- A CDF também fornece uma representação visual da forma da distribuição;\n",
    "- Os valores mais comuns aparecem na parte mais íngreme da CDF;\n",
    "- As informações de uma CDF são apresentadas com mais clareza do que uma PMF;"
   ]
  },
  {
   "cell_type": "markdown",
   "metadata": {},
   "source": [
    "# Comparando CDFs\n",
    "- As CDFs são especialmente úteis para comparações;\n",
    "- As diferenças entre distribuições são mais claras na Cdf;\n"
   ]
  },
  {
   "cell_type": "markdown",
   "metadata": {},
   "source": [
    "# Estatísticas Baseadas em Percentil\n",
    "- A partir de uma CDF é fácil obter os percentil e rank percentil;\n",
    "\n",
    "A Classe Cdf fornece dois métodos:\n",
    "- PercentileRank(x): Dados uma valor x, retorna o percentil rank, 100·CDF(x).\n",
    "- Percentile(p): Dado uma rank percentil p, retorna um valor, x. Equivalente ao Value(p/100).\n",
    "\n",
    "Os percentil são usados para computar estatísticas baseadas em percentil;\n",
    "- Percentil 50°, corresponde ao valor central da distribuição, conhecido como mediana;\n",
    "- Outra estatítica é o intervalo interquantil, que é a diferença entre o percentil 75° e 25°;\n",
    "- Usados para resumir a forma de uma distribuição."
   ]
  },
  {
   "cell_type": "code",
   "execution_count": 10,
   "metadata": {},
   "outputs": [
    {
     "name": "stdout",
     "output_type": "stream",
     "text": [
      "Rank Percentil de 1000:  16.124460478000387\n",
      "Rank Percentil de 2000:  53.37563615280552\n",
      "Rank Percentil de 4000:  77.40771758036462\n"
     ]
    }
   ],
   "source": [
    "p1 = cdf.PercentileRank(1000)\n",
    "p2 = cdf.PercentileRank(2000)\n",
    "p4 = cdf.PercentileRank(4000)\n",
    "\n",
    "print('Rank Percentil de 1000: ', p1)\n",
    "print('Rank Percentil de 2000: ', p2)\n",
    "print('Rank Percentil de 4000: ', p4)"
   ]
  },
  {
   "cell_type": "code",
   "execution_count": 12,
   "metadata": {},
   "outputs": [
    {
     "name": "stdout",
     "output_type": "stream",
     "text": [
      "Valor referente ao percentil 25:  1165.0\n",
      "Valor referente ao percentil 50:  1849.0\n",
      "Valor referente ao percentil 75:  3709.0\n"
     ]
    }
   ],
   "source": [
    "q25 = cdf.Percentile(25)\n",
    "q50 = cdf.Percentile(50)\n",
    "q75 = cdf.Percentile(75)\n",
    "\n",
    "print('Valor referente ao percentil 25: ', q25)\n",
    "print('Valor referente ao percentil 50: ', q50)\n",
    "print('Valor referente ao percentil 75: ', q75)"
   ]
  },
  {
   "cell_type": "markdown",
   "metadata": {},
   "source": [
    "# Números Aleatórios\n",
    "- "
   ]
  },
  {
   "cell_type": "code",
   "execution_count": null,
   "metadata": {},
   "outputs": [],
   "source": []
  }
 ],
 "metadata": {
  "kernelspec": {
   "display_name": "Python 3",
   "language": "python",
   "name": "python3"
  },
  "language_info": {
   "codemirror_mode": {
    "name": "ipython",
    "version": 3
   },
   "file_extension": ".py",
   "mimetype": "text/x-python",
   "name": "python",
   "nbconvert_exporter": "python",
   "pygments_lexer": "ipython3",
   "version": "3.6.7"
  }
 },
 "nbformat": 4,
 "nbformat_minor": 2
}
